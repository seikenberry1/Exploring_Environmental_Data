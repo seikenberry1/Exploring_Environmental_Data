{
 "cells": [
  {
   "cell_type": "markdown",
   "id": "00cab46d",
   "metadata": {},
   "source": [
    "# Python Fundamentals\n",
    "\n",
    "Some familiarity with Python is ideal, but we'll start from the ground up, going through some of the basics of Python, from `hello world`, basic and more advanced data types, control structures, and user-defined functions.\n",
    "\n",
    "We'll pay special attention to some of the important language-specific features of Python.\n",
    "\n",
    "This is an ipynb--\"iPython notebook\"--file. It incorporates both code and markdown cells, so that you can include both code and documentation. This is part of the notion of \"literate programming\" and reproducible workflows.\n",
    "\n",
    "I'm a **markdown cell**. You can use my ilk to document what you're doing, while most of the cells below are **code** cells, that will execute Python code. You can also simply use comments, using `#`, in code cells to document.\n",
    "\n",
    "*Liberally add cells and experiment with the notions presented, to help internalize Python!*\n",
    "\n",
    "<img src=\"monty.jpg\" alt=\"Monty Python!\" style=\"width:500px;\"/>\n",
    "\n",
    "#### Goals for this notebook:\n",
    "\n",
    "- Scalar types and mutability vs. immutability\n",
    "- Variable name binding\n",
    "- Advanced types: Lists, Tuples, Dictionaries, and Sets\n",
    "- Introduce list comprehensions"
   ]
  },
  {
   "cell_type": "markdown",
   "id": "1b04f7e6",
   "metadata": {},
   "source": [
    "\n",
    "And overall Intro to Python overview:\n",
    "\n",
    "\n",
    "#### Pythonic programming\n",
    "\n",
    "- Review of Python basics and advanced types\n",
    "- List comprehensions, etc.\n",
    "- Control structures, functions, etc.\n",
    "- The Zen of Python\n",
    "\n",
    "\n",
    "#### Matplotlib\n",
    "\n",
    "- Fundamental plotting library for scientific computing and data science with Python\n",
    "- Interfaces with pandas, seaborn, and geopandas\n",
    "\n",
    "\n",
    "#### NumPy\n",
    "\n",
    "- numpy was developed for fast computation with large arrays\n",
    "- Fast vectorized operations without need for loops\n",
    "- C API for connecting NumPy with libraries written in C, C++, FORTRAN\n",
    "\n",
    "- NumPy stores data internally in large contiguous blocks of memory\n",
    "- NumPy libraries written in C and act on memory without Python interpreter overhead\n",
    "- Much faster than other Python data types\n",
    "\n",
    "\n",
    "#### Pandas\n",
    "\n",
    "- The pandas library is our fundamental library for working with tabular data/data frames.\n",
    "\n",
    "- pandas is often used with numerical computing tools NumPy and SciPy, analytical libraries like scikit-learn, and data visualization libraries such as matplotlib\n",
    "\n",
    "- Adopts parts of NumPy's style for array-based computing and data processing without `for` loops\n"
   ]
  },
  {
   "cell_type": "code",
   "execution_count": null,
   "id": "8d49bf4b",
   "metadata": {},
   "outputs": [],
   "source": [
    "### Note: The Anaconda or miniconda package manager is strongly recommended\n",
    "\n",
    "### Additionally, it is advisable to use a virtual environment\n",
    "### You can set up and install packages like so in the Anaconda terminal:\n",
    "\n",
    "#conda create -n my_env\n",
    "#conda activate my_env\n",
    "#conda config --env --add channels conda-forge\n",
    "#conda config --env --set channel_priority strict\n",
    "#conda install <my_package>\n",
    "\n",
    "### You may also need to install packages using \"pip install <package>\""
   ]
  },
  {
   "cell_type": "code",
   "execution_count": null,
   "id": "29bef665",
   "metadata": {},
   "outputs": [],
   "source": [
    "## The packages below are included with Anaconda, you'll need to install anew if you use a virtual environment or miniconda"
   ]
  },
  {
   "cell_type": "code",
   "execution_count": null,
   "id": "e04a97d4",
   "metadata": {},
   "outputs": [],
   "source": [
    "## At minimum we'll use matplotlib.pyplot and numpy for almost everything\n",
    "## And usually pandas too, so let's just import now:\n",
    "\n",
    "import matplotlib.pyplot as plt\n",
    "import numpy as np\n",
    "import pandas as pd\n",
    "\n",
    "\n",
    "#Note you can do things like:\n",
    "########\n",
    "\n",
    "#from numpy import sin\n",
    "\n",
    "#Or:\n",
    "#from numpy import *\n",
    "\n",
    "#I don't generally recommed doing the latter\n"
   ]
  },
  {
   "cell_type": "code",
   "execution_count": 31,
   "id": "adf9468f",
   "metadata": {},
   "outputs": [],
   "source": [
    "#Also, we will need geopandas shortly, so let's go ahead and get it now\n",
    "#####\n",
    "\n",
    "import geopandas as gpd"
   ]
  },
  {
   "cell_type": "markdown",
   "id": "c4f0664d",
   "metadata": {},
   "source": [
    "## Greeting the World + Basics"
   ]
  },
  {
   "cell_type": "markdown",
   "id": "8aa0d854",
   "metadata": {},
   "source": [
    "<img src=\"hello1.jpg\" alt=\"Hello World!\" style=\"width:325px;\"/>"
   ]
  },
  {
   "cell_type": "markdown",
   "id": "04d892f1",
   "metadata": {},
   "source": [
    "**Important Note:** Check out *Hyperbole and a Half*, if you haven't already:\n",
    "\n",
    "http://hyperboleandahalf.blogspot.com/\n",
    "<br>\n",
    "\n",
    "<img src=\"hyperbole.png\" alt=\"Hello World!\" style=\"width:400px;\"/>"
   ]
  },
  {
   "cell_type": "code",
   "execution_count": 37,
   "id": "e8550959",
   "metadata": {},
   "outputs": [
    {
     "name": "stdout",
     "output_type": "stream",
     "text": [
      "42 WORLD\n",
      "\n",
      "THIS IS SO GOOD\n"
     ]
    }
   ],
   "source": [
    "x = \"HELLO\"\n",
    "y = \"WORLD\"\n",
    "\n",
    "x = 42\n",
    "\n",
    "print(str(x) + ' ' + y + '\\n\\nTHIS IS SO GOOD')\n",
    "\n",
    "#Also,\n",
    "#x = 42\n",
    "#print(x, ' ', y, '\\n\\nTHIS IS SO GOOD')"
   ]
  },
  {
   "cell_type": "markdown",
   "id": "2120e5f9",
   "metadata": {},
   "source": [
    "### Python Scalar Types\n",
    "\n",
    "There are several basic single value *scalar* types in the standard Python library:\n",
    "\n",
    "\n",
    "| Type | Description |\n",
    "| :- | :- |\n",
    "| `None` | NULL, Only a single instance of `None` exists\n",
    "| `str` | String, UTF-8 encoded strings\n",
    "| `bytes` | Raw ASCII bytes\n",
    "| `float` | Double-precision (64-bit) float (no separate `double` type)\n",
    "| `int` | Arbitrary precision signed integer\n",
    "| `bool` | `True` or `False` boolean\n",
    "\n",
    "**Scalar types are always *immutable***"
   ]
  },
  {
   "cell_type": "code",
   "execution_count": 41,
   "id": "402731ee",
   "metadata": {},
   "outputs": [
    {
     "data": {
      "text/plain": [
       "float"
      ]
     },
     "execution_count": 41,
     "metadata": {},
     "output_type": "execute_result"
    }
   ],
   "source": [
    "#Implicit casting occurs only in very obvious cases:\n",
    "\n",
    "x = 5\n",
    "y = x + .1\n",
    "\n",
    "type(y)\n"
   ]
  },
  {
   "cell_type": "code",
   "execution_count": 43,
   "id": "f8cf9ee1",
   "metadata": {},
   "outputs": [
    {
     "data": {
      "text/plain": [
       "5.0"
      ]
     },
     "execution_count": 43,
     "metadata": {},
     "output_type": "execute_result"
    }
   ],
   "source": [
    "#Explicitly cast with:\n",
    "float(x)\n",
    "#int(x)\n",
    "#str(x)\n"
   ]
  },
  {
   "cell_type": "code",
   "execution_count": 46,
   "id": "b2b29705",
   "metadata": {},
   "outputs": [
    {
     "data": {
      "text/plain": [
       "5"
      ]
     },
     "execution_count": 46,
     "metadata": {},
     "output_type": "execute_result"
    }
   ],
   "source": [
    "#Stuff like this will fail:\n",
    "int(\"5.5\")"
   ]
  },
  {
   "cell_type": "markdown",
   "id": "4805e041",
   "metadata": {},
   "source": [
    "### Immutable these, all!"
   ]
  },
  {
   "cell_type": "code",
   "execution_count": 47,
   "id": "7caf9024",
   "metadata": {},
   "outputs": [
    {
     "data": {
      "text/plain": [
       "'0x1b8e1606650'"
      ]
     },
     "execution_count": 47,
     "metadata": {},
     "output_type": "execute_result"
    }
   ],
   "source": [
    "#Make a float:\n",
    "x = 1.1\n",
    "\n",
    "#Look at the id in memory:\n",
    "hex(id(x))"
   ]
  },
  {
   "cell_type": "code",
   "execution_count": 48,
   "id": "aea42658",
   "metadata": {},
   "outputs": [
    {
     "data": {
      "text/plain": [
       "'0x1b8e1606630'"
      ]
     },
     "execution_count": 48,
     "metadata": {},
     "output_type": "execute_result"
    }
   ],
   "source": [
    "#Now, do an operation on the float:\n",
    "x = x + 2\n",
    "\n",
    "#And id in memory?\n",
    "hex(id(x))"
   ]
  },
  {
   "cell_type": "code",
   "execution_count": 53,
   "id": "ec546187",
   "metadata": {},
   "outputs": [
    {
     "name": "stdout",
     "output_type": "stream",
     "text": [
      "True\n",
      "True\n"
     ]
    }
   ],
   "source": [
    "#So, x now refers to a new object\n",
    "\n",
    "# Note with ints, and bools:\n",
    "#######\n",
    "x = 4\n",
    "y = 3+1\n",
    "\n",
    "print(id(x) == id(y))\n",
    "\n",
    "#Bools:\n",
    "x = False\n",
    "y = 5 > 10\n",
    "\n",
    "print(id(x) == id(y))"
   ]
  },
  {
   "cell_type": "code",
   "execution_count": 54,
   "id": "e6ab7cab",
   "metadata": {},
   "outputs": [
    {
     "data": {
      "text/plain": [
       "True"
      ]
     },
     "execution_count": 54,
     "metadata": {},
     "output_type": "execute_result"
    }
   ],
   "source": [
    "## Can also use \"is\":\n",
    "\n",
    "x is y"
   ]
  },
  {
   "cell_type": "code",
   "execution_count": 55,
   "id": "3d25f98b",
   "metadata": {},
   "outputs": [
    {
     "data": {
      "text/plain": [
       "True"
      ]
     },
     "execution_count": 55,
     "metadata": {},
     "output_type": "execute_result"
    }
   ],
   "source": [
    "#Strings are also immutable!\n",
    "#####\n",
    "\n",
    "x = 'Monty'\n",
    "y = 'Monty'\n",
    "\n",
    "x is y"
   ]
  },
  {
   "cell_type": "code",
   "execution_count": 59,
   "id": "e237ff75",
   "metadata": {},
   "outputs": [
    {
     "data": {
      "text/plain": [
       "'Donty Python'"
      ]
     },
     "execution_count": 59,
     "metadata": {},
     "output_type": "execute_result"
    }
   ],
   "source": [
    "#Strings are also immutable!\n",
    "#####\n",
    "\n",
    "#This works just fine, assigning 'x' to new objects\n",
    "x = 'Monty'\n",
    "x = x + ' Python'\n",
    "\n",
    "#This does not work:\n",
    "#x[0] = 'D'\n",
    "\n",
    "#This does:\n",
    "x = 'D' + x[1:]\n",
    "\n",
    "x"
   ]
  },
  {
   "cell_type": "code",
   "execution_count": 60,
   "id": "fee692c5",
   "metadata": {},
   "outputs": [
    {
     "data": {
      "text/plain": [
       "True"
      ]
     },
     "execution_count": 60,
     "metadata": {},
     "output_type": "execute_result"
    }
   ],
   "source": [
    "#Note None: There is only one None, and it has the unique property of evaluating to neither True nor False\n",
    "x = None\n",
    "y = None\n",
    "\n",
    "x is y"
   ]
  },
  {
   "cell_type": "code",
   "execution_count": 61,
   "id": "2b9cea8d",
   "metadata": {},
   "outputs": [
    {
     "name": "stdout",
     "output_type": "stream",
     "text": [
      "False\n",
      "False\n"
     ]
    }
   ],
   "source": [
    "print(x == False)\n",
    "print(x == True)"
   ]
  },
  {
   "cell_type": "markdown",
   "id": "7db696f4",
   "metadata": {},
   "source": [
    "## Typing and Variable Name Binding\n",
    "\n",
    "- Everything in Python, including functions, etc. is a Python object, and has an associated type and internal data.\n",
    "\n",
    "\n",
    "- Any time you assign a variable you are creating a *reference* to the object on the righthand side.  Assignment is also known as *binding*: **Binding a name to an object.**\n",
    "\n",
    "\n",
    "- Python is a **strongly typed language**:  objects still have types and implicit conversions only occur in obvious cases.\n",
    "\n",
    "\n",
    "- But the references to objects have no type, so you can do stuff like:"
   ]
  },
  {
   "cell_type": "code",
   "execution_count": 62,
   "id": "e30232d1",
   "metadata": {},
   "outputs": [
    {
     "name": "stdout",
     "output_type": "stream",
     "text": [
      "I'm a  <class 'int'> , living at  0x1b8bb3369b0\n",
      "I'm a  <class 'str'> , living at  0x1b8e2c89260\n"
     ]
    }
   ],
   "source": [
    "a = 5\n",
    "print('I\\'m a ', type(a), ', living at ', hex(id(a)))\n",
    "\n",
    "a = 'I\\'m a string now!'\n",
    "print('I\\'m a ', type(a), ', living at ', hex(id(a)))"
   ]
  },
  {
   "cell_type": "markdown",
   "id": "9c27635d",
   "metadata": {},
   "source": [
    "#### Be very careful:\n",
    "\n",
    "Python uses \"pass by assignment\"\n",
    "\n",
    "- When passing variables to a function, *new local variables are created referencing the original objects*, without any copying\n",
    "\n",
    "- If you bind a new object to a passed variable within the function, the change is *not* reflected in the parent scope\n",
    "\n",
    "- However, you can alter *mutable* objects within the function and this *is* reflected in the parent scope\n",
    "\n",
    "For example:"
   ]
  },
  {
   "cell_type": "code",
   "execution_count": 63,
   "id": "a9012ccd",
   "metadata": {},
   "outputs": [
    {
     "name": "stdout",
     "output_type": "stream",
     "text": [
      "5\n"
     ]
    }
   ],
   "source": [
    "def foo1(x):\n",
    "    x = x + 1\n",
    "    \n",
    "y = 5\n",
    "foo1(y)\n",
    "print(y)"
   ]
  },
  {
   "cell_type": "code",
   "execution_count": 66,
   "id": "0c3392b4",
   "metadata": {},
   "outputs": [],
   "source": [
    "def foo1(x):\n",
    "    x = x + 1\n",
    "    \n",
    "def foo2(x):\n",
    "    x = [1, 2, 3]\n",
    "    \n",
    "def foo3(x):\n",
    "    x.append(99)"
   ]
  },
  {
   "cell_type": "code",
   "execution_count": 64,
   "id": "e3a03dcf",
   "metadata": {},
   "outputs": [
    {
     "name": "stdout",
     "output_type": "stream",
     "text": [
      "2\n"
     ]
    }
   ],
   "source": [
    "y = 2\n",
    "foo1(y)\n",
    "print(y) "
   ]
  },
  {
   "cell_type": "code",
   "execution_count": 67,
   "id": "fdf00101",
   "metadata": {},
   "outputs": [
    {
     "name": "stdout",
     "output_type": "stream",
     "text": [
      "[2]\n"
     ]
    }
   ],
   "source": [
    "y = [2]\n",
    "foo2(y)\n",
    "print(y)"
   ]
  },
  {
   "cell_type": "code",
   "execution_count": 68,
   "id": "edc018c4",
   "metadata": {},
   "outputs": [
    {
     "name": "stdout",
     "output_type": "stream",
     "text": [
      "[2, 99]\n"
     ]
    }
   ],
   "source": [
    "y = [2]\n",
    "foo3(y)\n",
    "print(y)"
   ]
  },
  {
   "cell_type": "markdown",
   "id": "d91d2f47",
   "metadata": {},
   "source": [
    "## Getting Help?\n"
   ]
  },
  {
   "cell_type": "code",
   "execution_count": 69,
   "id": "24b4feee",
   "metadata": {},
   "outputs": [],
   "source": [
    "?float"
   ]
  },
  {
   "cell_type": "code",
   "execution_count": 70,
   "id": "48924112",
   "metadata": {
    "scrolled": true
   },
   "outputs": [
    {
     "data": {
      "text/plain": [
       "['__add__',\n",
       " '__class__',\n",
       " '__contains__',\n",
       " '__delattr__',\n",
       " '__dir__',\n",
       " '__doc__',\n",
       " '__eq__',\n",
       " '__format__',\n",
       " '__ge__',\n",
       " '__getattribute__',\n",
       " '__getitem__',\n",
       " '__getnewargs__',\n",
       " '__gt__',\n",
       " '__hash__',\n",
       " '__init__',\n",
       " '__init_subclass__',\n",
       " '__iter__',\n",
       " '__le__',\n",
       " '__len__',\n",
       " '__lt__',\n",
       " '__mod__',\n",
       " '__mul__',\n",
       " '__ne__',\n",
       " '__new__',\n",
       " '__reduce__',\n",
       " '__reduce_ex__',\n",
       " '__repr__',\n",
       " '__rmod__',\n",
       " '__rmul__',\n",
       " '__setattr__',\n",
       " '__sizeof__',\n",
       " '__str__',\n",
       " '__subclasshook__',\n",
       " 'capitalize',\n",
       " 'casefold',\n",
       " 'center',\n",
       " 'count',\n",
       " 'encode',\n",
       " 'endswith',\n",
       " 'expandtabs',\n",
       " 'find',\n",
       " 'format',\n",
       " 'format_map',\n",
       " 'index',\n",
       " 'isalnum',\n",
       " 'isalpha',\n",
       " 'isascii',\n",
       " 'isdecimal',\n",
       " 'isdigit',\n",
       " 'isidentifier',\n",
       " 'islower',\n",
       " 'isnumeric',\n",
       " 'isprintable',\n",
       " 'isspace',\n",
       " 'istitle',\n",
       " 'isupper',\n",
       " 'join',\n",
       " 'ljust',\n",
       " 'lower',\n",
       " 'lstrip',\n",
       " 'maketrans',\n",
       " 'partition',\n",
       " 'removeprefix',\n",
       " 'removesuffix',\n",
       " 'replace',\n",
       " 'rfind',\n",
       " 'rindex',\n",
       " 'rjust',\n",
       " 'rpartition',\n",
       " 'rsplit',\n",
       " 'rstrip',\n",
       " 'split',\n",
       " 'splitlines',\n",
       " 'startswith',\n",
       " 'strip',\n",
       " 'swapcase',\n",
       " 'title',\n",
       " 'translate',\n",
       " 'upper',\n",
       " 'zfill']"
      ]
     },
     "execution_count": 70,
     "metadata": {},
     "output_type": "execute_result"
    }
   ],
   "source": [
    "dir(str)"
   ]
  },
  {
   "cell_type": "code",
   "execution_count": 71,
   "id": "163771fb",
   "metadata": {},
   "outputs": [],
   "source": [
    "x = [1,2,3]"
   ]
  },
  {
   "cell_type": "code",
   "execution_count": 72,
   "id": "694408ad",
   "metadata": {
    "scrolled": true
   },
   "outputs": [
    {
     "name": "stdout",
     "output_type": "stream",
     "text": [
      "Help on list object:\n",
      "\n",
      "class list(object)\n",
      " |  list(iterable=(), /)\n",
      " |  \n",
      " |  Built-in mutable sequence.\n",
      " |  \n",
      " |  If no argument is given, the constructor creates a new empty list.\n",
      " |  The argument must be an iterable if specified.\n",
      " |  \n",
      " |  Methods defined here:\n",
      " |  \n",
      " |  __add__(self, value, /)\n",
      " |      Return self+value.\n",
      " |  \n",
      " |  __contains__(self, key, /)\n",
      " |      Return key in self.\n",
      " |  \n",
      " |  __delitem__(self, key, /)\n",
      " |      Delete self[key].\n",
      " |  \n",
      " |  __eq__(self, value, /)\n",
      " |      Return self==value.\n",
      " |  \n",
      " |  __ge__(self, value, /)\n",
      " |      Return self>=value.\n",
      " |  \n",
      " |  __getattribute__(self, name, /)\n",
      " |      Return getattr(self, name).\n",
      " |  \n",
      " |  __getitem__(...)\n",
      " |      x.__getitem__(y) <==> x[y]\n",
      " |  \n",
      " |  __gt__(self, value, /)\n",
      " |      Return self>value.\n",
      " |  \n",
      " |  __iadd__(self, value, /)\n",
      " |      Implement self+=value.\n",
      " |  \n",
      " |  __imul__(self, value, /)\n",
      " |      Implement self*=value.\n",
      " |  \n",
      " |  __init__(self, /, *args, **kwargs)\n",
      " |      Initialize self.  See help(type(self)) for accurate signature.\n",
      " |  \n",
      " |  __iter__(self, /)\n",
      " |      Implement iter(self).\n",
      " |  \n",
      " |  __le__(self, value, /)\n",
      " |      Return self<=value.\n",
      " |  \n",
      " |  __len__(self, /)\n",
      " |      Return len(self).\n",
      " |  \n",
      " |  __lt__(self, value, /)\n",
      " |      Return self<value.\n",
      " |  \n",
      " |  __mul__(self, value, /)\n",
      " |      Return self*value.\n",
      " |  \n",
      " |  __ne__(self, value, /)\n",
      " |      Return self!=value.\n",
      " |  \n",
      " |  __repr__(self, /)\n",
      " |      Return repr(self).\n",
      " |  \n",
      " |  __reversed__(self, /)\n",
      " |      Return a reverse iterator over the list.\n",
      " |  \n",
      " |  __rmul__(self, value, /)\n",
      " |      Return value*self.\n",
      " |  \n",
      " |  __setitem__(self, key, value, /)\n",
      " |      Set self[key] to value.\n",
      " |  \n",
      " |  __sizeof__(self, /)\n",
      " |      Return the size of the list in memory, in bytes.\n",
      " |  \n",
      " |  append(self, object, /)\n",
      " |      Append object to the end of the list.\n",
      " |  \n",
      " |  clear(self, /)\n",
      " |      Remove all items from list.\n",
      " |  \n",
      " |  copy(self, /)\n",
      " |      Return a shallow copy of the list.\n",
      " |  \n",
      " |  count(self, value, /)\n",
      " |      Return number of occurrences of value.\n",
      " |  \n",
      " |  extend(self, iterable, /)\n",
      " |      Extend list by appending elements from the iterable.\n",
      " |  \n",
      " |  index(self, value, start=0, stop=9223372036854775807, /)\n",
      " |      Return first index of value.\n",
      " |      \n",
      " |      Raises ValueError if the value is not present.\n",
      " |  \n",
      " |  insert(self, index, object, /)\n",
      " |      Insert object before index.\n",
      " |  \n",
      " |  pop(self, index=-1, /)\n",
      " |      Remove and return item at index (default last).\n",
      " |      \n",
      " |      Raises IndexError if list is empty or index is out of range.\n",
      " |  \n",
      " |  remove(self, value, /)\n",
      " |      Remove first occurrence of value.\n",
      " |      \n",
      " |      Raises ValueError if the value is not present.\n",
      " |  \n",
      " |  reverse(self, /)\n",
      " |      Reverse *IN PLACE*.\n",
      " |  \n",
      " |  sort(self, /, *, key=None, reverse=False)\n",
      " |      Sort the list in ascending order and return None.\n",
      " |      \n",
      " |      The sort is in-place (i.e. the list itself is modified) and stable (i.e. the\n",
      " |      order of two equal elements is maintained).\n",
      " |      \n",
      " |      If a key function is given, apply it once to each list item and sort them,\n",
      " |      ascending or descending, according to their function values.\n",
      " |      \n",
      " |      The reverse flag can be set to sort in descending order.\n",
      " |  \n",
      " |  ----------------------------------------------------------------------\n",
      " |  Class methods defined here:\n",
      " |  \n",
      " |  __class_getitem__(...) from builtins.type\n",
      " |      See PEP 585\n",
      " |  \n",
      " |  ----------------------------------------------------------------------\n",
      " |  Static methods defined here:\n",
      " |  \n",
      " |  __new__(*args, **kwargs) from builtins.type\n",
      " |      Create and return a new object.  See help(type) for accurate signature.\n",
      " |  \n",
      " |  ----------------------------------------------------------------------\n",
      " |  Data and other attributes defined here:\n",
      " |  \n",
      " |  __hash__ = None\n",
      "\n"
     ]
    }
   ],
   "source": [
    "help(x)"
   ]
  },
  {
   "cell_type": "code",
   "execution_count": null,
   "id": "c5d27e50",
   "metadata": {},
   "outputs": [],
   "source": [
    "#Add <tab>:\n",
    "\n",
    "#x."
   ]
  },
  {
   "cell_type": "markdown",
   "id": "b8a66d3d",
   "metadata": {},
   "source": [
    "### Don't Forget to Comment!"
   ]
  },
  {
   "cell_type": "code",
   "execution_count": 78,
   "id": "56366308",
   "metadata": {},
   "outputs": [
    {
     "data": {
      "text/plain": [
       "'Also comment\\nBut also multi-line string'"
      ]
     },
     "execution_count": 78,
     "metadata": {},
     "output_type": "execute_result"
    }
   ],
   "source": [
    "### Comment!\n",
    "\n",
    "\"\"\"Also comment\n",
    "But also multi-line string\"\"\""
   ]
  },
  {
   "cell_type": "markdown",
   "id": "c114f25e",
   "metadata": {},
   "source": [
    "## Advanced variable types\n",
    "\n",
    "- Lists\n",
    "- Dictionaries\n",
    "- Tuples\n",
    "- Sets"
   ]
  },
  {
   "cell_type": "markdown",
   "id": "c67fe139",
   "metadata": {},
   "source": [
    "### Lists\n",
    "\n",
    "Lists are an ordered array-like structure that is *mutable*. List elements can be of any type, including other lists, dictionary, and tuples"
   ]
  },
  {
   "cell_type": "code",
   "execution_count": 79,
   "id": "4ba85289",
   "metadata": {},
   "outputs": [
    {
     "name": "stdout",
     "output_type": "stream",
     "text": [
      "[3, 5, 9.2, 'oye', ['a', 'b', 8.8, [1, 2, 3]]]\n"
     ]
    },
    {
     "data": {
      "text/plain": [
       "list"
      ]
     },
     "execution_count": 79,
     "metadata": {},
     "output_type": "execute_result"
    }
   ],
   "source": [
    "#Declare a list like so:\n",
    "L = [3, 5, 9.2, 'oye', ['a', 'b', 8.8, [1, 2,3]]] #Note the list as the last element of L\n",
    "\n",
    "print(L)\n",
    "type(L)"
   ]
  },
  {
   "cell_type": "code",
   "execution_count": 90,
   "id": "cc5aab5b",
   "metadata": {},
   "outputs": [
    {
     "data": {
      "text/plain": [
       "[9.2, 'oye', ['a', 'b', 8.8, [1, 2, 3]]]"
      ]
     },
     "execution_count": 90,
     "metadata": {},
     "output_type": "execute_result"
    }
   ],
   "source": [
    "#Access by index, starting at 0\n",
    "L[2:5]"
   ]
  },
  {
   "cell_type": "code",
   "execution_count": 91,
   "id": "28d13858",
   "metadata": {},
   "outputs": [
    {
     "data": {
      "text/plain": [
       "'a'"
      ]
     },
     "execution_count": 91,
     "metadata": {},
     "output_type": "execute_result"
    }
   ],
   "source": [
    "L[4][0]"
   ]
  },
  {
   "cell_type": "markdown",
   "id": "902998aa",
   "metadata": {},
   "source": [
    "#### Methods: Lists, like most Python objects, have methods that you can call..."
   ]
  },
  {
   "cell_type": "code",
   "execution_count": 93,
   "id": "e420e667",
   "metadata": {},
   "outputs": [
    {
     "data": {
      "text/plain": [
       "'00A'"
      ]
     },
     "execution_count": 93,
     "metadata": {},
     "output_type": "execute_result"
    }
   ],
   "source": [
    "#Note some useful string methods:\n",
    "#And how we \"chain\" methods:\n",
    "\n",
    "L[4][0].upper().zfill(3)"
   ]
  },
  {
   "cell_type": "code",
   "execution_count": 94,
   "id": "4ce5f0f8",
   "metadata": {},
   "outputs": [
    {
     "data": {
      "text/plain": [
       "['__add__',\n",
       " '__class__',\n",
       " '__class_getitem__',\n",
       " '__contains__',\n",
       " '__delattr__',\n",
       " '__delitem__',\n",
       " '__dir__',\n",
       " '__doc__',\n",
       " '__eq__',\n",
       " '__format__',\n",
       " '__ge__',\n",
       " '__getattribute__',\n",
       " '__getitem__',\n",
       " '__gt__',\n",
       " '__hash__',\n",
       " '__iadd__',\n",
       " '__imul__',\n",
       " '__init__',\n",
       " '__init_subclass__',\n",
       " '__iter__',\n",
       " '__le__',\n",
       " '__len__',\n",
       " '__lt__',\n",
       " '__mul__',\n",
       " '__ne__',\n",
       " '__new__',\n",
       " '__reduce__',\n",
       " '__reduce_ex__',\n",
       " '__repr__',\n",
       " '__reversed__',\n",
       " '__rmul__',\n",
       " '__setattr__',\n",
       " '__setitem__',\n",
       " '__sizeof__',\n",
       " '__str__',\n",
       " '__subclasshook__',\n",
       " 'append',\n",
       " 'clear',\n",
       " 'copy',\n",
       " 'count',\n",
       " 'extend',\n",
       " 'index',\n",
       " 'insert',\n",
       " 'pop',\n",
       " 'remove',\n",
       " 'reverse',\n",
       " 'sort']"
      ]
     },
     "execution_count": 94,
     "metadata": {},
     "output_type": "execute_result"
    }
   ],
   "source": [
    "## Check out the many attributes/methods of the mighty list:\n",
    "######\n",
    "\n",
    "dir(list)\n"
   ]
  },
  {
   "cell_type": "code",
   "execution_count": 97,
   "id": "063ecd51",
   "metadata": {},
   "outputs": [
    {
     "name": "stdout",
     "output_type": "stream",
     "text": [
      "[1, 2, 3, 5]\n",
      "[5, 3, 2, 1]\n"
     ]
    }
   ],
   "source": [
    "#Let's try some!\n",
    "#Note that these typically alter the list in place:\n",
    "\n",
    "L = [1, 5, 3, 2]\n",
    "\n",
    "L.sort()  #Could add reverse = True as optional argument\n",
    "print(L)\n",
    "\n",
    "L.reverse()\n",
    "print(L)"
   ]
  },
  {
   "cell_type": "code",
   "execution_count": 98,
   "id": "5f5808d6",
   "metadata": {},
   "outputs": [
    {
     "name": "stdout",
     "output_type": "stream",
     "text": [
      "[99, 5, 3, 2]\n",
      "[99, 5, 3, 2]\n"
     ]
    }
   ],
   "source": [
    "#Once again, variable name binding:\n",
    "#####\n",
    "\n",
    "#To see:\n",
    "a = [1, 5, 3, 2]\n",
    "\n",
    "b = a\n",
    "b[0] = 99\n",
    "\n",
    "print(a)\n",
    "print(b)\n"
   ]
  },
  {
   "cell_type": "code",
   "execution_count": 100,
   "id": "550ab21e",
   "metadata": {},
   "outputs": [
    {
     "name": "stdout",
     "output_type": "stream",
     "text": [
      "[1, 5, 3, 2]\n",
      "[88, 5, 3, 2]\n"
     ]
    }
   ],
   "source": [
    "#If you want a copy, use:\n",
    "#Copy method, or [:]:\n",
    "\n",
    "#So instead:\n",
    "a = [1, 5, 3, 2]\n",
    "\n",
    "if (0):\n",
    "    b = a[:]\n",
    "else:\n",
    "    b = a.copy()\n",
    "    \n",
    "    \n",
    "b[0] = 88\n",
    "\n",
    "print(a)\n",
    "print(b)\n"
   ]
  },
  {
   "cell_type": "markdown",
   "id": "1a237307",
   "metadata": {},
   "source": [
    "#### Accessing lists and other list-like objects:"
   ]
  },
  {
   "cell_type": "code",
   "execution_count": null,
   "id": "44645bdf",
   "metadata": {},
   "outputs": [],
   "source": [
    "#Various ways to access...\n",
    "a[0]\n",
    "\n",
    "a[2:4]\n",
    "\n",
    "a[:] #Everything\n",
    "a[:-1] #Everything except last element\n",
    "\n",
    "a[-1] #Last element\n",
    "a[-3] #Third from last\n",
    "a[-2:] #Second to last to the end\n",
    "\n",
    "a[1:6:2] #1:6 by 2, note this is different order than MATLAB\n",
    "\n",
    "a[::2] #Everything by 2\n",
    "\n",
    "a[::-1] #Go backwards"
   ]
  },
  {
   "cell_type": "markdown",
   "id": "c7ef197d",
   "metadata": {},
   "source": [
    "#### Extending/Appending Lists"
   ]
  },
  {
   "cell_type": "code",
   "execution_count": 116,
   "id": "5db2c639",
   "metadata": {},
   "outputs": [
    {
     "data": {
      "text/plain": [
       "[1, 2, 3, 4, 5, 6]"
      ]
     },
     "execution_count": 116,
     "metadata": {},
     "output_type": "execute_result"
    }
   ],
   "source": [
    "#Let's append and extend our lists, I say\n",
    "#Consider the following\n",
    "\n",
    "a = [1, 2, 3]\n",
    "b = [4, 5, 6]\n",
    "\n",
    "a + b"
   ]
  },
  {
   "cell_type": "code",
   "execution_count": 112,
   "id": "2c721988",
   "metadata": {},
   "outputs": [
    {
     "data": {
      "text/plain": [
       "[1, 2, 3, 1, 2, 3, 1, 2, 3, 1, 2, 3, 1, 2, 3]"
      ]
     },
     "execution_count": 112,
     "metadata": {},
     "output_type": "execute_result"
    }
   ],
   "source": [
    "a*5"
   ]
  },
  {
   "cell_type": "code",
   "execution_count": 113,
   "id": "0dc7bb7f",
   "metadata": {},
   "outputs": [
    {
     "data": {
      "text/plain": [
       "[1, 2, 3, 1, 2, 3, 4, 5, 6, 4, 5, 6, 4, 5, 6, 4, 5, 6, 4, 5, 6]"
      ]
     },
     "execution_count": 113,
     "metadata": {},
     "output_type": "execute_result"
    }
   ],
   "source": [
    "a*2 + b*5"
   ]
  },
  {
   "cell_type": "code",
   "execution_count": 114,
   "id": "c62e17ad",
   "metadata": {},
   "outputs": [
    {
     "data": {
      "text/plain": [
       "[1, 2, 3, [4, 5, 6]]"
      ]
     },
     "execution_count": 114,
     "metadata": {},
     "output_type": "execute_result"
    }
   ],
   "source": [
    "#Append vs. Extend:\n",
    "a.append(b)\n",
    "a"
   ]
  },
  {
   "cell_type": "code",
   "execution_count": 117,
   "id": "70dff646",
   "metadata": {},
   "outputs": [
    {
     "data": {
      "text/plain": [
       "[1, 2, 3, 4, 5, 6]"
      ]
     },
     "execution_count": 117,
     "metadata": {},
     "output_type": "execute_result"
    }
   ],
   "source": [
    "#Extend\n",
    "a.extend(b)\n",
    "a"
   ]
  },
  {
   "cell_type": "markdown",
   "id": "3141c342",
   "metadata": {},
   "source": [
    "#### Math on lists?"
   ]
  },
  {
   "cell_type": "code",
   "execution_count": 118,
   "id": "f5c6981a",
   "metadata": {},
   "outputs": [
    {
     "data": {
      "text/plain": [
       "[1, 2, 3, 1, 1, 1]"
      ]
     },
     "execution_count": 118,
     "metadata": {},
     "output_type": "execute_result"
    }
   ],
   "source": [
    "#As we just saw, + and * yield concatenation with lists:\n",
    "#############\n",
    "\n",
    "a = [1,2,3]\n",
    "b = [1,1,1]\n",
    "\n",
    "a + b"
   ]
  },
  {
   "cell_type": "code",
   "execution_count": 119,
   "id": "b39b9c57",
   "metadata": {},
   "outputs": [
    {
     "data": {
      "text/plain": [
       "[1, 2, 3, 1]"
      ]
     },
     "execution_count": 119,
     "metadata": {},
     "output_type": "execute_result"
    }
   ],
   "source": [
    "a + [1]"
   ]
  },
  {
   "cell_type": "code",
   "execution_count": 120,
   "id": "b85b910d",
   "metadata": {},
   "outputs": [
    {
     "data": {
      "text/plain": [
       "[2, 3, 4]"
      ]
     },
     "execution_count": 120,
     "metadata": {},
     "output_type": "execute_result"
    }
   ],
   "source": [
    "## To do actually do math...\n",
    "#######\n",
    "\n",
    "#List comprehesion comes in handy:\n",
    "\n",
    "a = [1,2,3]\n",
    "\n",
    "[i + 1 for i in a]\n"
   ]
  },
  {
   "cell_type": "code",
   "execution_count": 121,
   "id": "2426addb",
   "metadata": {},
   "outputs": [
    {
     "data": {
      "text/plain": [
       "[3, 6, 9]"
      ]
     },
     "execution_count": 121,
     "metadata": {},
     "output_type": "execute_result"
    }
   ],
   "source": [
    "[i*3 for i in a]"
   ]
  },
  {
   "cell_type": "code",
   "execution_count": 124,
   "id": "08cb754a",
   "metadata": {},
   "outputs": [
    {
     "data": {
      "text/plain": [
       "[6, 12, 18]"
      ]
     },
     "execution_count": 124,
     "metadata": {},
     "output_type": "execute_result"
    }
   ],
   "source": [
    "#Add two lists:\n",
    "#####\n",
    "\n",
    "a = [1,2,3]\n",
    "b = [5,10,15]\n",
    "\n",
    "# List comprehension + zip:\n",
    "[i + j for i, j in zip(a, b)]\n"
   ]
  },
  {
   "cell_type": "code",
   "execution_count": 126,
   "id": "a5c9f116",
   "metadata": {},
   "outputs": [
    {
     "name": "stdout",
     "output_type": "stream",
     "text": [
      "1 5\n",
      "2 10\n",
      "3 15\n"
     ]
    }
   ],
   "source": [
    "#What does zip do, you ask?\n",
    "for i,j in zip(a,b):\n",
    "    print(i,j)"
   ]
  },
  {
   "cell_type": "code",
   "execution_count": 127,
   "id": "3f4aae86",
   "metadata": {},
   "outputs": [
    {
     "data": {
      "text/plain": [
       "[(1, 5), (2, 10), (3, 15)]"
      ]
     },
     "execution_count": 127,
     "metadata": {},
     "output_type": "execute_result"
    }
   ],
   "source": [
    "list(zip(a, b))"
   ]
  },
  {
   "cell_type": "markdown",
   "id": "15537b14",
   "metadata": {},
   "source": [
    "#### List Comprehension\n",
    "\n",
    "The basic form of a list comprehension is:\n",
    "\n",
    "```\n",
    "[expr for val in collection if condition]\n",
    "```\n",
    "\n",
    "Which is equivalent to:\n",
    "\n",
    "```\n",
    "result = []\n",
    "for val in collection:\n",
    "    if condition:\n",
    "        result.append(expr)\n",
    "```\n",
    "\n",
    "Don't necessarily need the condition, in which case we just append vals all together."
   ]
  },
  {
   "cell_type": "code",
   "execution_count": 129,
   "id": "5ade66db",
   "metadata": {},
   "outputs": [
    {
     "data": {
      "text/plain": [
       "[1, 2, 3, 4, 5, 6, 7, 8, 9]"
      ]
     },
     "execution_count": 129,
     "metadata": {},
     "output_type": "execute_result"
    }
   ],
   "source": [
    "x = list(range(1,10))\n",
    "x"
   ]
  },
  {
   "cell_type": "code",
   "execution_count": 130,
   "id": "d1c57680",
   "metadata": {},
   "outputs": [
    {
     "data": {
      "text/plain": [
       "[4, 16, 36, 64]"
      ]
     },
     "execution_count": 130,
     "metadata": {},
     "output_type": "execute_result"
    }
   ],
   "source": [
    "#Create a new array of the even values, squared:\n",
    "#C-style:\n",
    "x = list(range(1,10))\n",
    "\n",
    "y = []\n",
    "for i in x:\n",
    "    if (i % 2 == 0):\n",
    "        y.append(i**2)\n",
    "\n",
    "y"
   ]
  },
  {
   "cell_type": "code",
   "execution_count": 131,
   "id": "b987b307",
   "metadata": {},
   "outputs": [
    {
     "data": {
      "text/plain": [
       "[4, 16, 36, 64]"
      ]
     },
     "execution_count": 131,
     "metadata": {},
     "output_type": "execute_result"
    }
   ],
   "source": [
    "#Python style:\n",
    "y = [i**2 for i in range(1,10) if i % 2 == 0]\n",
    "y"
   ]
  },
  {
   "cell_type": "markdown",
   "id": "5d5d15be",
   "metadata": {},
   "source": [
    "#### Simple examples:"
   ]
  },
  {
   "cell_type": "code",
   "execution_count": 132,
   "id": "2900814e",
   "metadata": {},
   "outputs": [
    {
     "data": {
      "text/plain": [
       "[1, 4, 9, 16, 25]"
      ]
     },
     "execution_count": 132,
     "metadata": {},
     "output_type": "execute_result"
    }
   ],
   "source": [
    "#Example: Square everything\n",
    "[i**2 for i in [1,2,3,4,5]]"
   ]
  },
  {
   "cell_type": "code",
   "execution_count": 133,
   "id": "d3edf0c0",
   "metadata": {},
   "outputs": [
    {
     "data": {
      "text/plain": [
       "[1, 9, 25]"
      ]
     },
     "execution_count": 133,
     "metadata": {},
     "output_type": "execute_result"
    }
   ],
   "source": [
    "#Example: Square and keep only the odd elements:\n",
    "[i**2 for i in [1,2,3,4,5] if i %2 == 1]"
   ]
  },
  {
   "cell_type": "code",
   "execution_count": 134,
   "id": "560824dc",
   "metadata": {},
   "outputs": [
    {
     "data": {
      "text/plain": [
       "[1, 2, 9, 4, 25]"
      ]
     },
     "execution_count": 134,
     "metadata": {},
     "output_type": "execute_result"
    }
   ],
   "source": [
    "#Square only the odd, keep all\n",
    "[i**2 if (i%2 == 1) else i for i in [1,2,3,4,5]]"
   ]
  },
  {
   "cell_type": "markdown",
   "id": "43329c66",
   "metadata": {},
   "source": [
    "### Dictionaries\n",
    "\n",
    "Dictionaries are mutable list-like objects, declared using curly {}, define a set of key/value pairs"
   ]
  },
  {
   "cell_type": "code",
   "execution_count": null,
   "id": "7edccdc1",
   "metadata": {},
   "outputs": [],
   "source": [
    "#Make a dictionary\n",
    "my_dict = {'thing1':12.3, 'thing2':14, 'cat':'hat', 'yurtle':'turtle', 5:42}\n",
    "my_dict"
   ]
  },
  {
   "cell_type": "code",
   "execution_count": null,
   "id": "227ead61",
   "metadata": {},
   "outputs": [],
   "source": [
    "#Get by key\n",
    "my_dict['thing1']"
   ]
  },
  {
   "cell_type": "code",
   "execution_count": null,
   "id": "2b0dd750",
   "metadata": {},
   "outputs": [],
   "source": [
    "#Note that dictionaries are unordered, can't use use indexing!\n",
    "#This will give error:\n",
    "my_dict[0]\n"
   ]
  },
  {
   "cell_type": "code",
   "execution_count": null,
   "id": "16c07957",
   "metadata": {},
   "outputs": [],
   "source": [
    "#Can add to dictionary\n",
    "#my_dict.update({'lorax': 'trees'})\n",
    "#my_dict\n",
    "\n",
    "#Can also just use:\n",
    "my_dict['lorax'] = 'trees'\n",
    "my_dict"
   ]
  },
  {
   "cell_type": "code",
   "execution_count": null,
   "id": "9442fa78",
   "metadata": {},
   "outputs": [],
   "source": [
    "#Can pop an entry by key: Remove key and return the item\n",
    "a = my_dict.pop('cat')\n",
    "print(a)\n",
    "my_dict\n",
    "\n",
    "#Using del also an option:\n",
    "#del my_dict['cat']\n",
    "#my_dict"
   ]
  },
  {
   "cell_type": "code",
   "execution_count": null,
   "id": "3bda210b",
   "metadata": {},
   "outputs": [],
   "source": [
    "#Can also pop last key:item pair\n",
    "a = my_dict.popitem()\n",
    "print(a)\n",
    "my_dict"
   ]
  },
  {
   "cell_type": "code",
   "execution_count": null,
   "id": "fe77a805",
   "metadata": {},
   "outputs": [],
   "source": [
    "#See if a key or value in the dictionary\n",
    "'thing1' in my_dict\n",
    "'turtle' in my_dict.values()"
   ]
  },
  {
   "cell_type": "markdown",
   "id": "705e6489",
   "metadata": {},
   "source": [
    "Note that any Python object can be a value, but keys must be *hashable* objects = immutable objects like scalar types and tuples (below). To check, use `hash()` function:"
   ]
  },
  {
   "cell_type": "code",
   "execution_count": null,
   "id": "4699a01d",
   "metadata": {},
   "outputs": [],
   "source": [
    "hash(\"sdf\")\n",
    "#hash([1,2,3])"
   ]
  },
  {
   "cell_type": "markdown",
   "id": "herbal-christianity",
   "metadata": {},
   "source": [
    "### Tuples\n",
    "\n",
    "Tuples are ordered, *immutable* array-like objects."
   ]
  },
  {
   "cell_type": "code",
   "execution_count": null,
   "id": "challenging-geometry",
   "metadata": {},
   "outputs": [],
   "source": [
    "#Let's make us a tuple\n",
    "t = (1, 3, 'test', 9, [1,2,3])\n",
    "t"
   ]
  },
  {
   "cell_type": "code",
   "execution_count": null,
   "id": "attended-chapel",
   "metadata": {},
   "outputs": [],
   "source": [
    "#Index and access similar to lists\n",
    "#But tuples are immutable\n",
    "t[4][0]"
   ]
  },
  {
   "cell_type": "code",
   "execution_count": null,
   "id": "rubber-newfoundland",
   "metadata": {},
   "outputs": [],
   "source": [
    "#We can have lists, dictionaries, other tuples, etc. as elements\n",
    "t2 = ([1,2], (5,6,7), {'huey':'dewey', 10.1:20})\n",
    "\n",
    "t2[0][1]"
   ]
  },
  {
   "cell_type": "code",
   "execution_count": null,
   "id": "adolescent-tongue",
   "metadata": {},
   "outputs": [],
   "source": [
    "#Don't actually need parentheses...\n",
    "t3 = [1,2,3], 15, 'string!', True, False\n",
    "\n",
    "t3"
   ]
  },
  {
   "cell_type": "code",
   "execution_count": null,
   "id": "orange-savings",
   "metadata": {},
   "outputs": [],
   "source": [
    "#Unless necessary for more complex expressions, e.g. nested tuples (a tuple of tuples):\n",
    "nested_tuple = (4, 5, 6), (7, 8)\n",
    "nested_tuple"
   ]
  },
  {
   "cell_type": "code",
   "execution_count": null,
   "id": "alert-terminal",
   "metadata": {},
   "outputs": [],
   "source": [
    "#Can convert any sequence or iterator to a tuple with tuple():\n",
    "\n",
    "tuple([1,2,3])\n",
    "\n",
    "#tuple(range(5,15))"
   ]
  },
  {
   "cell_type": "code",
   "execution_count": null,
   "id": "smooth-memory",
   "metadata": {
    "scrolled": true
   },
   "outputs": [],
   "source": [
    "tuple(\"string\")"
   ]
  },
  {
   "cell_type": "markdown",
   "id": "minus-scene",
   "metadata": {},
   "source": [
    "Tuples are ***immutable***. The following gives an error"
   ]
  },
  {
   "cell_type": "code",
   "execution_count": null,
   "id": "static-alignment",
   "metadata": {},
   "outputs": [],
   "source": [
    "t = tuple([1,2,3,False])\n",
    "\n",
    "t[0] = 10"
   ]
  },
  {
   "cell_type": "markdown",
   "id": "divine-forwarding",
   "metadata": {},
   "source": [
    "However, we *can* modify mutable objects within a tuple:"
   ]
  },
  {
   "cell_type": "code",
   "execution_count": null,
   "id": "capable-distance",
   "metadata": {
    "scrolled": true
   },
   "outputs": [],
   "source": [
    "t = 1, 5, [1, 2], True, \"string\"\n",
    "\n",
    "t[2].extend([1,5,6])\n",
    "t[2].remove(1)\n",
    "t[2][1] = 99\n",
    "\n",
    "t"
   ]
  },
  {
   "cell_type": "markdown",
   "id": "pediatric-hormone",
   "metadata": {},
   "source": [
    "**Unpacking tuples**"
   ]
  },
  {
   "cell_type": "code",
   "execution_count": null,
   "id": "substantial-universal",
   "metadata": {},
   "outputs": [],
   "source": [
    "#Can upack like so:\n",
    "###\n",
    "\n",
    "t = (4, 5, 6)\n",
    "\n",
    "a, b, c = t\n",
    "print(a,b,c)"
   ]
  },
  {
   "cell_type": "code",
   "execution_count": null,
   "id": "dietary-activation",
   "metadata": {},
   "outputs": [],
   "source": [
    "#For a nested tuple:\n",
    "###\n",
    "\n",
    "t = 4, 5, (6, 7)\n",
    "\n",
    "a, b, c = t\n",
    "\n",
    "print(a, b, c)"
   ]
  },
  {
   "cell_type": "code",
   "execution_count": null,
   "id": "20a846b1",
   "metadata": {},
   "outputs": [],
   "source": [
    "#OR\n",
    "\n",
    "a, b, (c, d) = t\n",
    "print(a, b, c, d)"
   ]
  },
  {
   "cell_type": "markdown",
   "id": "unlikely-harmony",
   "metadata": {},
   "source": [
    "### Sets\n",
    "Sets are unordered, unindexed, and do not allow duplicate values. Can add or remove items, but cannot change existing items."
   ]
  },
  {
   "cell_type": "code",
   "execution_count": null,
   "id": "british-authorization",
   "metadata": {},
   "outputs": [],
   "source": [
    "#A quick example\n",
    "A = {1, 2, 2, 3, 4, 5, 5}\n",
    "print(A)"
   ]
  },
  {
   "cell_type": "code",
   "execution_count": null,
   "id": "2e10a213",
   "metadata": {},
   "outputs": [],
   "source": [
    "A.add(6)\n",
    "A.discard(2)\n",
    "\n",
    "A"
   ]
  },
  {
   "cell_type": "markdown",
   "id": "4d8e5953",
   "metadata": {},
   "source": [
    "#### Can be a useful shortcut to getting unique elements:"
   ]
  },
  {
   "cell_type": "code",
   "execution_count": null,
   "id": "84df1099",
   "metadata": {},
   "outputs": [],
   "source": [
    "a = [1, 2, 3, 1, 1, 5]\n",
    "\n",
    "print(set(a))\n",
    "\n",
    "print(len(set(a)))"
   ]
  },
  {
   "cell_type": "code",
   "execution_count": null,
   "id": "daee67ad",
   "metadata": {},
   "outputs": [],
   "source": [
    "#But numpy serves as well:\n",
    "\n",
    "import numpy as np\n",
    "\n",
    "print(np.unique(a))\n",
    "\n",
    "len(np.unique(a))"
   ]
  }
 ],
 "metadata": {
  "kernelspec": {
   "display_name": "Python 3 (ipykernel)",
   "language": "python",
   "name": "python3"
  },
  "language_info": {
   "codemirror_mode": {
    "name": "ipython",
    "version": 3
   },
   "file_extension": ".py",
   "mimetype": "text/x-python",
   "name": "python",
   "nbconvert_exporter": "python",
   "pygments_lexer": "ipython3",
   "version": "3.9.16"
  }
 },
 "nbformat": 4,
 "nbformat_minor": 5
}
