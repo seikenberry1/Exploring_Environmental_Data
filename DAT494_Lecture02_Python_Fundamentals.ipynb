{
 "cells": [
  {
   "cell_type": "markdown",
   "id": "00cab46d",
   "metadata": {},
   "source": [
    "### Python Fundamentals\n",
    "\n",
    "Some familiarity with Python is ideal, but we'll start from the ground up, going through some of the basics of Python, from `hello world`, basic and more advanced data types, control structures, and user-defined functions.\n",
    "\n",
    "We'll pay special attention to some of the important language-specific features of Python.\n",
    "\n",
    "This is an ipynb--\"iPython notebook\"--file. It incorporates both code and markdown cells, so that you can include both code and documentation. This is part of the notion of \"literate programming\" and reproducible workflows.\n",
    "\n",
    "I'm a **markdown cell**. You can use my ilk to document what you're doing, while most of the cells below are **code** cells, that will execute Python code. You can also simply use comments, using `#`, in code cells to document.\n",
    "\n",
    "*Liberally add cells and experiment with the notions presented, to help internalize Python!*\n",
    "\n",
    "<img src=\"monty.jpg\" alt=\"Monty Python!\" style=\"width:500px;\"/>\n",
    "\n",
    "#### Goals Today:\n",
    "- Scalar types and mutability vs. immutability\n",
    "- Variable name binding\n",
    "- Advanced types: Lists, Tuples, Dictionaries, and Sets\n",
    "- List comprehensions\n",
    "- Sequence functions\n",
    "- Control structures and user-defined functions\n",
    "- Generators\n",
    "- The Importance of Being Pythonic, and the Zen of Python\n",
    "- Start matplotlib\n"
   ]
  },
  {
   "cell_type": "markdown",
   "id": "1b04f7e6",
   "metadata": {},
   "source": [
    "And overall Intro to Python overview:\n",
    "\n",
    "\n",
    "#### Pythonic programming\n",
    "\n",
    "- Review of Python basics and advanced types\n",
    "- List comprehensions, etc.\n",
    "- The Zen of Python\n",
    "\n",
    "\n",
    "#### Matplotlib\n",
    "\n",
    "- Fundamental plotting library for scientific computing and data science with Python\n",
    "- Interface with pandas, seaborn, and geopandas\n",
    "\n",
    "\n",
    "#### NumPy\n",
    "\n",
    "- numpy was developed for fast computation with large arrays\n",
    "- Fast vectorized operations without need for loops\n",
    "- C API for connecting NumPy with libraries written in C, C++, FORTRAN\n",
    "\n",
    "- NumPy stores data internally in large contiguous blocks of memory\n",
    "- NumPy libraries written in C and act on memory without Python interpreter overhead\n",
    "- Much faster than other Python data types\n",
    "\n",
    "\n",
    "#### Pandas\n",
    "\n",
    "- The pandas library is our fundamental library for working with tabular data/data frames.\n",
    "\n",
    "- pandas is often used with numerical computing tools NumPy and SciPy, analytical libraries like scikit-learn, and data visualization libraries such as matplotlib\n",
    "\n",
    "- Adopts parts of NumPy's style for array-based computing and data processing without `for` loops\n"
   ]
  },
  {
   "cell_type": "code",
   "execution_count": null,
   "id": "8d49bf4b",
   "metadata": {},
   "outputs": [],
   "source": [
    "### Note: The Anaconda or miniconda package manager is strongly recommended\n",
    "\n",
    "### Additionally, it is advisable to use a virtual environment\n",
    "### You can set up and install packages like so in the Anaconda terminal:\n",
    "\n",
    "#conda create -n my_env\n",
    "#conda activate my_env\n",
    "#conda config --env --add channels conda-forge\n",
    "#conda config --env --set channel_priority strict\n",
    "#conda install <my_package>\n",
    "\n",
    "### You may also need to install packages using \"pip install <package>\""
   ]
  },
  {
   "cell_type": "code",
   "execution_count": null,
   "id": "29bef665",
   "metadata": {},
   "outputs": [],
   "source": [
    "## The packages below are included with Anaconda, you'll need to install anew if you use a virtual environment or miniconda"
   ]
  },
  {
   "cell_type": "code",
   "execution_count": 23,
   "id": "e04a97d4",
   "metadata": {},
   "outputs": [],
   "source": [
    "## At minimum we'll use matplotlib.pyplot and numpy for almost everything\n",
    "## And usually pandas too, so let's just import now:\n",
    "\n",
    "import matplotlib.pyplot as plt\n",
    "import numpy as np\n",
    "import pandas as pd\n",
    "\n",
    "\n",
    "#Note you can do things like:\n",
    "########\n",
    "\n",
    "#from numpy import sin\n",
    "\n",
    "#Or:\n",
    "#from numpy import *\n",
    "\n",
    "#I don't generally recommed doing the latter\n"
   ]
  },
  {
   "cell_type": "code",
   "execution_count": 24,
   "id": "adf9468f",
   "metadata": {},
   "outputs": [],
   "source": [
    "#Also, we will need geopandas shortly, so let's go ahead and get it now\n",
    "#####\n",
    "\n",
    "import geopandas as gpd"
   ]
  },
  {
   "cell_type": "markdown",
   "id": "8aa0d854",
   "metadata": {},
   "source": [
    "<img src=\"Hello_World/hello1.jpg\" alt=\"Hello World!\" style=\"width:300px;\"/>"
   ]
  },
  {
   "cell_type": "code",
   "execution_count": 187,
   "id": "e8550959",
   "metadata": {},
   "outputs": [
    {
     "name": "stdout",
     "output_type": "stream",
     "text": [
      "42 WORLD\n",
      "\n",
      "THIS IS SO GOOD\n",
      "42   WORLD \n",
      "\n",
      "THIS IS SO GOOD\n"
     ]
    }
   ],
   "source": [
    "x = \"HELLO\"\n",
    "y = \"WORLD\"\n",
    "\n",
    "x = 42\n",
    "\n",
    "print(str(x) + ' ' + y + '\\n\\nTHIS IS SO GOOD')\n",
    "\n",
    "#Also,\n",
    "x = 42\n",
    "print(x, ' ', y, '\\n\\nTHIS IS SO GOOD')"
   ]
  },
  {
   "cell_type": "markdown",
   "id": "80f5b6fb",
   "metadata": {},
   "source": [
    "<img src=\"Hello_World/hello2.jpg\" alt=\"Hello World!\" style=\"width:350px;\"/>"
   ]
  },
  {
   "cell_type": "markdown",
   "id": "2120e5f9",
   "metadata": {},
   "source": [
    "#### Python Scalar Types\n",
    "\n",
    "There are several basic single value *scalar* types in the standard Python library:\n",
    "\n",
    "\n",
    "| Type | Description |\n",
    "| :- | :- |\n",
    "| `None` | NULL, Only a single instance of `None` exists\n",
    "| `str` | String, UTF-8 encoded strings\n",
    "| `bytes` | Raw ASCII bytes\n",
    "| `float` | Double-precision (64-bit) float (no separate `double` type)\n",
    "| `int` | Arbitrary precision signed integer\n",
    "| `bool` | `True` or `False` boolean\n",
    "\n",
    "**Scalar types are always immutable**"
   ]
  },
  {
   "cell_type": "code",
   "execution_count": 188,
   "id": "402731ee",
   "metadata": {},
   "outputs": [
    {
     "data": {
      "text/plain": [
       "float"
      ]
     },
     "execution_count": 188,
     "metadata": {},
     "output_type": "execute_result"
    }
   ],
   "source": [
    "#Implicit casting occurs only in very obvious cases:\n",
    "\n",
    "x = 5\n",
    "y = x + .1\n",
    "\n",
    "type(y)"
   ]
  },
  {
   "cell_type": "code",
   "execution_count": null,
   "id": "f8cf9ee1",
   "metadata": {},
   "outputs": [],
   "source": [
    "#Explicitly cast with:\n",
    "float(x)\n",
    "int(x)\n",
    "str(x)\n",
    "\n",
    "#Stuff like this will fail:\n",
    "#int(\"5.5\")"
   ]
  },
  {
   "cell_type": "markdown",
   "id": "4805e041",
   "metadata": {},
   "source": [
    "#### Immutable, all!"
   ]
  },
  {
   "cell_type": "code",
   "execution_count": 189,
   "id": "7caf9024",
   "metadata": {},
   "outputs": [
    {
     "data": {
      "text/plain": [
       "'0x14d86a6ccb0'"
      ]
     },
     "execution_count": 189,
     "metadata": {},
     "output_type": "execute_result"
    }
   ],
   "source": [
    "#Make a float:\n",
    "x = 1.1\n",
    "\n",
    "#Look at the id in memory:\n",
    "hex(id(x))"
   ]
  },
  {
   "cell_type": "code",
   "execution_count": 190,
   "id": "aea42658",
   "metadata": {},
   "outputs": [
    {
     "data": {
      "text/plain": [
       "'0x14d86a6cd70'"
      ]
     },
     "execution_count": 190,
     "metadata": {},
     "output_type": "execute_result"
    }
   ],
   "source": [
    "#Now, do an operation on the float:\n",
    "x = x + 2\n",
    "\n",
    "#And id in memory?\n",
    "hex(id(x))"
   ]
  },
  {
   "cell_type": "code",
   "execution_count": 194,
   "id": "ec546187",
   "metadata": {},
   "outputs": [
    {
     "name": "stdout",
     "output_type": "stream",
     "text": [
      "True\n",
      "True\n"
     ]
    }
   ],
   "source": [
    "#So, x now refers to a new object\n",
    "\n",
    "# Note with ints, and bools:\n",
    "#######\n",
    "x = 4\n",
    "y = 3+1\n",
    "\n",
    "print(id(x) == id(y))\n",
    "\n",
    "#Bools:\n",
    "x = False\n",
    "y = 5 > 10\n",
    "\n",
    "print(id(x) == id(y))"
   ]
  },
  {
   "cell_type": "code",
   "execution_count": 195,
   "id": "3d25f98b",
   "metadata": {},
   "outputs": [],
   "source": [
    "x = 'Monty'"
   ]
  },
  {
   "cell_type": "code",
   "execution_count": 201,
   "id": "e237ff75",
   "metadata": {},
   "outputs": [
    {
     "data": {
      "text/plain": [
       "'Donty Python'"
      ]
     },
     "execution_count": 201,
     "metadata": {},
     "output_type": "execute_result"
    }
   ],
   "source": [
    "#Strings are also immutable!\n",
    "#####\n",
    "\n",
    "#This works just fine, assigning 'x' to new objects\n",
    "x = 'Monty'\n",
    "x = x + ' Python'\n",
    "\n",
    "#This does not work:\n",
    "#x[0] = 'D'\n",
    "\n",
    "#This does:\n",
    "x = 'D' + x[1:]\n",
    "\n",
    "x"
   ]
  },
  {
   "cell_type": "code",
   "execution_count": 204,
   "id": "fee692c5",
   "metadata": {},
   "outputs": [
    {
     "name": "stdout",
     "output_type": "stream",
     "text": [
      "False\n"
     ]
    }
   ],
   "source": [
    "#Note None:\n",
    "x = None\n",
    "y = None\n",
    "\n",
    "print(x == False)"
   ]
  },
  {
   "cell_type": "code",
   "execution_count": 209,
   "id": "54bf54bd",
   "metadata": {},
   "outputs": [
    {
     "data": {
      "text/plain": [
       "True"
      ]
     },
     "execution_count": 209,
     "metadata": {},
     "output_type": "execute_result"
    }
   ],
   "source": [
    "'String'.lower().islower()"
   ]
  },
  {
   "cell_type": "markdown",
   "id": "7db696f4",
   "metadata": {},
   "source": [
    "### Typing and Variable Name Binding\n",
    "\n",
    "- Everything in Python, including functions, etc. is a Python object, and has an associated type and internal data.\n",
    "\n",
    "\n",
    "- Any time you assign a variable you are creating a *reference* to the object on the righthand side.  Assignment is also known as *binding*: **Binding a name to an object.**\n",
    "\n",
    "\n",
    "- Python is a **strongly typed language**:  objects still have types and implicit conversions only occur in obvious cases.\n",
    "\n",
    "\n",
    "- But the references to objects have no type, so you can do stuff like:"
   ]
  },
  {
   "cell_type": "code",
   "execution_count": 210,
   "id": "e30232d1",
   "metadata": {},
   "outputs": [
    {
     "name": "stdout",
     "output_type": "stream",
     "text": [
      "I'm a  <class 'int'> , living at  0x14dd72169b0\n",
      "I'm a  <class 'str'> , living at  0x14ddc299cb0\n"
     ]
    }
   ],
   "source": [
    "a = 5\n",
    "print('I\\'m a ', type(a), ', living at ', hex(id(a)))\n",
    "\n",
    "a = 'I\\'m a string now!'\n",
    "print('I\\'m a ', type(a), ', living at ', hex(id(a)))"
   ]
  },
  {
   "cell_type": "markdown",
   "id": "9c27635d",
   "metadata": {},
   "source": [
    "#### Be very careful:\n",
    "\n",
    "Python uses \"pass by assignment\"\n",
    "\n",
    "- When passing variables to a function, new local variables are created referencing the original objects, without any copying\n",
    "\n",
    "- If you bind a new object to a passed variable within the function, the change is *not* reflected in the parent scope\n",
    "\n",
    "- However, you can alter *mutable* objects within the function and this *is* reflected in the parent scope\n",
    "\n",
    "For example:"
   ]
  },
  {
   "cell_type": "code",
   "execution_count": 211,
   "id": "a9012ccd",
   "metadata": {},
   "outputs": [
    {
     "name": "stdout",
     "output_type": "stream",
     "text": [
      "5\n"
     ]
    }
   ],
   "source": [
    "def foo1(x):\n",
    "    x = x + 1\n",
    "    \n",
    "y = 5\n",
    "foo1(y)\n",
    "print(y)"
   ]
  },
  {
   "cell_type": "code",
   "execution_count": 212,
   "id": "0c3392b4",
   "metadata": {},
   "outputs": [
    {
     "name": "stdout",
     "output_type": "stream",
     "text": [
      "2\n",
      "[2]\n",
      "[2, 99]\n"
     ]
    }
   ],
   "source": [
    "def foo1(x):\n",
    "    x = x + 1\n",
    "    \n",
    "def foo2(x):\n",
    "    x = [1, 2, 3]\n",
    "    \n",
    "def foo3(x):\n",
    "    x.append(99)\n",
    "    \n",
    "y = 2\n",
    "foo1(y)\n",
    "print(y)\n",
    "\n",
    "y = [2]\n",
    "foo2(y)\n",
    "print(y)\n",
    "\n",
    "y = [2]\n",
    "foo3(y)\n",
    "print(y)"
   ]
  },
  {
   "cell_type": "markdown",
   "id": "d91d2f47",
   "metadata": {},
   "source": [
    "### Help?\n",
    "\n",
    "<img src=\"Hello_World/hello3.jpg\" alt=\"Hello World!\" style=\"width:375px;\"/>\n"
   ]
  },
  {
   "cell_type": "code",
   "execution_count": 213,
   "id": "24b4feee",
   "metadata": {},
   "outputs": [],
   "source": [
    "?float"
   ]
  },
  {
   "cell_type": "code",
   "execution_count": 214,
   "id": "48924112",
   "metadata": {
    "scrolled": true
   },
   "outputs": [
    {
     "data": {
      "text/plain": [
       "['__add__',\n",
       " '__class__',\n",
       " '__contains__',\n",
       " '__delattr__',\n",
       " '__dir__',\n",
       " '__doc__',\n",
       " '__eq__',\n",
       " '__format__',\n",
       " '__ge__',\n",
       " '__getattribute__',\n",
       " '__getitem__',\n",
       " '__getnewargs__',\n",
       " '__gt__',\n",
       " '__hash__',\n",
       " '__init__',\n",
       " '__init_subclass__',\n",
       " '__iter__',\n",
       " '__le__',\n",
       " '__len__',\n",
       " '__lt__',\n",
       " '__mod__',\n",
       " '__mul__',\n",
       " '__ne__',\n",
       " '__new__',\n",
       " '__reduce__',\n",
       " '__reduce_ex__',\n",
       " '__repr__',\n",
       " '__rmod__',\n",
       " '__rmul__',\n",
       " '__setattr__',\n",
       " '__sizeof__',\n",
       " '__str__',\n",
       " '__subclasshook__',\n",
       " 'capitalize',\n",
       " 'casefold',\n",
       " 'center',\n",
       " 'count',\n",
       " 'encode',\n",
       " 'endswith',\n",
       " 'expandtabs',\n",
       " 'find',\n",
       " 'format',\n",
       " 'format_map',\n",
       " 'index',\n",
       " 'isalnum',\n",
       " 'isalpha',\n",
       " 'isascii',\n",
       " 'isdecimal',\n",
       " 'isdigit',\n",
       " 'isidentifier',\n",
       " 'islower',\n",
       " 'isnumeric',\n",
       " 'isprintable',\n",
       " 'isspace',\n",
       " 'istitle',\n",
       " 'isupper',\n",
       " 'join',\n",
       " 'ljust',\n",
       " 'lower',\n",
       " 'lstrip',\n",
       " 'maketrans',\n",
       " 'partition',\n",
       " 'removeprefix',\n",
       " 'removesuffix',\n",
       " 'replace',\n",
       " 'rfind',\n",
       " 'rindex',\n",
       " 'rjust',\n",
       " 'rpartition',\n",
       " 'rsplit',\n",
       " 'rstrip',\n",
       " 'split',\n",
       " 'splitlines',\n",
       " 'startswith',\n",
       " 'strip',\n",
       " 'swapcase',\n",
       " 'title',\n",
       " 'translate',\n",
       " 'upper',\n",
       " 'zfill']"
      ]
     },
     "execution_count": 214,
     "metadata": {},
     "output_type": "execute_result"
    }
   ],
   "source": [
    "dir(str)"
   ]
  },
  {
   "cell_type": "code",
   "execution_count": 215,
   "id": "163771fb",
   "metadata": {},
   "outputs": [],
   "source": [
    "x = [1,2,3]"
   ]
  },
  {
   "cell_type": "code",
   "execution_count": 216,
   "id": "694408ad",
   "metadata": {
    "scrolled": true
   },
   "outputs": [
    {
     "name": "stdout",
     "output_type": "stream",
     "text": [
      "Help on list object:\n",
      "\n",
      "class list(object)\n",
      " |  list(iterable=(), /)\n",
      " |  \n",
      " |  Built-in mutable sequence.\n",
      " |  \n",
      " |  If no argument is given, the constructor creates a new empty list.\n",
      " |  The argument must be an iterable if specified.\n",
      " |  \n",
      " |  Methods defined here:\n",
      " |  \n",
      " |  __add__(self, value, /)\n",
      " |      Return self+value.\n",
      " |  \n",
      " |  __contains__(self, key, /)\n",
      " |      Return key in self.\n",
      " |  \n",
      " |  __delitem__(self, key, /)\n",
      " |      Delete self[key].\n",
      " |  \n",
      " |  __eq__(self, value, /)\n",
      " |      Return self==value.\n",
      " |  \n",
      " |  __ge__(self, value, /)\n",
      " |      Return self>=value.\n",
      " |  \n",
      " |  __getattribute__(self, name, /)\n",
      " |      Return getattr(self, name).\n",
      " |  \n",
      " |  __getitem__(...)\n",
      " |      x.__getitem__(y) <==> x[y]\n",
      " |  \n",
      " |  __gt__(self, value, /)\n",
      " |      Return self>value.\n",
      " |  \n",
      " |  __iadd__(self, value, /)\n",
      " |      Implement self+=value.\n",
      " |  \n",
      " |  __imul__(self, value, /)\n",
      " |      Implement self*=value.\n",
      " |  \n",
      " |  __init__(self, /, *args, **kwargs)\n",
      " |      Initialize self.  See help(type(self)) for accurate signature.\n",
      " |  \n",
      " |  __iter__(self, /)\n",
      " |      Implement iter(self).\n",
      " |  \n",
      " |  __le__(self, value, /)\n",
      " |      Return self<=value.\n",
      " |  \n",
      " |  __len__(self, /)\n",
      " |      Return len(self).\n",
      " |  \n",
      " |  __lt__(self, value, /)\n",
      " |      Return self<value.\n",
      " |  \n",
      " |  __mul__(self, value, /)\n",
      " |      Return self*value.\n",
      " |  \n",
      " |  __ne__(self, value, /)\n",
      " |      Return self!=value.\n",
      " |  \n",
      " |  __repr__(self, /)\n",
      " |      Return repr(self).\n",
      " |  \n",
      " |  __reversed__(self, /)\n",
      " |      Return a reverse iterator over the list.\n",
      " |  \n",
      " |  __rmul__(self, value, /)\n",
      " |      Return value*self.\n",
      " |  \n",
      " |  __setitem__(self, key, value, /)\n",
      " |      Set self[key] to value.\n",
      " |  \n",
      " |  __sizeof__(self, /)\n",
      " |      Return the size of the list in memory, in bytes.\n",
      " |  \n",
      " |  append(self, object, /)\n",
      " |      Append object to the end of the list.\n",
      " |  \n",
      " |  clear(self, /)\n",
      " |      Remove all items from list.\n",
      " |  \n",
      " |  copy(self, /)\n",
      " |      Return a shallow copy of the list.\n",
      " |  \n",
      " |  count(self, value, /)\n",
      " |      Return number of occurrences of value.\n",
      " |  \n",
      " |  extend(self, iterable, /)\n",
      " |      Extend list by appending elements from the iterable.\n",
      " |  \n",
      " |  index(self, value, start=0, stop=9223372036854775807, /)\n",
      " |      Return first index of value.\n",
      " |      \n",
      " |      Raises ValueError if the value is not present.\n",
      " |  \n",
      " |  insert(self, index, object, /)\n",
      " |      Insert object before index.\n",
      " |  \n",
      " |  pop(self, index=-1, /)\n",
      " |      Remove and return item at index (default last).\n",
      " |      \n",
      " |      Raises IndexError if list is empty or index is out of range.\n",
      " |  \n",
      " |  remove(self, value, /)\n",
      " |      Remove first occurrence of value.\n",
      " |      \n",
      " |      Raises ValueError if the value is not present.\n",
      " |  \n",
      " |  reverse(self, /)\n",
      " |      Reverse *IN PLACE*.\n",
      " |  \n",
      " |  sort(self, /, *, key=None, reverse=False)\n",
      " |      Sort the list in ascending order and return None.\n",
      " |      \n",
      " |      The sort is in-place (i.e. the list itself is modified) and stable (i.e. the\n",
      " |      order of two equal elements is maintained).\n",
      " |      \n",
      " |      If a key function is given, apply it once to each list item and sort them,\n",
      " |      ascending or descending, according to their function values.\n",
      " |      \n",
      " |      The reverse flag can be set to sort in descending order.\n",
      " |  \n",
      " |  ----------------------------------------------------------------------\n",
      " |  Class methods defined here:\n",
      " |  \n",
      " |  __class_getitem__(...) from builtins.type\n",
      " |      See PEP 585\n",
      " |  \n",
      " |  ----------------------------------------------------------------------\n",
      " |  Static methods defined here:\n",
      " |  \n",
      " |  __new__(*args, **kwargs) from builtins.type\n",
      " |      Create and return a new object.  See help(type) for accurate signature.\n",
      " |  \n",
      " |  ----------------------------------------------------------------------\n",
      " |  Data and other attributes defined here:\n",
      " |  \n",
      " |  __hash__ = None\n",
      "\n"
     ]
    }
   ],
   "source": [
    "help(x)"
   ]
  },
  {
   "cell_type": "code",
   "execution_count": null,
   "id": "c5d27e50",
   "metadata": {},
   "outputs": [],
   "source": [
    "#Add <tab>:\n",
    "\n",
    "#x."
   ]
  },
  {
   "cell_type": "markdown",
   "id": "b8a66d3d",
   "metadata": {},
   "source": [
    "### Don't Forget to Comment!"
   ]
  },
  {
   "cell_type": "code",
   "execution_count": 217,
   "id": "56366308",
   "metadata": {},
   "outputs": [
    {
     "data": {
      "text/plain": [
       "'Also comment\\nBut also multi-line string'"
      ]
     },
     "execution_count": 217,
     "metadata": {},
     "output_type": "execute_result"
    }
   ],
   "source": [
    "### Comment!\n",
    "\n",
    "\"\"\"Also comment\n",
    "But also multi-line string\"\"\""
   ]
  },
  {
   "cell_type": "markdown",
   "id": "c114f25e",
   "metadata": {},
   "source": [
    "### Advanced variable types\n",
    "\n",
    "- Lists\n",
    "- Dictionaries\n",
    "- Tuples\n",
    "- Sets"
   ]
  },
  {
   "cell_type": "markdown",
   "id": "c67fe139",
   "metadata": {},
   "source": [
    "### Lists\n",
    "\n",
    "Lists are an ordered array-like structure that is *mutable*. List elements can be of any type, including other lists, dictionary, and tuples"
   ]
  },
  {
   "cell_type": "code",
   "execution_count": 218,
   "id": "4ba85289",
   "metadata": {},
   "outputs": [
    {
     "name": "stdout",
     "output_type": "stream",
     "text": [
      "[3, 5, 9.2, 'oye', ['a', 'b', 8.8, [1, 2, 3]]]\n"
     ]
    },
    {
     "data": {
      "text/plain": [
       "list"
      ]
     },
     "execution_count": 218,
     "metadata": {},
     "output_type": "execute_result"
    }
   ],
   "source": [
    "#Declare a list like so:\n",
    "L = [3, 5, 9.2, 'oye', ['a', 'b', 8.8, [1, 2,3]]] #Note the list as the last element of L\n",
    "\n",
    "print(L)\n",
    "type(L)"
   ]
  },
  {
   "cell_type": "code",
   "execution_count": 224,
   "id": "cc5aab5b",
   "metadata": {},
   "outputs": [
    {
     "data": {
      "text/plain": [
       "[1, 2, 3]"
      ]
     },
     "execution_count": 224,
     "metadata": {},
     "output_type": "execute_result"
    }
   ],
   "source": [
    "#Access by index, starting at 0\n",
    "L[4][3][:]"
   ]
  },
  {
   "cell_type": "markdown",
   "id": "902998aa",
   "metadata": {},
   "source": [
    "#### Methods: Lists, like most Python objects, have methods that you can call..."
   ]
  },
  {
   "cell_type": "code",
   "execution_count": 225,
   "id": "10a64e82",
   "metadata": {},
   "outputs": [
    {
     "data": {
      "text/plain": [
       "'a'"
      ]
     },
     "execution_count": 225,
     "metadata": {},
     "output_type": "execute_result"
    }
   ],
   "source": [
    "L[4][0]"
   ]
  },
  {
   "cell_type": "code",
   "execution_count": 226,
   "id": "e420e667",
   "metadata": {},
   "outputs": [
    {
     "data": {
      "text/plain": [
       "'00A'"
      ]
     },
     "execution_count": 226,
     "metadata": {},
     "output_type": "execute_result"
    }
   ],
   "source": [
    "#Note some useful string methods:\n",
    "#And how we \"chain\" methods:\n",
    "\n",
    "L[4][0].upper().zfill(3)"
   ]
  },
  {
   "cell_type": "code",
   "execution_count": 227,
   "id": "4ce5f0f8",
   "metadata": {},
   "outputs": [
    {
     "data": {
      "text/plain": [
       "['__add__',\n",
       " '__class__',\n",
       " '__class_getitem__',\n",
       " '__contains__',\n",
       " '__delattr__',\n",
       " '__delitem__',\n",
       " '__dir__',\n",
       " '__doc__',\n",
       " '__eq__',\n",
       " '__format__',\n",
       " '__ge__',\n",
       " '__getattribute__',\n",
       " '__getitem__',\n",
       " '__gt__',\n",
       " '__hash__',\n",
       " '__iadd__',\n",
       " '__imul__',\n",
       " '__init__',\n",
       " '__init_subclass__',\n",
       " '__iter__',\n",
       " '__le__',\n",
       " '__len__',\n",
       " '__lt__',\n",
       " '__mul__',\n",
       " '__ne__',\n",
       " '__new__',\n",
       " '__reduce__',\n",
       " '__reduce_ex__',\n",
       " '__repr__',\n",
       " '__reversed__',\n",
       " '__rmul__',\n",
       " '__setattr__',\n",
       " '__setitem__',\n",
       " '__sizeof__',\n",
       " '__str__',\n",
       " '__subclasshook__',\n",
       " 'append',\n",
       " 'clear',\n",
       " 'copy',\n",
       " 'count',\n",
       " 'extend',\n",
       " 'index',\n",
       " 'insert',\n",
       " 'pop',\n",
       " 'remove',\n",
       " 'reverse',\n",
       " 'sort']"
      ]
     },
     "execution_count": 227,
     "metadata": {},
     "output_type": "execute_result"
    }
   ],
   "source": [
    "## Check out the many attributes/methods of the mighty list:\n",
    "######\n",
    "\n",
    "dir(list)\n"
   ]
  },
  {
   "cell_type": "code",
   "execution_count": 228,
   "id": "063ecd51",
   "metadata": {},
   "outputs": [
    {
     "name": "stdout",
     "output_type": "stream",
     "text": [
      "[1, 2, 3, 5]\n",
      "[5, 3, 2, 1]\n"
     ]
    }
   ],
   "source": [
    "#Let's try some!\n",
    "#Note that these typically alter the list in place:\n",
    "\n",
    "L = [1, 5, 3, 2]\n",
    "\n",
    "L.sort()  #Could add reverse = True as optional argument\n",
    "print(L)\n",
    "\n",
    "L.reverse()\n",
    "print(L)"
   ]
  },
  {
   "cell_type": "code",
   "execution_count": 229,
   "id": "5f5808d6",
   "metadata": {},
   "outputs": [
    {
     "name": "stdout",
     "output_type": "stream",
     "text": [
      "[99, 5, 3, 2]\n",
      "[99, 5, 3, 2]\n"
     ]
    }
   ],
   "source": [
    "#Once again, variable name binding:\n",
    "#####\n",
    "\n",
    "#To see:\n",
    "a = [1, 5, 3, 2]\n",
    "\n",
    "b = a\n",
    "b[0] = 99\n",
    "\n",
    "print(a)\n",
    "print(b)\n"
   ]
  },
  {
   "cell_type": "code",
   "execution_count": 233,
   "id": "550ab21e",
   "metadata": {},
   "outputs": [
    {
     "name": "stdout",
     "output_type": "stream",
     "text": [
      "[1, 5, 3, 2]\n",
      "[88, 5, 3, 2]\n"
     ]
    }
   ],
   "source": [
    "#Copy method, or [:]:\n",
    "\n",
    "#So instead:\n",
    "a = [1, 5, 3, 2]\n",
    "\n",
    "if (1):\n",
    "    b = a[:]\n",
    "else:\n",
    "    b = a.copy()\n",
    "    \n",
    "    \n",
    "b[0] = 88\n",
    "\n",
    "print(a)\n",
    "print(b)\n"
   ]
  },
  {
   "cell_type": "markdown",
   "id": "1a237307",
   "metadata": {},
   "source": [
    "#### Accessing lists and other list-like objects:"
   ]
  },
  {
   "cell_type": "code",
   "execution_count": 234,
   "id": "44645bdf",
   "metadata": {},
   "outputs": [
    {
     "data": {
      "text/plain": [
       "[2, 3, 5, 1]"
      ]
     },
     "execution_count": 234,
     "metadata": {},
     "output_type": "execute_result"
    }
   ],
   "source": [
    "#Various ways to access...\n",
    "a[0]\n",
    "\n",
    "a[2:4]\n",
    "\n",
    "a[:] #Everythin\n",
    "a[:-1] #Everything except last element\n",
    "\n",
    "a[-1] #Last element\n",
    "a[-3] #Third from last\n",
    "a[-2:] #Second to last to the end\n",
    "\n",
    "a[1:6:2] #1:6 by 2, note this is different order than MATLAB\n",
    "\n",
    "a[::2] #Everything by 2\n",
    "\n",
    "a[::-1] #Go backwards"
   ]
  },
  {
   "cell_type": "markdown",
   "id": "c7ef197d",
   "metadata": {},
   "source": [
    "#### Extending/Appending Lists"
   ]
  },
  {
   "cell_type": "code",
   "execution_count": 257,
   "id": "5db2c639",
   "metadata": {},
   "outputs": [
    {
     "data": {
      "text/plain": [
       "[1, 2, 3, 4, 5, 6]"
      ]
     },
     "execution_count": 257,
     "metadata": {},
     "output_type": "execute_result"
    }
   ],
   "source": [
    "#Let's append and extend our lists, I say\n",
    "#Consider the following\n",
    "\n",
    "a = [1, 2, 3]\n",
    "b = [4, 5, 6]\n",
    "\n",
    "a + b\n",
    "\n",
    "#a*5\n",
    "#Go from there...\n",
    "#a.append(b)\n",
    "#a\n",
    "\n",
    "#a.extend(b)\n",
    "#a\n",
    "\n",
    "#a*3 + b*5"
   ]
  },
  {
   "cell_type": "code",
   "execution_count": 252,
   "id": "d16181a8",
   "metadata": {},
   "outputs": [
    {
     "data": {
      "text/plain": [
       "[1, 2, 3]"
      ]
     },
     "execution_count": 252,
     "metadata": {},
     "output_type": "execute_result"
    }
   ],
   "source": [
    "a"
   ]
  },
  {
   "cell_type": "markdown",
   "id": "3141c342",
   "metadata": {},
   "source": [
    "#### Math on lists?"
   ]
  },
  {
   "cell_type": "code",
   "execution_count": 261,
   "id": "f5c6981a",
   "metadata": {},
   "outputs": [
    {
     "data": {
      "text/plain": [
       "[1, 2, 3, 1]"
      ]
     },
     "execution_count": 261,
     "metadata": {},
     "output_type": "execute_result"
    }
   ],
   "source": [
    "#Try the following\n",
    "#############\n",
    "\n",
    "a = [1,2,3]\n",
    "b = [1,1,1]\n",
    "\n",
    "a + [1]"
   ]
  },
  {
   "cell_type": "code",
   "execution_count": 262,
   "id": "b39b9c57",
   "metadata": {},
   "outputs": [
    {
     "data": {
      "text/plain": [
       "[1, 2, 3, 1]"
      ]
     },
     "execution_count": 262,
     "metadata": {},
     "output_type": "execute_result"
    }
   ],
   "source": [
    "a + [1]"
   ]
  },
  {
   "cell_type": "code",
   "execution_count": 263,
   "id": "76863c9e",
   "metadata": {},
   "outputs": [
    {
     "data": {
      "text/plain": [
       "[1, 2, 3, 1, 1, 1]"
      ]
     },
     "execution_count": 263,
     "metadata": {},
     "output_type": "execute_result"
    }
   ],
   "source": [
    "a + b"
   ]
  },
  {
   "cell_type": "code",
   "execution_count": 264,
   "id": "c79be065",
   "metadata": {},
   "outputs": [
    {
     "data": {
      "text/plain": [
       "[1, 2, 3, 1, 2, 3, 1, 2, 3]"
      ]
     },
     "execution_count": 264,
     "metadata": {},
     "output_type": "execute_result"
    }
   ],
   "source": [
    "a * 3"
   ]
  },
  {
   "cell_type": "code",
   "execution_count": 265,
   "id": "b85b910d",
   "metadata": {},
   "outputs": [
    {
     "data": {
      "text/plain": [
       "[2, 3, 4]"
      ]
     },
     "execution_count": 265,
     "metadata": {},
     "output_type": "execute_result"
    }
   ],
   "source": [
    "## To do actually do math...\n",
    "#######\n",
    "\n",
    "#List comprehesion comes in handy:\n",
    "\n",
    "a = [1,2,3]\n",
    "\n",
    "[i + 1 for i in a]\n"
   ]
  },
  {
   "cell_type": "code",
   "execution_count": 266,
   "id": "2426addb",
   "metadata": {},
   "outputs": [
    {
     "data": {
      "text/plain": [
       "[3, 6, 9]"
      ]
     },
     "execution_count": 266,
     "metadata": {},
     "output_type": "execute_result"
    }
   ],
   "source": [
    "[i*3 for i in a]"
   ]
  },
  {
   "cell_type": "code",
   "execution_count": 267,
   "id": "08cb754a",
   "metadata": {},
   "outputs": [
    {
     "data": {
      "text/plain": [
       "[6, 12, 18]"
      ]
     },
     "execution_count": 267,
     "metadata": {},
     "output_type": "execute_result"
    }
   ],
   "source": [
    "#Add two lists:\n",
    "#####\n",
    "\n",
    "a = [1,2,3]\n",
    "b = [5,10,15]\n",
    "\n",
    "[i + j for i, j in zip(a, b)]\n"
   ]
  },
  {
   "cell_type": "code",
   "execution_count": 270,
   "id": "a5c9f116",
   "metadata": {},
   "outputs": [
    {
     "name": "stdout",
     "output_type": "stream",
     "text": [
      "1 5\n",
      "2 10\n",
      "3 15\n"
     ]
    }
   ],
   "source": [
    "for i,j in zip(a,b):\n",
    "    print(i,j)"
   ]
  },
  {
   "cell_type": "code",
   "execution_count": 269,
   "id": "3f4aae86",
   "metadata": {},
   "outputs": [
    {
     "data": {
      "text/plain": [
       "[(1, 5), (2, 10), (3, 15)]"
      ]
     },
     "execution_count": 269,
     "metadata": {},
     "output_type": "execute_result"
    }
   ],
   "source": [
    "list(zip(a, b))"
   ]
  },
  {
   "cell_type": "markdown",
   "id": "15537b14",
   "metadata": {},
   "source": [
    "#### List Comprehension\n",
    "\n",
    "The basic form of a list comprehension is:\n",
    "\n",
    "```\n",
    "[expr for val in collection if condition]\n",
    "```\n",
    "\n",
    "Which is equivalent to:\n",
    "\n",
    "```\n",
    "result = []\n",
    "for val in collection:\n",
    "    if condition:\n",
    "        result.append(expr)\n",
    "```\n",
    "\n",
    "Don't necessarily need the condition, in which case we just append vals all together."
   ]
  },
  {
   "cell_type": "code",
   "execution_count": 33,
   "id": "560824dc",
   "metadata": {},
   "outputs": [
    {
     "data": {
      "text/plain": [
       "[1, 2, 27]"
      ]
     },
     "execution_count": 33,
     "metadata": {},
     "output_type": "execute_result"
    }
   ],
   "source": [
    "[i**3 if (i%3 == 0) else i for i in [1,2,3] if i < 15]"
   ]
  },
  {
   "cell_type": "code",
   "execution_count": 274,
   "id": "572f0d2d",
   "metadata": {},
   "outputs": [
    {
     "data": {
      "text/plain": [
       "[1, 2, 3, 4, 5, 6, 7, 8, 9]"
      ]
     },
     "execution_count": 274,
     "metadata": {},
     "output_type": "execute_result"
    }
   ],
   "source": [
    "list(range(1,10))"
   ]
  },
  {
   "cell_type": "code",
   "execution_count": 275,
   "id": "4925a336",
   "metadata": {},
   "outputs": [
    {
     "data": {
      "text/plain": [
       "[4, 16, 36, 64]"
      ]
     },
     "execution_count": 275,
     "metadata": {},
     "output_type": "execute_result"
    }
   ],
   "source": [
    "#Create a new array of the even values, squared:\n",
    "#C-style:\n",
    "x = list(range(1,10))\n",
    "\n",
    "y = []\n",
    "for k in x:\n",
    "    if (k % 2 == 0):\n",
    "        y.append(k**2)\n",
    "\n",
    "y"
   ]
  },
  {
   "cell_type": "code",
   "execution_count": 283,
   "id": "6e7097c8",
   "metadata": {},
   "outputs": [
    {
     "data": {
      "text/plain": [
       "[1, 4, 27, 16, 125, 36, 343, 64, 729]"
      ]
     },
     "execution_count": 283,
     "metadata": {},
     "output_type": "execute_result"
    }
   ],
   "source": [
    "#Python Style:\n",
    "x = list(range(1,10))\n",
    "\n",
    "#y = [el**2 for el in x if el % 2 == 0]\n",
    "\n",
    "#Note this will not work:\n",
    "y = [el**2 if el % 2 == 0 else el**3 for el in x]\n",
    "y"
   ]
  },
  {
   "cell_type": "markdown",
   "id": "43329c66",
   "metadata": {},
   "source": [
    "### Dictionaries\n",
    "\n",
    "Dictionaries are mutable list-like objects, declared using curly {}, define a set of key/value pairs"
   ]
  },
  {
   "cell_type": "code",
   "execution_count": 284,
   "id": "7edccdc1",
   "metadata": {},
   "outputs": [
    {
     "data": {
      "text/plain": [
       "{'thing1': 12.3, 'thing2': 14, 'cat': 'hat', 'yurtle': 'turtle', 5: 42}"
      ]
     },
     "execution_count": 284,
     "metadata": {},
     "output_type": "execute_result"
    }
   ],
   "source": [
    "#Make a dictionary\n",
    "my_dict = {'thing1':12.3, 'thing2':14, 'cat':'hat', 'yurtle':'turtle', 5:42}\n",
    "my_dict"
   ]
  },
  {
   "cell_type": "code",
   "execution_count": 287,
   "id": "227ead61",
   "metadata": {},
   "outputs": [
    {
     "data": {
      "text/plain": [
       "12.3"
      ]
     },
     "execution_count": 287,
     "metadata": {},
     "output_type": "execute_result"
    }
   ],
   "source": [
    "#Get by key\n",
    "my_dict['thing1']"
   ]
  },
  {
   "cell_type": "code",
   "execution_count": null,
   "id": "2b0dd750",
   "metadata": {},
   "outputs": [],
   "source": [
    "#Note that dictionaries are unordered, can't use use indexing!\n",
    "#This will give error:\n",
    "my_dict[0]\n"
   ]
  },
  {
   "cell_type": "code",
   "execution_count": null,
   "id": "16c07957",
   "metadata": {},
   "outputs": [],
   "source": [
    "#Can add to dictionary\n",
    "#my_dict.update({'lorax': 'trees'})\n",
    "#my_dict\n",
    "\n",
    "#Can also just use:\n",
    "my_dict['lorax'] = 'trees'\n",
    "my_dict"
   ]
  },
  {
   "cell_type": "code",
   "execution_count": null,
   "id": "9442fa78",
   "metadata": {},
   "outputs": [],
   "source": [
    "#Can pop an entry by key: Remove key and return the item\n",
    "a = my_dict.pop('cat')\n",
    "print(a)\n",
    "my_dict\n",
    "\n",
    "#Using del also an option:\n",
    "#del my_dict['cat']\n",
    "#my_dict"
   ]
  },
  {
   "cell_type": "code",
   "execution_count": null,
   "id": "3bda210b",
   "metadata": {},
   "outputs": [],
   "source": [
    "#Can also pop last key:item pair\n",
    "a = my_dict.popitem()\n",
    "print(a)\n",
    "my_dict"
   ]
  },
  {
   "cell_type": "code",
   "execution_count": null,
   "id": "fe77a805",
   "metadata": {},
   "outputs": [],
   "source": [
    "#See if a key or value in the dictionary\n",
    "'thing1' in my_dict\n",
    "'turtle' in my_dict.values()"
   ]
  },
  {
   "cell_type": "code",
   "execution_count": null,
   "id": "eea673c0",
   "metadata": {},
   "outputs": [],
   "source": [
    "dir(dict)"
   ]
  },
  {
   "cell_type": "markdown",
   "id": "705e6489",
   "metadata": {},
   "source": [
    "Note that any Python object can be a value, but keys must be *hashable* objects = immutable objects like scalar types and tuples (below). To check, use `hash()` function:"
   ]
  },
  {
   "cell_type": "code",
   "execution_count": null,
   "id": "4699a01d",
   "metadata": {},
   "outputs": [],
   "source": [
    "hash(\"sdf\")\n",
    "hash([1,2,3])"
   ]
  },
  {
   "cell_type": "markdown",
   "id": "herbal-christianity",
   "metadata": {},
   "source": [
    "### Tuples\n",
    "\n",
    "Tuples are ordered, *immutable* array-like objects"
   ]
  },
  {
   "cell_type": "code",
   "execution_count": 290,
   "id": "challenging-geometry",
   "metadata": {},
   "outputs": [
    {
     "data": {
      "text/plain": [
       "(1, 3, 'test', 9, [1, 2, 3])"
      ]
     },
     "execution_count": 290,
     "metadata": {},
     "output_type": "execute_result"
    }
   ],
   "source": [
    "#Let's make us a tuple\n",
    "t = 1, 3, 'test', 9, [1,2,3]\n",
    "t"
   ]
  },
  {
   "cell_type": "code",
   "execution_count": 291,
   "id": "attended-chapel",
   "metadata": {},
   "outputs": [
    {
     "data": {
      "text/plain": [
       "1"
      ]
     },
     "execution_count": 291,
     "metadata": {},
     "output_type": "execute_result"
    }
   ],
   "source": [
    "#Index and access similar to lists\n",
    "#But tuples are immutable\n",
    "t[4][0]"
   ]
  },
  {
   "cell_type": "code",
   "execution_count": 292,
   "id": "rubber-newfoundland",
   "metadata": {},
   "outputs": [
    {
     "data": {
      "text/plain": [
       "2"
      ]
     },
     "execution_count": 292,
     "metadata": {},
     "output_type": "execute_result"
    }
   ],
   "source": [
    "#We can have lists, dictionaries, other tuples, etc. as elements\n",
    "t2 = ([1,2], (5,6,7), {'huey':'dewey', 10.1:20})\n",
    "\n",
    "t2[0][1]"
   ]
  },
  {
   "cell_type": "code",
   "execution_count": 293,
   "id": "adolescent-tongue",
   "metadata": {},
   "outputs": [
    {
     "data": {
      "text/plain": [
       "([1, 2, 3], 15, 'string!', True, False)"
      ]
     },
     "execution_count": 293,
     "metadata": {},
     "output_type": "execute_result"
    }
   ],
   "source": [
    "#Don't actually need parentheses...\n",
    "t3 = [1,2,3], 15, 'string!', True, False\n",
    "\n",
    "t3"
   ]
  },
  {
   "cell_type": "code",
   "execution_count": null,
   "id": "orange-savings",
   "metadata": {},
   "outputs": [],
   "source": [
    "#Unless necessary for more complex expressions, e.g. nested tuples (a tuple of tuples):\n",
    "nested_tuple = (4, 5, 6), (7, 8)\n"
   ]
  },
  {
   "cell_type": "code",
   "execution_count": 296,
   "id": "chubby-extra",
   "metadata": {},
   "outputs": [
    {
     "data": {
      "text/plain": [
       "(0, 1, 2, 3, 4)"
      ]
     },
     "execution_count": 296,
     "metadata": {},
     "output_type": "execute_result"
    }
   ],
   "source": [
    "tuple(range(0,5))"
   ]
  },
  {
   "cell_type": "code",
   "execution_count": null,
   "id": "alert-terminal",
   "metadata": {},
   "outputs": [],
   "source": [
    "#Can convert any sequence or iterator to a tuple with tuple():\n",
    "\n",
    "tuple([1,2,3])\n",
    "\n",
    "#tuple(range(5,15))"
   ]
  },
  {
   "cell_type": "code",
   "execution_count": null,
   "id": "smooth-memory",
   "metadata": {
    "scrolled": true
   },
   "outputs": [],
   "source": [
    "tuple(\"string\")"
   ]
  },
  {
   "cell_type": "markdown",
   "id": "minus-scene",
   "metadata": {},
   "source": [
    "Tuples are *immutable*. The following gives an error"
   ]
  },
  {
   "cell_type": "code",
   "execution_count": 297,
   "id": "static-alignment",
   "metadata": {},
   "outputs": [
    {
     "ename": "TypeError",
     "evalue": "'tuple' object does not support item assignment",
     "output_type": "error",
     "traceback": [
      "\u001b[1;31m---------------------------------------------------------------------------\u001b[0m",
      "\u001b[1;31mTypeError\u001b[0m                                 Traceback (most recent call last)",
      "Cell \u001b[1;32mIn[297], line 3\u001b[0m\n\u001b[0;32m      1\u001b[0m t \u001b[38;5;241m=\u001b[39m \u001b[38;5;28mtuple\u001b[39m([\u001b[38;5;241m1\u001b[39m,\u001b[38;5;241m2\u001b[39m,\u001b[38;5;241m3\u001b[39m,\u001b[38;5;28;01mFalse\u001b[39;00m])\n\u001b[1;32m----> 3\u001b[0m \u001b[43mt\u001b[49m\u001b[43m[\u001b[49m\u001b[38;5;241;43m0\u001b[39;49m\u001b[43m]\u001b[49m \u001b[38;5;241m=\u001b[39m \u001b[38;5;241m10\u001b[39m\n",
      "\u001b[1;31mTypeError\u001b[0m: 'tuple' object does not support item assignment"
     ]
    }
   ],
   "source": [
    "t = tuple([1,2,3,False])\n",
    "\n",
    "t[0] = 10"
   ]
  },
  {
   "cell_type": "markdown",
   "id": "divine-forwarding",
   "metadata": {},
   "source": [
    "However, we *can* modify mutable objects within a tuple:"
   ]
  },
  {
   "cell_type": "code",
   "execution_count": 298,
   "id": "capable-distance",
   "metadata": {
    "scrolled": true
   },
   "outputs": [
    {
     "data": {
      "text/plain": [
       "(1, 5, [2, 99, 5, 6], True, 'string')"
      ]
     },
     "execution_count": 298,
     "metadata": {},
     "output_type": "execute_result"
    }
   ],
   "source": [
    "t = 1, 5, [1, 2], True, \"string\"\n",
    "\n",
    "t[2].extend([1,5,6])\n",
    "t[2].remove(1)\n",
    "t[2][1] = 99\n",
    "\n",
    "t"
   ]
  },
  {
   "cell_type": "markdown",
   "id": "pediatric-hormone",
   "metadata": {},
   "source": [
    "**Unpacking tuples**"
   ]
  },
  {
   "cell_type": "code",
   "execution_count": 299,
   "id": "substantial-universal",
   "metadata": {},
   "outputs": [
    {
     "name": "stdout",
     "output_type": "stream",
     "text": [
      "4 5 6\n"
     ]
    }
   ],
   "source": [
    "#Can upack like so:\n",
    "###\n",
    "\n",
    "t = (4, 5, 6)\n",
    "\n",
    "a, b, c = t\n",
    "print(a,b,c)"
   ]
  },
  {
   "cell_type": "code",
   "execution_count": 301,
   "id": "dietary-activation",
   "metadata": {},
   "outputs": [
    {
     "name": "stdout",
     "output_type": "stream",
     "text": [
      "4 5 (6, 7)\n",
      "4 5 6 7\n"
     ]
    }
   ],
   "source": [
    "#For a nested tuple:\n",
    "###\n",
    "\n",
    "t = 4, 5, (6, 7)\n",
    "\n",
    "a, b, c = t\n",
    "\n",
    "print(a,b,c)\n",
    "\n",
    "#OR\n",
    "\n",
    "a, b, (c, d) = t\n",
    "print(a,b,c,d)"
   ]
  },
  {
   "cell_type": "markdown",
   "id": "unlikely-harmony",
   "metadata": {},
   "source": [
    "### Sets\n",
    "Sets are unordered, unindexed, and do not allow duplicate values. Can add or remove items, but cannot change existing items."
   ]
  },
  {
   "cell_type": "code",
   "execution_count": 304,
   "id": "british-authorization",
   "metadata": {},
   "outputs": [
    {
     "name": "stdout",
     "output_type": "stream",
     "text": [
      "{1, 2, 3, 4, 5}\n"
     ]
    },
    {
     "data": {
      "text/plain": [
       "{1, 3, 4, 5, 6}"
      ]
     },
     "execution_count": 304,
     "metadata": {},
     "output_type": "execute_result"
    }
   ],
   "source": [
    "#A quick example\n",
    "A = {1, 2, 2, 3, 4, 5, 5}\n",
    "print(A)\n",
    "\n",
    "A.add(6)\n",
    "A.discard(2)\n",
    "\n",
    "A"
   ]
  },
  {
   "cell_type": "markdown",
   "id": "4d8e5953",
   "metadata": {},
   "source": [
    "#### Can be a useful shortcut to getting unique elements:"
   ]
  },
  {
   "cell_type": "code",
   "execution_count": 305,
   "id": "84df1099",
   "metadata": {},
   "outputs": [
    {
     "name": "stdout",
     "output_type": "stream",
     "text": [
      "{1, 2, 3, 5}\n",
      "4\n"
     ]
    }
   ],
   "source": [
    "a = [1, 2, 3, 1, 1, 5]\n",
    "\n",
    "print(set(a))\n",
    "\n",
    "print(len(set(a)))"
   ]
  },
  {
   "cell_type": "markdown",
   "id": "completed-fighter",
   "metadata": {},
   "source": [
    "### Built-In Sequence Functions"
   ]
  },
  {
   "cell_type": "markdown",
   "id": "qualified-honor",
   "metadata": {},
   "source": [
    "#### enumerate"
   ]
  },
  {
   "cell_type": "code",
   "execution_count": 307,
   "id": "posted-placement",
   "metadata": {},
   "outputs": [
    {
     "name": "stdout",
     "output_type": "stream",
     "text": [
      "Index 0 has value: 1\n",
      "Index 1 has value: 5\n",
      "Index 2 has value: 6\n",
      "Index 3 has value: sdf\n",
      "Index 4 has value: 11\n"
     ]
    }
   ],
   "source": [
    "#When we use a for loop, we loop over an iterable object\n",
    "#Often want to track index. Can do:\n",
    "\n",
    "index = 0\n",
    "L = [1,5,6,\"sdf\",11]\n",
    "\n",
    "for k in L:\n",
    "    print(\"Index \" + str(index) + \" has value: \" + str(k))\n",
    "    \n",
    "    index += 1"
   ]
  },
  {
   "cell_type": "code",
   "execution_count": 308,
   "id": "spiritual-uruguay",
   "metadata": {
    "scrolled": true
   },
   "outputs": [
    {
     "name": "stdout",
     "output_type": "stream",
     "text": [
      "Index 0 has value: 1\n",
      "Index 1 has value: 5\n",
      "Index 2 has value: 6\n",
      "Index 3 has value: sdf\n",
      "Index 4 has value: 11\n"
     ]
    }
   ],
   "source": [
    "#Alternative is to use enumerate(): Returns sequence of (i, value) tuples:\n",
    "\n",
    "for index, value in enumerate(L):\n",
    "    print(\"Index \" + str(index) + \" has value: \" + str(value))"
   ]
  },
  {
   "cell_type": "code",
   "execution_count": 309,
   "id": "acknowledged-fancy",
   "metadata": {
    "scrolled": true
   },
   "outputs": [
    {
     "name": "stdout",
     "output_type": "stream",
     "text": [
      "{'archer': 0, 'mage': 1, 'fighter': 2}\n"
     ]
    },
    {
     "data": {
      "text/plain": [
       "['archer', 'mage', 'barbarian']"
      ]
     },
     "execution_count": 309,
     "metadata": {},
     "output_type": "execute_result"
    }
   ],
   "source": [
    "#We can also map the (unique) values in a list to their location in the list, using a dictionary plus enumerate:\n",
    "\n",
    "my_list = ['archer', 'mage', 'fighter']\n",
    "\n",
    "mapping = {}\n",
    "\n",
    "for index, value in enumerate(my_list):\n",
    "    mapping[value] = index\n",
    "    \n",
    "print(mapping)\n",
    "\n",
    "#Now can do:\n",
    "my_list[mapping['fighter']] = 'barbarian'\n",
    "my_list"
   ]
  },
  {
   "cell_type": "markdown",
   "id": "about-innocent",
   "metadata": {},
   "source": [
    "#### zip\n",
    "`zip` pairs elements of other sequences to create a list of tuples:"
   ]
  },
  {
   "cell_type": "code",
   "execution_count": 320,
   "id": "hired-admission",
   "metadata": {},
   "outputs": [
    {
     "name": "stdout",
     "output_type": "stream",
     "text": [
      "<zip object at 0x0000014D95E36200>\n"
     ]
    }
   ],
   "source": [
    "seq1 = [1, 2, 3]\n",
    "seq2 = [\"one\", \"two\", \"three\"]\n",
    "\n",
    "zipped = zip(seq1, seq2)\n",
    "print(zipped)\n",
    "\n",
    "#print(list(zipped))\n"
   ]
  },
  {
   "cell_type": "code",
   "execution_count": 315,
   "id": "aed8e1db",
   "metadata": {},
   "outputs": [
    {
     "data": {
      "text/plain": [
       "[]"
      ]
     },
     "execution_count": 315,
     "metadata": {},
     "output_type": "execute_result"
    }
   ],
   "source": [
    "list(zipped)"
   ]
  },
  {
   "cell_type": "code",
   "execution_count": 321,
   "id": "ec03e479",
   "metadata": {},
   "outputs": [
    {
     "name": "stdout",
     "output_type": "stream",
     "text": [
      "(1, 2, 3) ('one', 'two', 'three')\n"
     ]
    }
   ],
   "source": [
    "#Can also \"unzip\":\n",
    "########\n",
    "\n",
    "L = list(zipped)\n",
    "\n",
    "a, b = zip(*L)\n",
    "\n",
    "print(a, b)"
   ]
  },
  {
   "cell_type": "code",
   "execution_count": 322,
   "id": "coastal-coalition",
   "metadata": {},
   "outputs": [
    {
     "data": {
      "text/plain": [
       "[(1, 'one', 'A'), (2, 'two', 'B')]"
      ]
     },
     "execution_count": 322,
     "metadata": {},
     "output_type": "execute_result"
    }
   ],
   "source": [
    "#Note if you zip sequences of unequal length:\n",
    "#########\n",
    "\n",
    "seq1 = [1, 2, 3]\n",
    "seq2 = [\"one\", \"two\", \"three\"]\n",
    "seq3 = [\"A\", \"B\"]\n",
    "\n",
    "zipped = zip(seq1, seq2, seq3)\n",
    "l = list(zipped)\n",
    "l"
   ]
  },
  {
   "cell_type": "markdown",
   "id": "spiritual-container",
   "metadata": {},
   "source": [
    "### Control Structures\n",
    "\n",
    "- Conditional statements\n",
    "- `for`, `while`\n",
    "- `range`\n",
    "- `try`-`except`"
   ]
  },
  {
   "cell_type": "code",
   "execution_count": null,
   "id": "honey-kennedy",
   "metadata": {},
   "outputs": [],
   "source": [
    "#Basic if-elif-else\n",
    "#####\n",
    "mylist = [1,2,3,4,5]\n",
    "\n",
    "if (2 in mylist):\n",
    "    print('It is!')\n",
    "elif (4 in mylist):\n",
    "    print('Ooh, found this!')\n",
    "elif (7 in mylist):\n",
    "    print('A boring 7.')\n",
    "else:\n",
    "    print('None, oh no!')\n",
    "\n",
    "#More standard comparisons\n",
    "# ==, !=, and, or, <=, >=, <, >"
   ]
  },
  {
   "cell_type": "code",
   "execution_count": null,
   "id": "transsexual-shanghai",
   "metadata": {},
   "outputs": [],
   "source": [
    "#Special option is pass:\n",
    "if (2 == 2):\n",
    "    #I'll implement something brilliant later\n",
    "    pass\n",
    "else:\n",
    "    pass\n"
   ]
  },
  {
   "cell_type": "code",
   "execution_count": 324,
   "id": "c252f0ce",
   "metadata": {},
   "outputs": [
    {
     "name": "stdout",
     "output_type": "stream",
     "text": [
      "Success! But remember, the paths of glory lead but to the grave.\n",
      "Depressing either way!\n"
     ]
    }
   ],
   "source": [
    "#Note try-except\n",
    "####\n",
    "\n",
    "try:\n",
    "    x = (1,2,3)\n",
    "    #x[0] = 99\n",
    "except:\n",
    "    print('Failure!')\n",
    "else:\n",
    "    print('Success! But remember, the paths of glory lead but to the grave.')\n",
    "finally:\n",
    "    print('Depressing either way!')\n",
    "    "
   ]
  },
  {
   "cell_type": "code",
   "execution_count": null,
   "id": "paperback-train",
   "metadata": {},
   "outputs": [],
   "source": [
    "#For loops\n",
    "#########\n",
    "\n",
    "#Note, we always use \"in\" structure, often with range function\n",
    "for k in range(0,10,2):\n",
    "    print(k)"
   ]
  },
  {
   "cell_type": "code",
   "execution_count": null,
   "id": "amateur-coral",
   "metadata": {},
   "outputs": [],
   "source": [
    "#Range stuff\n",
    "a = range(0,10)\n",
    "a\n",
    "\n",
    "#list(a)\n"
   ]
  },
  {
   "cell_type": "code",
   "execution_count": null,
   "id": "curious-strengthening",
   "metadata": {},
   "outputs": [],
   "source": [
    "b = range(0, 10, 3)\n",
    "for k in b:\n",
    "    print(k)"
   ]
  },
  {
   "cell_type": "code",
   "execution_count": null,
   "id": "settled-owner",
   "metadata": {},
   "outputs": [],
   "source": [
    "#Construct list using for and range\n",
    "mylist = [i for i in range(0,20,2)]\n",
    "\n",
    "mylist"
   ]
  },
  {
   "cell_type": "code",
   "execution_count": null,
   "id": "handled-tourist",
   "metadata": {},
   "outputs": [],
   "source": [
    "#Can iterate over lots of things:\n",
    "name_list = ['A', 'B', 'C', 'D']\n",
    "my_dict ={'thing1':12.3, 'thing2':14, 'cat':'hat', 'yurtle':'turtle', 5:42}\n",
    "\n",
    "for n in name_list:\n",
    "    print(n)\n",
    "    \n",
    "print('')\n",
    "    \n",
    "for d in my_dict.items():\n",
    "    print(d[1])\n",
    "    \n",
    "print('')\n",
    "\n",
    "for k in my_dict:\n",
    "    print(k, my_dict[k])"
   ]
  },
  {
   "cell_type": "code",
   "execution_count": null,
   "id": "absolute-supplier",
   "metadata": {},
   "outputs": [],
   "source": [
    "#The venerable while loop\n",
    "\n",
    "count = 0\n",
    "while (count < 5):\n",
    "    count += 1\n",
    "    \n",
    "print('count is now ' + str(count))"
   ]
  },
  {
   "cell_type": "code",
   "execution_count": null,
   "id": "dated-charge",
   "metadata": {},
   "outputs": [],
   "source": [
    "#We have some special commands for looping\n",
    "#break, continue\n",
    "my_list = [i for i in range(3,10)]\n",
    "\n",
    "#Let's try to find the first index corresponding to 5 in my_list\n",
    "i = -1\n",
    "for k in range(len(my_list)):\n",
    "    \n",
    "    print(k)\n",
    "    \n",
    "    if (my_list[k] == 5):\n",
    "        i = k\n",
    "        break\n",
    "        \n",
    "    #Let's avoid printing 'Hey!'\n",
    "    continue\n",
    "    \n",
    "    print('Hey!')"
   ]
  },
  {
   "cell_type": "code",
   "execution_count": null,
   "id": "representative-coordinator",
   "metadata": {},
   "outputs": [],
   "source": [
    "#Compare to:\n",
    "my_list.index(5)\n"
   ]
  },
  {
   "cell_type": "code",
   "execution_count": null,
   "id": "1eb95b66",
   "metadata": {},
   "outputs": [],
   "source": [
    "#What if we want to find all indices?\n",
    "#Can do with a for loop:\n",
    "my_list = [i for i in range(3,10)] + [1,5,5,2,5]\n",
    "\n",
    "index_list = []\n",
    "\n",
    "for k in range(len(my_list)):\n",
    "    \n",
    "    if (my_list[k] == 5):\n",
    "        index_list.append(k)\n",
    "\n",
    "index_list\n"
   ]
  },
  {
   "cell_type": "code",
   "execution_count": null,
   "id": "a5f674b0",
   "metadata": {},
   "outputs": [],
   "source": [
    "#OR MAX PYTHON \"List Comprehension\"\n",
    "######\n",
    "\n",
    "index_list = [i for i, x in enumerate(my_list) if x == 5]\n",
    "index_list"
   ]
  },
  {
   "cell_type": "markdown",
   "id": "17f586aa",
   "metadata": {},
   "source": [
    "### List, Set, and Dict Comprehension and being \"Pythonic\"\n",
    "\n",
    "Have already seen basic form of a **list comprehension** is:\n",
    "\n",
    "```\n",
    "[expr for val in collection if condition]\n",
    "```\n",
    "\n",
    "Which is equivalent to:\n",
    "\n",
    "```\n",
    "result = []\n",
    "for val in collection:\n",
    "    if condition:\n",
    "        result.append(expr)\n",
    "```\n",
    "\n",
    "Don't necessarily need the condition, in which case we just append vals all together."
   ]
  },
  {
   "cell_type": "code",
   "execution_count": null,
   "id": "d86fdbdd",
   "metadata": {},
   "outputs": [],
   "source": [
    "#Get ridiculous...\n",
    "\n",
    "#Square if divisible by 2 and 3\n",
    "#Cube if just divisble by 3\n",
    "#Otherwise keep the same\n",
    "#Do for first 6 indices\n",
    "\n",
    "x = list(range(1,10))\n",
    "\n",
    "x = [el**2 if (el % 2 == 0 and el % 3 != 0) else el**3 if el % 3 == 0 else el for i, el in enumerate(x) if i < 6]\n",
    "x\n"
   ]
  },
  {
   "cell_type": "markdown",
   "id": "a7752a3e",
   "metadata": {},
   "source": [
    "#### Set Comprehensions\n",
    "\n",
    "For set comprehensions, we just use `{}` instead of `[]`:\n",
    "\n",
    "```\n",
    "{expr for val in collection if condition}\n",
    "```"
   ]
  },
  {
   "cell_type": "markdown",
   "id": "258b6f0a",
   "metadata": {},
   "source": [
    "#### Dict Comprehensions\n",
    "\n",
    "Use format:\n",
    "\n",
    "```\n",
    "{key-expr : value-expr for value in collection if condition}\n",
    "```\n"
   ]
  },
  {
   "cell_type": "markdown",
   "id": "colored-stroke",
   "metadata": {},
   "source": [
    "### Functions"
   ]
  },
  {
   "cell_type": "code",
   "execution_count": 325,
   "id": "parental-cross",
   "metadata": {},
   "outputs": [],
   "source": [
    "#Let's define our own functions!\n",
    "\n",
    "#Can set default values\n",
    "def add(a = 3, b = 4):\n",
    "    x = a + b\n",
    "    \n",
    "    return(x)"
   ]
  },
  {
   "cell_type": "code",
   "execution_count": 326,
   "id": "periodic-sample",
   "metadata": {},
   "outputs": [],
   "source": [
    "#Can return multiple values\n",
    "#Really a tuple\n",
    "\n",
    "def get_123():\n",
    "    return 1,2,3"
   ]
  },
  {
   "cell_type": "code",
   "execution_count": 330,
   "id": "6290dc5f",
   "metadata": {},
   "outputs": [
    {
     "data": {
      "text/plain": [
       "(1, 2, 3)"
      ]
     },
     "execution_count": 330,
     "metadata": {},
     "output_type": "execute_result"
    }
   ],
   "source": [
    "#Try calling...\n",
    "####\n"
   ]
  },
  {
   "cell_type": "code",
   "execution_count": null,
   "id": "express-mississippi",
   "metadata": {},
   "outputs": [],
   "source": [
    "#Let's consider variable numbers of positional arguments\n",
    "#####\n",
    "def add_n(*args):\n",
    "    \n",
    "    print(args)\n",
    "    \n",
    "    total_sum = 0\n",
    "    \n",
    "    for k in args:\n",
    "        total_sum += k\n",
    "        \n",
    "    return (total_sum)"
   ]
  },
  {
   "cell_type": "code",
   "execution_count": null,
   "id": "parallel-spread",
   "metadata": {},
   "outputs": [],
   "source": [
    "#Let's consider variable numbers of keyword arguments\n",
    "#####\n",
    "def test_var(**kwargs):\n",
    "    \n",
    "    print(kwargs)\n",
    "    \n",
    "    for (k,v) in kwargs.items():\n",
    "        print(k,v)\n",
    "        "
   ]
  },
  {
   "cell_type": "code",
   "execution_count": null,
   "id": "8d28ce87",
   "metadata": {},
   "outputs": [],
   "source": [
    "test_var(x=4, fat='rat')"
   ]
  },
  {
   "cell_type": "markdown",
   "id": "resident-carol",
   "metadata": {},
   "source": [
    "### Anonymous Functions"
   ]
  },
  {
   "cell_type": "code",
   "execution_count": 34,
   "id": "reserved-technique",
   "metadata": {},
   "outputs": [
    {
     "data": {
      "text/plain": [
       "27"
      ]
     },
     "execution_count": 34,
     "metadata": {},
     "output_type": "execute_result"
    }
   ],
   "source": [
    "#Can define simple functions using lambda:\n",
    "cube = lambda x: x**3\n",
    "mult = lambda x,y: x*y\n",
    "\n",
    "cube(3)\n",
    "#Try out..."
   ]
  },
  {
   "cell_type": "code",
   "execution_count": 36,
   "id": "agreed-clinton",
   "metadata": {},
   "outputs": [
    {
     "data": {
      "text/plain": [
       "125"
      ]
     },
     "execution_count": 36,
     "metadata": {},
     "output_type": "execute_result"
    }
   ],
   "source": [
    "#Can use a lambda expression without naming the function, hence, \"anonymous function\"\n",
    "\n",
    "(lambda x: x**3)(5)\n"
   ]
  },
  {
   "cell_type": "markdown",
   "id": "filled-dispatch",
   "metadata": {},
   "source": [
    "### Generators\n",
    "\n",
    "Iterators are objects that yield, in turn, objects to the Python interpreter when used in a context like a `for` loop:\n",
    "\n",
    "Consider iterating over a range:"
   ]
  },
  {
   "cell_type": "code",
   "execution_count": null,
   "id": "detailed-romantic",
   "metadata": {},
   "outputs": [],
   "source": [
    "for k in range(5):\n",
    "    print(k)\n",
    "    "
   ]
  },
  {
   "cell_type": "code",
   "execution_count": null,
   "id": "induced-nepal",
   "metadata": {},
   "outputs": [],
   "source": [
    "#Python creates an iterator to do this:\n",
    "range_iterator = iter(range(5))\n",
    "\n",
    "range_iterator"
   ]
  },
  {
   "cell_type": "code",
   "execution_count": null,
   "id": "hispanic-investigation",
   "metadata": {},
   "outputs": [],
   "source": [
    "list(range_iterator)\n",
    "\n",
    "#Do twice:\n",
    "#list(range_iterator)"
   ]
  },
  {
   "cell_type": "markdown",
   "id": "thermal-accent",
   "metadata": {},
   "source": [
    "We can make a *generator* to contruct an iterable object.\n",
    "\n",
    "- Generators return a sequence of results *lazily*\n",
    "- Use `yield` instead of `return` in a function\n",
    "\n",
    "Ex:"
   ]
  },
  {
   "cell_type": "code",
   "execution_count": 37,
   "id": "damaged-syndrome",
   "metadata": {},
   "outputs": [],
   "source": [
    "#Generate cubes from 1 to n:\n",
    "def gen_cubes(n = 10):\n",
    "    for i in range(1, n+1):\n",
    "        yield i**3"
   ]
  },
  {
   "cell_type": "code",
   "execution_count": 40,
   "id": "preliminary-atlas",
   "metadata": {},
   "outputs": [
    {
     "data": {
      "text/plain": [
       "<generator object gen_cubes at 0x000002440A4D2270>"
      ]
     },
     "execution_count": 40,
     "metadata": {},
     "output_type": "execute_result"
    }
   ],
   "source": [
    "gen = gen_cubes(int(1e3))\n",
    "gen"
   ]
  },
  {
   "cell_type": "code",
   "execution_count": 41,
   "id": "trained-behavior",
   "metadata": {},
   "outputs": [
    {
     "data": {
      "text/plain": [
       "[1,\n",
       " 8,\n",
       " 27,\n",
       " 64,\n",
       " 125,\n",
       " 216,\n",
       " 343,\n",
       " 512,\n",
       " 729,\n",
       " 1000,\n",
       " 1331,\n",
       " 1728,\n",
       " 2197,\n",
       " 2744,\n",
       " 3375,\n",
       " 4096,\n",
       " 4913,\n",
       " 5832,\n",
       " 6859,\n",
       " 8000,\n",
       " 9261,\n",
       " 10648,\n",
       " 12167,\n",
       " 13824,\n",
       " 15625,\n",
       " 17576,\n",
       " 19683,\n",
       " 21952,\n",
       " 24389,\n",
       " 27000,\n",
       " 29791,\n",
       " 32768,\n",
       " 35937,\n",
       " 39304,\n",
       " 42875,\n",
       " 46656,\n",
       " 50653,\n",
       " 54872,\n",
       " 59319,\n",
       " 64000,\n",
       " 68921,\n",
       " 74088,\n",
       " 79507,\n",
       " 85184,\n",
       " 91125,\n",
       " 97336,\n",
       " 103823,\n",
       " 110592,\n",
       " 117649,\n",
       " 125000,\n",
       " 132651,\n",
       " 140608,\n",
       " 148877,\n",
       " 157464,\n",
       " 166375,\n",
       " 175616,\n",
       " 185193,\n",
       " 195112,\n",
       " 205379,\n",
       " 216000,\n",
       " 226981,\n",
       " 238328,\n",
       " 250047,\n",
       " 262144,\n",
       " 274625,\n",
       " 287496,\n",
       " 300763,\n",
       " 314432,\n",
       " 328509,\n",
       " 343000,\n",
       " 357911,\n",
       " 373248,\n",
       " 389017,\n",
       " 405224,\n",
       " 421875,\n",
       " 438976,\n",
       " 456533,\n",
       " 474552,\n",
       " 493039,\n",
       " 512000,\n",
       " 531441,\n",
       " 551368,\n",
       " 571787,\n",
       " 592704,\n",
       " 614125,\n",
       " 636056,\n",
       " 658503,\n",
       " 681472,\n",
       " 704969,\n",
       " 729000,\n",
       " 753571,\n",
       " 778688,\n",
       " 804357,\n",
       " 830584,\n",
       " 857375,\n",
       " 884736,\n",
       " 912673,\n",
       " 941192,\n",
       " 970299,\n",
       " 1000000,\n",
       " 1030301,\n",
       " 1061208,\n",
       " 1092727,\n",
       " 1124864,\n",
       " 1157625,\n",
       " 1191016,\n",
       " 1225043,\n",
       " 1259712,\n",
       " 1295029,\n",
       " 1331000,\n",
       " 1367631,\n",
       " 1404928,\n",
       " 1442897,\n",
       " 1481544,\n",
       " 1520875,\n",
       " 1560896,\n",
       " 1601613,\n",
       " 1643032,\n",
       " 1685159,\n",
       " 1728000,\n",
       " 1771561,\n",
       " 1815848,\n",
       " 1860867,\n",
       " 1906624,\n",
       " 1953125,\n",
       " 2000376,\n",
       " 2048383,\n",
       " 2097152,\n",
       " 2146689,\n",
       " 2197000,\n",
       " 2248091,\n",
       " 2299968,\n",
       " 2352637,\n",
       " 2406104,\n",
       " 2460375,\n",
       " 2515456,\n",
       " 2571353,\n",
       " 2628072,\n",
       " 2685619,\n",
       " 2744000,\n",
       " 2803221,\n",
       " 2863288,\n",
       " 2924207,\n",
       " 2985984,\n",
       " 3048625,\n",
       " 3112136,\n",
       " 3176523,\n",
       " 3241792,\n",
       " 3307949,\n",
       " 3375000,\n",
       " 3442951,\n",
       " 3511808,\n",
       " 3581577,\n",
       " 3652264,\n",
       " 3723875,\n",
       " 3796416,\n",
       " 3869893,\n",
       " 3944312,\n",
       " 4019679,\n",
       " 4096000,\n",
       " 4173281,\n",
       " 4251528,\n",
       " 4330747,\n",
       " 4410944,\n",
       " 4492125,\n",
       " 4574296,\n",
       " 4657463,\n",
       " 4741632,\n",
       " 4826809,\n",
       " 4913000,\n",
       " 5000211,\n",
       " 5088448,\n",
       " 5177717,\n",
       " 5268024,\n",
       " 5359375,\n",
       " 5451776,\n",
       " 5545233,\n",
       " 5639752,\n",
       " 5735339,\n",
       " 5832000,\n",
       " 5929741,\n",
       " 6028568,\n",
       " 6128487,\n",
       " 6229504,\n",
       " 6331625,\n",
       " 6434856,\n",
       " 6539203,\n",
       " 6644672,\n",
       " 6751269,\n",
       " 6859000,\n",
       " 6967871,\n",
       " 7077888,\n",
       " 7189057,\n",
       " 7301384,\n",
       " 7414875,\n",
       " 7529536,\n",
       " 7645373,\n",
       " 7762392,\n",
       " 7880599,\n",
       " 8000000,\n",
       " 8120601,\n",
       " 8242408,\n",
       " 8365427,\n",
       " 8489664,\n",
       " 8615125,\n",
       " 8741816,\n",
       " 8869743,\n",
       " 8998912,\n",
       " 9129329,\n",
       " 9261000,\n",
       " 9393931,\n",
       " 9528128,\n",
       " 9663597,\n",
       " 9800344,\n",
       " 9938375,\n",
       " 10077696,\n",
       " 10218313,\n",
       " 10360232,\n",
       " 10503459,\n",
       " 10648000,\n",
       " 10793861,\n",
       " 10941048,\n",
       " 11089567,\n",
       " 11239424,\n",
       " 11390625,\n",
       " 11543176,\n",
       " 11697083,\n",
       " 11852352,\n",
       " 12008989,\n",
       " 12167000,\n",
       " 12326391,\n",
       " 12487168,\n",
       " 12649337,\n",
       " 12812904,\n",
       " 12977875,\n",
       " 13144256,\n",
       " 13312053,\n",
       " 13481272,\n",
       " 13651919,\n",
       " 13824000,\n",
       " 13997521,\n",
       " 14172488,\n",
       " 14348907,\n",
       " 14526784,\n",
       " 14706125,\n",
       " 14886936,\n",
       " 15069223,\n",
       " 15252992,\n",
       " 15438249,\n",
       " 15625000,\n",
       " 15813251,\n",
       " 16003008,\n",
       " 16194277,\n",
       " 16387064,\n",
       " 16581375,\n",
       " 16777216,\n",
       " 16974593,\n",
       " 17173512,\n",
       " 17373979,\n",
       " 17576000,\n",
       " 17779581,\n",
       " 17984728,\n",
       " 18191447,\n",
       " 18399744,\n",
       " 18609625,\n",
       " 18821096,\n",
       " 19034163,\n",
       " 19248832,\n",
       " 19465109,\n",
       " 19683000,\n",
       " 19902511,\n",
       " 20123648,\n",
       " 20346417,\n",
       " 20570824,\n",
       " 20796875,\n",
       " 21024576,\n",
       " 21253933,\n",
       " 21484952,\n",
       " 21717639,\n",
       " 21952000,\n",
       " 22188041,\n",
       " 22425768,\n",
       " 22665187,\n",
       " 22906304,\n",
       " 23149125,\n",
       " 23393656,\n",
       " 23639903,\n",
       " 23887872,\n",
       " 24137569,\n",
       " 24389000,\n",
       " 24642171,\n",
       " 24897088,\n",
       " 25153757,\n",
       " 25412184,\n",
       " 25672375,\n",
       " 25934336,\n",
       " 26198073,\n",
       " 26463592,\n",
       " 26730899,\n",
       " 27000000,\n",
       " 27270901,\n",
       " 27543608,\n",
       " 27818127,\n",
       " 28094464,\n",
       " 28372625,\n",
       " 28652616,\n",
       " 28934443,\n",
       " 29218112,\n",
       " 29503629,\n",
       " 29791000,\n",
       " 30080231,\n",
       " 30371328,\n",
       " 30664297,\n",
       " 30959144,\n",
       " 31255875,\n",
       " 31554496,\n",
       " 31855013,\n",
       " 32157432,\n",
       " 32461759,\n",
       " 32768000,\n",
       " 33076161,\n",
       " 33386248,\n",
       " 33698267,\n",
       " 34012224,\n",
       " 34328125,\n",
       " 34645976,\n",
       " 34965783,\n",
       " 35287552,\n",
       " 35611289,\n",
       " 35937000,\n",
       " 36264691,\n",
       " 36594368,\n",
       " 36926037,\n",
       " 37259704,\n",
       " 37595375,\n",
       " 37933056,\n",
       " 38272753,\n",
       " 38614472,\n",
       " 38958219,\n",
       " 39304000,\n",
       " 39651821,\n",
       " 40001688,\n",
       " 40353607,\n",
       " 40707584,\n",
       " 41063625,\n",
       " 41421736,\n",
       " 41781923,\n",
       " 42144192,\n",
       " 42508549,\n",
       " 42875000,\n",
       " 43243551,\n",
       " 43614208,\n",
       " 43986977,\n",
       " 44361864,\n",
       " 44738875,\n",
       " 45118016,\n",
       " 45499293,\n",
       " 45882712,\n",
       " 46268279,\n",
       " 46656000,\n",
       " 47045881,\n",
       " 47437928,\n",
       " 47832147,\n",
       " 48228544,\n",
       " 48627125,\n",
       " 49027896,\n",
       " 49430863,\n",
       " 49836032,\n",
       " 50243409,\n",
       " 50653000,\n",
       " 51064811,\n",
       " 51478848,\n",
       " 51895117,\n",
       " 52313624,\n",
       " 52734375,\n",
       " 53157376,\n",
       " 53582633,\n",
       " 54010152,\n",
       " 54439939,\n",
       " 54872000,\n",
       " 55306341,\n",
       " 55742968,\n",
       " 56181887,\n",
       " 56623104,\n",
       " 57066625,\n",
       " 57512456,\n",
       " 57960603,\n",
       " 58411072,\n",
       " 58863869,\n",
       " 59319000,\n",
       " 59776471,\n",
       " 60236288,\n",
       " 60698457,\n",
       " 61162984,\n",
       " 61629875,\n",
       " 62099136,\n",
       " 62570773,\n",
       " 63044792,\n",
       " 63521199,\n",
       " 64000000,\n",
       " 64481201,\n",
       " 64964808,\n",
       " 65450827,\n",
       " 65939264,\n",
       " 66430125,\n",
       " 66923416,\n",
       " 67419143,\n",
       " 67917312,\n",
       " 68417929,\n",
       " 68921000,\n",
       " 69426531,\n",
       " 69934528,\n",
       " 70444997,\n",
       " 70957944,\n",
       " 71473375,\n",
       " 71991296,\n",
       " 72511713,\n",
       " 73034632,\n",
       " 73560059,\n",
       " 74088000,\n",
       " 74618461,\n",
       " 75151448,\n",
       " 75686967,\n",
       " 76225024,\n",
       " 76765625,\n",
       " 77308776,\n",
       " 77854483,\n",
       " 78402752,\n",
       " 78953589,\n",
       " 79507000,\n",
       " 80062991,\n",
       " 80621568,\n",
       " 81182737,\n",
       " 81746504,\n",
       " 82312875,\n",
       " 82881856,\n",
       " 83453453,\n",
       " 84027672,\n",
       " 84604519,\n",
       " 85184000,\n",
       " 85766121,\n",
       " 86350888,\n",
       " 86938307,\n",
       " 87528384,\n",
       " 88121125,\n",
       " 88716536,\n",
       " 89314623,\n",
       " 89915392,\n",
       " 90518849,\n",
       " 91125000,\n",
       " 91733851,\n",
       " 92345408,\n",
       " 92959677,\n",
       " 93576664,\n",
       " 94196375,\n",
       " 94818816,\n",
       " 95443993,\n",
       " 96071912,\n",
       " 96702579,\n",
       " 97336000,\n",
       " 97972181,\n",
       " 98611128,\n",
       " 99252847,\n",
       " 99897344,\n",
       " 100544625,\n",
       " 101194696,\n",
       " 101847563,\n",
       " 102503232,\n",
       " 103161709,\n",
       " 103823000,\n",
       " 104487111,\n",
       " 105154048,\n",
       " 105823817,\n",
       " 106496424,\n",
       " 107171875,\n",
       " 107850176,\n",
       " 108531333,\n",
       " 109215352,\n",
       " 109902239,\n",
       " 110592000,\n",
       " 111284641,\n",
       " 111980168,\n",
       " 112678587,\n",
       " 113379904,\n",
       " 114084125,\n",
       " 114791256,\n",
       " 115501303,\n",
       " 116214272,\n",
       " 116930169,\n",
       " 117649000,\n",
       " 118370771,\n",
       " 119095488,\n",
       " 119823157,\n",
       " 120553784,\n",
       " 121287375,\n",
       " 122023936,\n",
       " 122763473,\n",
       " 123505992,\n",
       " 124251499,\n",
       " 125000000,\n",
       " 125751501,\n",
       " 126506008,\n",
       " 127263527,\n",
       " 128024064,\n",
       " 128787625,\n",
       " 129554216,\n",
       " 130323843,\n",
       " 131096512,\n",
       " 131872229,\n",
       " 132651000,\n",
       " 133432831,\n",
       " 134217728,\n",
       " 135005697,\n",
       " 135796744,\n",
       " 136590875,\n",
       " 137388096,\n",
       " 138188413,\n",
       " 138991832,\n",
       " 139798359,\n",
       " 140608000,\n",
       " 141420761,\n",
       " 142236648,\n",
       " 143055667,\n",
       " 143877824,\n",
       " 144703125,\n",
       " 145531576,\n",
       " 146363183,\n",
       " 147197952,\n",
       " 148035889,\n",
       " 148877000,\n",
       " 149721291,\n",
       " 150568768,\n",
       " 151419437,\n",
       " 152273304,\n",
       " 153130375,\n",
       " 153990656,\n",
       " 154854153,\n",
       " 155720872,\n",
       " 156590819,\n",
       " 157464000,\n",
       " 158340421,\n",
       " 159220088,\n",
       " 160103007,\n",
       " 160989184,\n",
       " 161878625,\n",
       " 162771336,\n",
       " 163667323,\n",
       " 164566592,\n",
       " 165469149,\n",
       " 166375000,\n",
       " 167284151,\n",
       " 168196608,\n",
       " 169112377,\n",
       " 170031464,\n",
       " 170953875,\n",
       " 171879616,\n",
       " 172808693,\n",
       " 173741112,\n",
       " 174676879,\n",
       " 175616000,\n",
       " 176558481,\n",
       " 177504328,\n",
       " 178453547,\n",
       " 179406144,\n",
       " 180362125,\n",
       " 181321496,\n",
       " 182284263,\n",
       " 183250432,\n",
       " 184220009,\n",
       " 185193000,\n",
       " 186169411,\n",
       " 187149248,\n",
       " 188132517,\n",
       " 189119224,\n",
       " 190109375,\n",
       " 191102976,\n",
       " 192100033,\n",
       " 193100552,\n",
       " 194104539,\n",
       " 195112000,\n",
       " 196122941,\n",
       " 197137368,\n",
       " 198155287,\n",
       " 199176704,\n",
       " 200201625,\n",
       " 201230056,\n",
       " 202262003,\n",
       " 203297472,\n",
       " 204336469,\n",
       " 205379000,\n",
       " 206425071,\n",
       " 207474688,\n",
       " 208527857,\n",
       " 209584584,\n",
       " 210644875,\n",
       " 211708736,\n",
       " 212776173,\n",
       " 213847192,\n",
       " 214921799,\n",
       " 216000000,\n",
       " 217081801,\n",
       " 218167208,\n",
       " 219256227,\n",
       " 220348864,\n",
       " 221445125,\n",
       " 222545016,\n",
       " 223648543,\n",
       " 224755712,\n",
       " 225866529,\n",
       " 226981000,\n",
       " 228099131,\n",
       " 229220928,\n",
       " 230346397,\n",
       " 231475544,\n",
       " 232608375,\n",
       " 233744896,\n",
       " 234885113,\n",
       " 236029032,\n",
       " 237176659,\n",
       " 238328000,\n",
       " 239483061,\n",
       " 240641848,\n",
       " 241804367,\n",
       " 242970624,\n",
       " 244140625,\n",
       " 245314376,\n",
       " 246491883,\n",
       " 247673152,\n",
       " 248858189,\n",
       " 250047000,\n",
       " 251239591,\n",
       " 252435968,\n",
       " 253636137,\n",
       " 254840104,\n",
       " 256047875,\n",
       " 257259456,\n",
       " 258474853,\n",
       " 259694072,\n",
       " 260917119,\n",
       " 262144000,\n",
       " 263374721,\n",
       " 264609288,\n",
       " 265847707,\n",
       " 267089984,\n",
       " 268336125,\n",
       " 269586136,\n",
       " 270840023,\n",
       " 272097792,\n",
       " 273359449,\n",
       " 274625000,\n",
       " 275894451,\n",
       " 277167808,\n",
       " 278445077,\n",
       " 279726264,\n",
       " 281011375,\n",
       " 282300416,\n",
       " 283593393,\n",
       " 284890312,\n",
       " 286191179,\n",
       " 287496000,\n",
       " 288804781,\n",
       " 290117528,\n",
       " 291434247,\n",
       " 292754944,\n",
       " 294079625,\n",
       " 295408296,\n",
       " 296740963,\n",
       " 298077632,\n",
       " 299418309,\n",
       " 300763000,\n",
       " 302111711,\n",
       " 303464448,\n",
       " 304821217,\n",
       " 306182024,\n",
       " 307546875,\n",
       " 308915776,\n",
       " 310288733,\n",
       " 311665752,\n",
       " 313046839,\n",
       " 314432000,\n",
       " 315821241,\n",
       " 317214568,\n",
       " 318611987,\n",
       " 320013504,\n",
       " 321419125,\n",
       " 322828856,\n",
       " 324242703,\n",
       " 325660672,\n",
       " 327082769,\n",
       " 328509000,\n",
       " 329939371,\n",
       " 331373888,\n",
       " 332812557,\n",
       " 334255384,\n",
       " 335702375,\n",
       " 337153536,\n",
       " 338608873,\n",
       " 340068392,\n",
       " 341532099,\n",
       " 343000000,\n",
       " 344472101,\n",
       " 345948408,\n",
       " 347428927,\n",
       " 348913664,\n",
       " 350402625,\n",
       " 351895816,\n",
       " 353393243,\n",
       " 354894912,\n",
       " 356400829,\n",
       " 357911000,\n",
       " 359425431,\n",
       " 360944128,\n",
       " 362467097,\n",
       " 363994344,\n",
       " 365525875,\n",
       " 367061696,\n",
       " 368601813,\n",
       " 370146232,\n",
       " 371694959,\n",
       " 373248000,\n",
       " 374805361,\n",
       " 376367048,\n",
       " 377933067,\n",
       " 379503424,\n",
       " 381078125,\n",
       " 382657176,\n",
       " 384240583,\n",
       " 385828352,\n",
       " 387420489,\n",
       " 389017000,\n",
       " 390617891,\n",
       " 392223168,\n",
       " 393832837,\n",
       " 395446904,\n",
       " 397065375,\n",
       " 398688256,\n",
       " 400315553,\n",
       " 401947272,\n",
       " 403583419,\n",
       " 405224000,\n",
       " 406869021,\n",
       " 408518488,\n",
       " 410172407,\n",
       " 411830784,\n",
       " 413493625,\n",
       " 415160936,\n",
       " 416832723,\n",
       " 418508992,\n",
       " 420189749,\n",
       " 421875000,\n",
       " 423564751,\n",
       " 425259008,\n",
       " 426957777,\n",
       " 428661064,\n",
       " 430368875,\n",
       " 432081216,\n",
       " 433798093,\n",
       " 435519512,\n",
       " 437245479,\n",
       " 438976000,\n",
       " 440711081,\n",
       " 442450728,\n",
       " 444194947,\n",
       " 445943744,\n",
       " 447697125,\n",
       " 449455096,\n",
       " 451217663,\n",
       " 452984832,\n",
       " 454756609,\n",
       " 456533000,\n",
       " 458314011,\n",
       " 460099648,\n",
       " 461889917,\n",
       " 463684824,\n",
       " 465484375,\n",
       " 467288576,\n",
       " 469097433,\n",
       " 470910952,\n",
       " 472729139,\n",
       " 474552000,\n",
       " 476379541,\n",
       " 478211768,\n",
       " 480048687,\n",
       " 481890304,\n",
       " 483736625,\n",
       " 485587656,\n",
       " 487443403,\n",
       " 489303872,\n",
       " 491169069,\n",
       " 493039000,\n",
       " 494913671,\n",
       " 496793088,\n",
       " 498677257,\n",
       " 500566184,\n",
       " 502459875,\n",
       " 504358336,\n",
       " 506261573,\n",
       " 508169592,\n",
       " 510082399,\n",
       " 512000000,\n",
       " 513922401,\n",
       " 515849608,\n",
       " 517781627,\n",
       " 519718464,\n",
       " 521660125,\n",
       " 523606616,\n",
       " 525557943,\n",
       " 527514112,\n",
       " 529475129,\n",
       " 531441000,\n",
       " 533411731,\n",
       " 535387328,\n",
       " 537367797,\n",
       " 539353144,\n",
       " 541343375,\n",
       " 543338496,\n",
       " 545338513,\n",
       " 547343432,\n",
       " 549353259,\n",
       " 551368000,\n",
       " 553387661,\n",
       " 555412248,\n",
       " 557441767,\n",
       " 559476224,\n",
       " 561515625,\n",
       " 563559976,\n",
       " 565609283,\n",
       " 567663552,\n",
       " 569722789,\n",
       " 571787000,\n",
       " 573856191,\n",
       " 575930368,\n",
       " 578009537,\n",
       " 580093704,\n",
       " 582182875,\n",
       " 584277056,\n",
       " 586376253,\n",
       " 588480472,\n",
       " 590589719,\n",
       " 592704000,\n",
       " 594823321,\n",
       " 596947688,\n",
       " 599077107,\n",
       " 601211584,\n",
       " 603351125,\n",
       " 605495736,\n",
       " 607645423,\n",
       " 609800192,\n",
       " 611960049,\n",
       " 614125000,\n",
       " 616295051,\n",
       " 618470208,\n",
       " 620650477,\n",
       " 622835864,\n",
       " 625026375,\n",
       " 627222016,\n",
       " 629422793,\n",
       " 631628712,\n",
       " 633839779,\n",
       " 636056000,\n",
       " 638277381,\n",
       " 640503928,\n",
       " 642735647,\n",
       " 644972544,\n",
       " 647214625,\n",
       " 649461896,\n",
       " 651714363,\n",
       " 653972032,\n",
       " 656234909,\n",
       " 658503000,\n",
       " 660776311,\n",
       " 663054848,\n",
       " 665338617,\n",
       " 667627624,\n",
       " 669921875,\n",
       " 672221376,\n",
       " 674526133,\n",
       " 676836152,\n",
       " 679151439,\n",
       " 681472000,\n",
       " 683797841,\n",
       " 686128968,\n",
       " 688465387,\n",
       " 690807104,\n",
       " 693154125,\n",
       " 695506456,\n",
       " 697864103,\n",
       " 700227072,\n",
       " 702595369,\n",
       " 704969000,\n",
       " 707347971,\n",
       " 709732288,\n",
       " 712121957,\n",
       " 714516984,\n",
       " 716917375,\n",
       " 719323136,\n",
       " 721734273,\n",
       " 724150792,\n",
       " 726572699,\n",
       " 729000000,\n",
       " 731432701,\n",
       " 733870808,\n",
       " 736314327,\n",
       " 738763264,\n",
       " 741217625,\n",
       " 743677416,\n",
       " 746142643,\n",
       " 748613312,\n",
       " 751089429,\n",
       " 753571000,\n",
       " 756058031,\n",
       " 758550528,\n",
       " 761048497,\n",
       " 763551944,\n",
       " 766060875,\n",
       " 768575296,\n",
       " 771095213,\n",
       " 773620632,\n",
       " 776151559,\n",
       " 778688000,\n",
       " 781229961,\n",
       " 783777448,\n",
       " 786330467,\n",
       " 788889024,\n",
       " 791453125,\n",
       " 794022776,\n",
       " 796597983,\n",
       " 799178752,\n",
       " 801765089,\n",
       " 804357000,\n",
       " 806954491,\n",
       " 809557568,\n",
       " 812166237,\n",
       " 814780504,\n",
       " 817400375,\n",
       " 820025856,\n",
       " 822656953,\n",
       " 825293672,\n",
       " 827936019,\n",
       " 830584000,\n",
       " 833237621,\n",
       " 835896888,\n",
       " 838561807,\n",
       " 841232384,\n",
       " 843908625,\n",
       " 846590536,\n",
       " 849278123,\n",
       " 851971392,\n",
       " 854670349,\n",
       " 857375000,\n",
       " 860085351,\n",
       " 862801408,\n",
       " 865523177,\n",
       " 868250664,\n",
       " 870983875,\n",
       " 873722816,\n",
       " 876467493,\n",
       " 879217912,\n",
       " 881974079,\n",
       " 884736000,\n",
       " 887503681,\n",
       " 890277128,\n",
       " 893056347,\n",
       " 895841344,\n",
       " 898632125,\n",
       " 901428696,\n",
       " 904231063,\n",
       " 907039232,\n",
       " 909853209,\n",
       " 912673000,\n",
       " 915498611,\n",
       " 918330048,\n",
       " 921167317,\n",
       " 924010424,\n",
       " 926859375,\n",
       " 929714176,\n",
       " 932574833,\n",
       " 935441352,\n",
       " 938313739,\n",
       " 941192000,\n",
       " 944076141,\n",
       " 946966168,\n",
       " 949862087,\n",
       " 952763904,\n",
       " 955671625,\n",
       " 958585256,\n",
       " 961504803,\n",
       " 964430272,\n",
       " 967361669,\n",
       " 970299000,\n",
       " 973242271,\n",
       " 976191488,\n",
       " 979146657,\n",
       " 982107784,\n",
       " 985074875,\n",
       " 988047936,\n",
       " 991026973,\n",
       " 994011992,\n",
       " 997002999,\n",
       " 1000000000]"
      ]
     },
     "execution_count": 41,
     "metadata": {},
     "output_type": "execute_result"
    }
   ],
   "source": [
    "#for x in gen:\n",
    "#    print(x)\n",
    "    \n",
    "list(gen)"
   ]
  },
  {
   "cell_type": "code",
   "execution_count": 42,
   "id": "2f61e9d3",
   "metadata": {},
   "outputs": [
    {
     "data": {
      "text/plain": [
       "[]"
      ]
     },
     "execution_count": 42,
     "metadata": {},
     "output_type": "execute_result"
    }
   ],
   "source": [
    "list(gen)"
   ]
  },
  {
   "cell_type": "markdown",
   "id": "taken-milwaukee",
   "metadata": {},
   "source": [
    "#### Can also use a *generator expression*, analogous to list comprehension. Use ():\n",
    "\n",
    "Note that generators are \"forgetful:\" You can only go through the values once:"
   ]
  },
  {
   "cell_type": "code",
   "execution_count": null,
   "id": "dominant-musician",
   "metadata": {},
   "outputs": [],
   "source": [
    "gen = (x ** 2 for x in range(11))\n",
    "\n",
    "#max(gen)\n",
    "\n",
    "for x in gen:\n",
    "    print(x)\n",
    "    \n",
    "list(gen)"
   ]
  },
  {
   "cell_type": "markdown",
   "id": "6e53e465",
   "metadata": {},
   "source": [
    "### A final note on being \"Pythonic\""
   ]
  },
  {
   "cell_type": "code",
   "execution_count": 43,
   "id": "eb430d93",
   "metadata": {},
   "outputs": [
    {
     "name": "stdout",
     "output_type": "stream",
     "text": [
      "The Zen of Python, by Tim Peters\n",
      "\n",
      "Beautiful is better than ugly.\n",
      "Explicit is better than implicit.\n",
      "Simple is better than complex.\n",
      "Complex is better than complicated.\n",
      "Flat is better than nested.\n",
      "Sparse is better than dense.\n",
      "Readability counts.\n",
      "Special cases aren't special enough to break the rules.\n",
      "Although practicality beats purity.\n",
      "Errors should never pass silently.\n",
      "Unless explicitly silenced.\n",
      "In the face of ambiguity, refuse the temptation to guess.\n",
      "There should be one-- and preferably only one --obvious way to do it.\n",
      "Although that way may not be obvious at first unless you're Dutch.\n",
      "Now is better than never.\n",
      "Although never is often better than *right* now.\n",
      "If the implementation is hard to explain, it's a bad idea.\n",
      "If the implementation is easy to explain, it may be a good idea.\n",
      "Namespaces are one honking great idea -- let's do more of those!\n"
     ]
    }
   ],
   "source": [
    "import this"
   ]
  },
  {
   "cell_type": "markdown",
   "id": "6c0bb2dd",
   "metadata": {},
   "source": [
    "See **PEP 8**: https://peps.python.org/pep-0008/#introduction\n",
    "\n",
    "\"A Foolish Consistency is the Hobgoblin of Little Minds\"\n",
    "\n",
    "Paragraph from Emerson:\n",
    "\n",
    "\"A foolish consistency is the hobgoblin of little minds, adored by little statesmen and philosophers and divines. With consistency a great soul has simply nothing to do. He may as well concern himself with his shadow on the wall. Speak what you think now in hard words, and to-morrow speak what to-morrow thinks in hard words again, though it contradict every thing you said to-day. -- Ah, so you shall be sure to be misunderstood. -- Is it so bad, then, to be misunderstood? Pythagoras was misunderstood, and Socrates, and Jesus, and Luther, and Copernicus, and Galileo, and Newton, and every pure and wise spirit that ever took flesh. To be great is to be misunderstood.\""
   ]
  },
  {
   "cell_type": "code",
   "execution_count": null,
   "id": "6e0146ad",
   "metadata": {},
   "outputs": [],
   "source": [
    "#Example 1:\n",
    "#Get sum from number a=5 to b=50, inclusive\n",
    "#C-style:\n",
    "a = 5\n",
    "b = 50\n",
    "total_sum = 0\n",
    "\n",
    "while a <= b:\n",
    "    total_sum += a\n",
    "    a += 1\n",
    "total_sum"
   ]
  },
  {
   "cell_type": "code",
   "execution_count": null,
   "id": "778700e8",
   "metadata": {},
   "outputs": [],
   "source": [
    "#Python style\n",
    "total_sum = sum(range(5,51))\n",
    "total_sum"
   ]
  },
  {
   "cell_type": "code",
   "execution_count": null,
   "id": "857c4f2a",
   "metadata": {},
   "outputs": [],
   "source": [
    "#Square every even value in an array\n",
    "#C-style:\n",
    "x = [1, 2, 3, 4, 5, 6, 7, 8]\n",
    "\n",
    "for k in range(len(x)):\n",
    "    if (x[k] % 2 == 0):\n",
    "        x[k] = x[k]**2\n",
    "\n",
    "x"
   ]
  },
  {
   "cell_type": "code",
   "execution_count": null,
   "id": "aa94fe62",
   "metadata": {},
   "outputs": [],
   "source": [
    "#Python style\n",
    "x = [1, 2, 3, 4, 5, 6, 7, 8]\n",
    "\n",
    "x = [el**2 if el % 2 == 0 else el for el in x]\n",
    "x"
   ]
  },
  {
   "cell_type": "markdown",
   "id": "e0cbd2fb",
   "metadata": {},
   "source": [
    "### snake_case is generally considered appropriate for *Python*\n",
    "\n",
    "**snake_case_is_the_best_case**\n",
    "\n",
    "**CamelCase** for classes (aka **StudlyCaps**)"
   ]
  },
  {
   "cell_type": "markdown",
   "id": "6dde8991",
   "metadata": {},
   "source": [
    "<img src=\"https://i.redd.it/24p3e2gvotg31.jpg\" alt=\"Hello World!\" style=\"width:350px;\"/>"
   ]
  },
  {
   "cell_type": "markdown",
   "id": "09645852",
   "metadata": {},
   "source": [
    "## Plotting in matplotlib\n",
    "\n",
    "The fundamentals:\n",
    "\n",
    "- Introduce basic plots\n",
    "- Annotation, tips and tricks\n",
    "- Customization\n",
    "- Advanced subplotting\n",
    "- Colormaps and custom colormaps; matplotlib colorcycle\n",
    "- Custom legends\n",
    "- Saving figures"
   ]
  },
  {
   "cell_type": "code",
   "execution_count": null,
   "id": "0e88dd4f",
   "metadata": {},
   "outputs": [],
   "source": [
    "#Note we'll use some numpy, imported as np at the start, also pyplot:\n",
    "#Just reimport:\n",
    "\n",
    "import matplotlib.pyplot as plt\n",
    "import numpy as np"
   ]
  },
  {
   "cell_type": "code",
   "execution_count": null,
   "id": "c0819d3f",
   "metadata": {},
   "outputs": [],
   "source": [
    "## We'll also use these for custom colormaps:\n",
    "from matplotlib import cm\n",
    "from matplotlib.colors import ListedColormap\n"
   ]
  },
  {
   "cell_type": "code",
   "execution_count": null,
   "id": "24702cd9",
   "metadata": {},
   "outputs": [],
   "source": [
    "#Bare bones plot:\n",
    "#######\n",
    "\n",
    "x = np.linspace(0,10,100)\n",
    "y = np.sin(x)\n",
    "\n",
    "#And can just plot with good ole' matplotlib\n",
    "plt.plot(y)\n",
    "\n",
    "#Adds a plot to same figure:\n",
    "plt.plot(y**2)"
   ]
  },
  {
   "cell_type": "code",
   "execution_count": null,
   "id": "17f26833",
   "metadata": {},
   "outputs": [],
   "source": [
    "#Let's now use an AxesSubplot object for plotting and customize a little\n",
    "#######\n",
    "\n",
    "fig1, ax1 = plt.subplots(1, 1, figsize=(8, 6)) #, dpi=120)\n",
    "\n",
    "\n",
    "ax1.plot(x,y/4, linewidth=3, linestyle=\"dashed\", color=(.9, .1, .1, .7), label=\"Line 1\")\n",
    "ax1.plot(x,y**2, linewidth=5, color='blue', alpha=.5, label=\"Line 2\")\n",
    "\n",
    "\n",
    "#Let's set labels and fontsizes:\n",
    "ax1.set_xlabel('Why, this is the x-axis', fontsize=16, fontweight='bold')\n",
    "ax1.set_ylabel('And here\\'s y', fontsize=16)\n",
    "ax1.tick_params(axis='both', labelsize=16)\n",
    "ax1.set_xticks(ax1.get_xticks(), weight='bold')\n",
    "\n",
    "\n",
    "#We can rotate the tick labels:\n",
    "ax1.set_xticks(ax1.get_xticks(), ax1.get_xticklabels(), rotation=60, ha='right')\n",
    "\n",
    "\n",
    "#Title and legend:\n",
    "#Add a y offset to the title:\n",
    "ax1.set_title(\"The Title!\", fontsize=16, fontweight=\"bold\", y = 1.1);\n",
    "ax1.legend(fontsize=14, loc='lower left')\n",
    "\n",
    "\n",
    "#Plus, let's customize the x and y limits:\n",
    "ax1.set_xlim([0, 10]);\n",
    "ax1.set_ylim([-.5, 1.25]);"
   ]
  },
  {
   "cell_type": "code",
   "execution_count": null,
   "id": "aaa9f07d",
   "metadata": {},
   "outputs": [],
   "source": [
    "## Scatter Plots:\n",
    "\n",
    "#Note the subplotting:\n",
    "\n",
    "#We can make a \"scatter plot\" like this:\n",
    "fig1, ax1 = plt.subplots(1, 2, figsize=(12, 5))\n",
    "\n",
    "ax1[0].plot(x, y, 'o', markersize = 10, markerfacecolor='red', markeredgecolor='black', markeredgewidth=3)\n",
    "\n",
    "\n",
    "#Or like this:\n",
    "#Or use a designated scatter plot: \n",
    "ax1[1].scatter(x, y, c = y, s = abs(y)*100 + 10, cmap='viridis', edgecolor='black')\n"
   ]
  },
  {
   "cell_type": "code",
   "execution_count": null,
   "id": "5f307ca1",
   "metadata": {},
   "outputs": [],
   "source": [
    "#Note how size scaling differs:\n",
    "fig1, ax1 = plt.subplots(1, 2, figsize=(8, 4))\n",
    "\n",
    "for k in range(1,5):\n",
    "    ax1[0].plot(k, 1, 'o', markersize = k*10, markerfacecolor='red', markeredgecolor='black', markeredgewidth=1)\n",
    "\n",
    "    ax1[1].scatter(k, .975, s = k*100, c = 'blue', edgecolor='black')\n",
    "    ax1[1].scatter(k, 1, s = k**2*100, c = 'red', edgecolor='black')\n",
    "    \n",
    "for i in range(2):\n",
    "    ax1[i].set_xlim([.5,4.5])\n",
    "    ax1[i].set_ylim([.96,1.01])"
   ]
  },
  {
   "cell_type": "markdown",
   "id": "d81c7e38",
   "metadata": {},
   "source": [
    "### Subplots and *Advanced Subplots*"
   ]
  },
  {
   "cell_type": "code",
   "execution_count": null,
   "id": "ff83a350",
   "metadata": {},
   "outputs": [],
   "source": [
    "#Simplest method\n",
    "################\n",
    "\n",
    "fig1, ax1 = plt.subplots(2,3,figsize=(8,6))\n",
    "\n",
    "\n",
    "#And proceed:\n",
    "for i in range(2):\n",
    "    for j in range(3):\n",
    "        \n",
    "        x = np.linspace(0,10,100)\n",
    "        y = np.sin(x + np.random.uniform(-2,2))\n",
    "\n",
    "        ax1[i, j].plot(x, y, marker = '.', markersize = 7)"
   ]
  },
  {
   "cell_type": "code",
   "execution_count": null,
   "id": "fead1ee5",
   "metadata": {},
   "outputs": [],
   "source": [
    "fig1, ax1 = plt.subplots(2,3,figsize=(8,6))\n",
    "\n",
    "#Sometimes this is useful:     \n",
    "ax1 = ax1.flatten()\n",
    "\n",
    "#And proceed:\n",
    "for i in range(6):\n",
    "    x = np.linspace(0,10,100)\n",
    "    y = np.sin(x + np.random.uniform(-2,2)) \n",
    "\n",
    "    ax1[i].plot(x, y, marker = '.', markersize = 7)\n",
    "\n",
    "    \n",
    "    #Also often useful:\n",
    "    ####\n",
    "    if (i < 3):\n",
    "        ax1[i].set_xticks([])\n",
    "    if (i % 3 != 0):\n",
    "        ax1[i].set_yticks([])"
   ]
  },
  {
   "cell_type": "markdown",
   "id": "a2eb0292",
   "metadata": {},
   "source": [
    "#### Grab the default colorcycle:"
   ]
  },
  {
   "cell_type": "code",
   "execution_count": null,
   "id": "aa1b6fbc",
   "metadata": {},
   "outputs": [],
   "source": [
    "#Note, compare colors:\n",
    "fig1, ax1 =  plt.subplots(1,1,figsize=(8,6))\n",
    "\n",
    "#All in one plot:\n",
    "for i in range(6):\n",
    "    x = np.linspace(0,10,100)\n",
    "    y = np.sin(x + np.random.uniform(-2,2)) \n",
    "\n",
    "    ax1.plot(x, y, marker = '.', markersize = 7)\n",
    "    \n",
    "\n",
    "#Can get the default colorcycle\n",
    "######\n",
    "prop_cycle = plt.rcParams['axes.prop_cycle']\n",
    "colors = prop_cycle.by_key()['color']\n",
    "\n",
    "\n",
    "#And:\n",
    "fig1, ax1 = plt.subplots(2,3,figsize=(8,6))\n",
    "\n",
    "ax1 = ax1.flatten()\n",
    "\n",
    "for i in range(6):\n",
    "    x = np.linspace(0,10,100)\n",
    "    y = np.sin(x + np.random.uniform(-2,2)) \n",
    "\n",
    "    ax1[i].plot(x, y, marker = '.', markersize = 7, color=colors[i])\n",
    "\n",
    "    \n"
   ]
  },
  {
   "cell_type": "code",
   "execution_count": null,
   "id": "43ead8f2",
   "metadata": {},
   "outputs": [],
   "source": [
    "## \"Turn off\" unused subplots?\n",
    "###########\n",
    "\n",
    "fig1, ax1 = plt.subplots(2,3,figsize=(8,6))\n",
    "\n",
    "ax1 = ax1.flatten()\n",
    "for i in range(4):\n",
    "    ax1[i].plot(x, y)\n",
    "\n",
    "    \n",
    "#Use this!!\n",
    "ax1[5].set_axis_off()\n",
    "ax1[4].set_axis_off()   "
   ]
  },
  {
   "cell_type": "code",
   "execution_count": null,
   "id": "afedb650",
   "metadata": {},
   "outputs": [],
   "source": [
    "#Alternative subplot method\n",
    "###########################\n",
    "\n",
    "#Can set up grids of subplots using add_subplot:\n",
    "\n",
    "#Start with a nice figure\n",
    "fig = plt.figure(figsize=(10,6), dpi=90)\n",
    "\n",
    "ax1 = fig.add_subplot(2, 2, 1) \n",
    "ax2 = fig.add_subplot(2, 2, 2)  \n",
    "ax3 = fig.add_subplot(2, 2, 3)\n",
    "ax4 = fig.add_subplot(2, 2, 4)\n",
    "\n",
    "#Can make a nested tuple or list of ax for easier reference:\n",
    "ax = [[ax1, ax2], [ax3, ax4]]"
   ]
  },
  {
   "cell_type": "code",
   "execution_count": null,
   "id": "23ee4d5d",
   "metadata": {},
   "outputs": [],
   "source": [
    "#This style is more useful in creating custom grids:\n",
    "#Example:\n",
    "\n",
    "fig = plt.figure(figsize=(12,8))\n",
    "\n",
    "ax1 = fig.add_subplot(4, 4, 1) \n",
    "ax2 = fig.add_subplot(4, 4, 2)\n",
    "ax3 = fig.add_subplot(4, 4, 5)\n",
    "ax4 = fig.add_subplot(4, 4, 6)\n",
    "\n",
    "ax5 = fig.add_subplot(2, 2, 3)\n",
    "ax6 = fig.add_subplot(1, 2, 2)\n",
    "\n",
    "\n",
    "#We can also adjust space around subplots:\n",
    "###\n",
    "plt.subplots_adjust(wspace=0.25, hspace=0.25)\n",
    "\n",
    "#And add one title to rule them all!\n",
    "####\n",
    "plt.suptitle('There Can Be Only One', fontweight='bold', fontsize=18)"
   ]
  },
  {
   "cell_type": "markdown",
   "id": "d4289065",
   "metadata": {},
   "source": [
    "#### Inset axes\n",
    "\n",
    "Let's preview some geopandas here as well..."
   ]
  },
  {
   "cell_type": "code",
   "execution_count": null,
   "id": "a35bc289",
   "metadata": {},
   "outputs": [],
   "source": [
    "#We'll need this:\n",
    "\n",
    "from mpl_toolkits.axes_grid1.inset_locator import inset_axes"
   ]
  },
  {
   "cell_type": "code",
   "execution_count": null,
   "id": "b98f0c6b",
   "metadata": {},
   "outputs": [],
   "source": [
    "#Some built-in geopandas teaching data:\n",
    "#Recall we had:\n",
    "import geopandas as gpd\n",
    "\n",
    "#\"gdf\" is a common generic variable name = GeoDataFrame\n",
    "gdf = gpd.read_file(gpd.datasets.get_path('naturalearth_lowres'))\n"
   ]
  },
  {
   "cell_type": "code",
   "execution_count": null,
   "id": "cd5b1240",
   "metadata": {},
   "outputs": [],
   "source": [
    "gdf.head()"
   ]
  },
  {
   "cell_type": "code",
   "execution_count": null,
   "id": "6a52c8fb",
   "metadata": {},
   "outputs": [],
   "source": [
    "#Super basic plot: See how beautiful and automatic this is?!\n",
    "fig, ax1 = plt.subplots(1,1, figsize=(12, 10), dpi=300)\n",
    "\n",
    "gdf.plot(ax = ax1, column = 'pop_est', edgecolor='black', linewidth=1, cmap='jet')"
   ]
  },
  {
   "cell_type": "code",
   "execution_count": null,
   "id": "890961a0",
   "metadata": {
    "scrolled": false
   },
   "outputs": [],
   "source": [
    "#Now let's inset a histogram of the population estimates:\n",
    "##########\n",
    "\n",
    "fig, ax1 = plt.subplots(1,1, figsize=(12, 10), dpi=300)\n",
    "\n",
    "#Note the added alpha argument:\n",
    "#Also, we'll use the LOG of population:\n",
    "gdf.plot(ax = ax1, column = np.log10(gdf.pop_est), edgecolor='black', alpha=.5, linewidth=1, cmap='jet')\n",
    "\n",
    "axins = inset_axes(ax1, width=\"20%\", height=\"30%\", loc=3, borderpad=6)\n",
    "\n",
    "\n",
    "#Make a histogram on a LOG scale:\n",
    "######\n",
    "\n",
    "#Note: Try this vs. next:\n",
    "\n",
    "if (0):\n",
    "    n, bins, patches = axins.hist(gdf.pop_est, bins = 30, rwidth = 1, facecolor='red', \\\n",
    "                                edgecolor='black', linewidth = .5, alpha=0.75)\n",
    "\n",
    "    #Set scale to LOG:\n",
    "    axins.set_xscale('log')\n",
    "\n",
    "else:\n",
    "    my_bins = np.logspace(2,10,30)\n",
    "\n",
    "    n, bins, patches = axins.hist(gdf.pop_est, bins = my_bins, rwidth = 1, facecolor='red', \\\n",
    "                                edgecolor='black', linewidth = .5, alpha=0.75)\n",
    "\n",
    "    #Set scale to LOG:\n",
    "    axins.set_xscale('log')\n",
    "    \n",
    "axins.set_title('Pop. Histogram: \\n Log Scale', fontsize=10, fontweight='bold')\n"
   ]
  },
  {
   "cell_type": "code",
   "execution_count": null,
   "id": "f0693595",
   "metadata": {},
   "outputs": [],
   "source": [
    "#By Continents...\n",
    "#######\n",
    "fig, ax1 = plt.subplots(3,3, figsize=(12, 10), dpi=300)\n",
    "\n",
    "ax1 = ax1.flatten()\n",
    "\n",
    "#Note the enumerate: Loop through unique continents:\n",
    "for i, c in enumerate(gdf.continent.unique()):\n",
    "\n",
    "    gdf_plot = gdf.loc[gdf['continent'] == c]\n",
    "    \n",
    "    gdf_plot.plot(ax = ax1[i], column = 'pop_est', edgecolor='black', alpha=.5, linewidth=1, cmap='jet')\n",
    "    \n",
    "    #Throw this in:\n",
    "    ax1[i].set_xticks([])\n",
    "    ax1[i].set_yticks([])\n",
    "    ax1[i].set_title(c)\n",
    "    \n",
    "    \n",
    "    #And inset axes:\n",
    "    axins = inset_axes(ax1[i], width=\"30%\", height=\"40%\", loc=1, borderpad=0)\n",
    "\n",
    "    #my_bins = np.logspace(2,10,30)\n",
    "    axins.hist(gdf_plot.pop_est, bins = 30, rwidth = 1, facecolor='red', \\\n",
    "                                edgecolor='black', linewidth = .5, alpha=0.75)\n",
    "\n",
    "#And:\n",
    "ax1[8].set_axis_off()"
   ]
  },
  {
   "cell_type": "markdown",
   "id": "30f32263",
   "metadata": {},
   "source": [
    "#### And super extra advanced subplots...\n",
    "\n",
    "- Also note some bar plot customization\n",
    "- And custom colormap"
   ]
  },
  {
   "cell_type": "code",
   "execution_count": null,
   "id": "955740bc",
   "metadata": {},
   "outputs": [],
   "source": [
    "#Observe for reference...\n",
    "#########\n",
    "\n",
    "fig = plt.figure(figsize=(15, 14), constrained_layout=False, dpi=300)\n",
    "\n",
    "widths = [.8, .1, .3]\n",
    "heights = [.05, .75, .5, .05, .75, .5]\n",
    "\n",
    "spec = fig.add_gridspec(ncols=3, nrows=6, width_ratios=widths,\n",
    "                          height_ratios=heights, wspace=0.01, hspace=.55)\n",
    "\n",
    "#Main Plot 1\n",
    "ax1 = fig.add_subplot(spec[0:3,0])\n",
    "\n",
    "#Main Plot 2\n",
    "ax2 = fig.add_subplot(spec[3:6,0])\n",
    "\n",
    "#Barplots 1\n",
    "ax3 = fig.add_subplot(spec[1,2])\n",
    "ax3b = fig.add_subplot(spec[2,2])\n",
    "\n",
    "#Barplots 2\n",
    "ax4 = fig.add_subplot(spec[4,2])\n",
    "ax4b = fig.add_subplot(spec[5,2])\n",
    "\n",
    "\n",
    "#Maps:\n",
    "#####\n",
    "\n",
    "gdf.plot(ax=ax1, column='pop_est', edgecolor='black', linewidth=.75, alpha=1, cmap='jet')\n",
    "ax1.set_axis_off()\n",
    "ax1.set_title('Population', fontweight='bold')\n",
    "\n",
    "gdf.plot(ax=ax2, column='gdp_md_est', edgecolor='black', linewidth=.75, alpha=1, cmap='jet')\n",
    "ax2.set_axis_off()\n",
    "ax2.set_title('GDP', fontweight='bold')\n",
    "\n",
    "\n",
    "##############\n",
    "#Top barplots\n",
    "###############\n",
    "\n",
    "gdf = gdf.sort_values(by = 'pop_est', ascending=False)\n",
    "\n",
    "X = 5\n",
    "\n",
    "#A colormap:\n",
    "from matplotlib import cm\n",
    "my_cmap = cm.get_cmap('jet_r', X)\n",
    "\n",
    "ax3.bar(gdf['name'].iloc[0:X], np.round(gdf['pop_est'].iloc[0:X] / 1e6), edgecolor='black',\n",
    "            color=my_cmap([i for i in range(X)]))\n",
    "\n",
    "for container in ax3.containers[0:X]:\n",
    "    ax3.bar_label(container, fontweight='bold', fontsize=9)\n",
    "        \n",
    "ax3.set_ylabel('Top Pops (millions)')\n",
    "ax3.spines['top'].set_visible(False)\n",
    "ax3.spines['right'].set_visible(False)\n",
    "   \n",
    "ax3.set_xticks(ax3.get_xticks(), ax3.get_xticklabels(), rotation=15, ha='right', fontsize=8);\n",
    "\n",
    "\n",
    "##\n",
    "\n",
    "X = 50\n",
    "my_cmap = cm.get_cmap('jet_r', X)\n",
    "\n",
    "ax3b.bar(gdf['name'].iloc[0:X], np.round(gdf['pop_est'].iloc[0:X] / 1e6),\n",
    "            color=my_cmap([i for i in range(X)]))\n",
    "\n",
    "\n",
    "ax3b.set_ylabel('Top 50 Pops')\n",
    "ax3b.spines['top'].set_visible(False)\n",
    "ax3b.spines['right'].set_visible(False)\n",
    "ax3b.set_xticks([])\n",
    "\n",
    "\n",
    "###############\n",
    "#Bottom barplots\n",
    "###############\n",
    "\n",
    "#Just a hacky cut-and-paste job of above\n",
    "#And modified to hard code gdp_est, ugh\n",
    "\n",
    "gdf = gdf.sort_values(by = 'gdp_md_est', ascending=False)\n",
    "\n",
    "X = 5\n",
    "\n",
    "#A colormap:\n",
    "from matplotlib import cm\n",
    "my_cmap = cm.get_cmap('jet_r', X)\n",
    "\n",
    "ax4.bar(gdf['name'].iloc[0:X], np.round(gdf['gdp_md_est'].iloc[0:X] / 1e6), edgecolor='black',\n",
    "            color=my_cmap([i for i in range(X)]))\n",
    "\n",
    "for container in ax4.containers[0:X]:\n",
    "    ax4.bar_label(container, fontweight='bold', fontsize=9)\n",
    "        \n",
    "ax4.set_ylabel('Top GDPs (trillions)')\n",
    "ax4.spines['top'].set_visible(False)\n",
    "ax4.spines['right'].set_visible(False)\n",
    "   \n",
    "ax4.set_xticks(ax4.get_xticks(), ax4.get_xticklabels(), rotation=15, ha='right', fontsize=8);\n",
    "\n",
    "\n",
    "##\n",
    "\n",
    "X = 50\n",
    "my_cmap = cm.get_cmap('jet_r', X)\n",
    "\n",
    "ax4b.bar(gdf['name'].iloc[0:X], np.round(gdf['gdp_md_est'].iloc[0:X] / 1e6),\n",
    "            color=my_cmap([i for i in range(X)]))\n",
    "\n",
    "\n",
    "ax4b.set_ylabel('Top 50 GDPs')\n",
    "ax4b.spines['top'].set_visible(False)\n",
    "ax4b.spines['right'].set_visible(False)\n",
    "ax4b.set_xticks([])"
   ]
  },
  {
   "cell_type": "markdown",
   "id": "younger-ethics",
   "metadata": {},
   "source": [
    "### Text, annotation, and drawing"
   ]
  },
  {
   "cell_type": "code",
   "execution_count": null,
   "id": "attached-harbor",
   "metadata": {
    "scrolled": false
   },
   "outputs": [],
   "source": [
    "#Add some annotations to a random walk time-series\n",
    "##########\n",
    "\n",
    "#Note the cumsum() method:\n",
    "######\n",
    "\n",
    "N = 500\n",
    "data = np.random.choice([-1,1], N).cumsum()\n",
    "t = np.arange(N)\n",
    "\n",
    "fig1, ax1 = plt.subplots(1, 1, figsize=(10,8), dpi=90)\n",
    "\n",
    "ax1.plot(t, data, color=(.7, .3, .3))\n",
    "\n",
    "\n",
    "#Add some text:\n",
    "####\n",
    "\n",
    "N1 = 50\n",
    "\n",
    "x = t[N1]; y = data[N1] + 10\n",
    "text_str = 'I\\'m text!'\n",
    "\n",
    "#Could do:\n",
    "#ax1.text(x, y, text_str, fontsize=16)\n",
    "\n",
    "#Fancier:\n",
    "ax1.text(x, y, text_str, fontsize=16, color=(.75, 0.1, 0.1, .9), fontweight='bold',\n",
    "         bbox={'facecolor':'blue','alpha':.25,'edgecolor':'black','pad':10},\n",
    "         ha='center', va='center')\n",
    "\n",
    "\n",
    "#Add some \"Annotations\"\n",
    "#########\n",
    "\n",
    "crisis_data = ((150, 'Big Crisis'), (200, 'Little Crisis'), (300, 'Meh Crisis'))\n",
    "\n",
    "for n, label in crisis_data:\n",
    "    ax1.annotate(label, xy = (n, data[n] + 2),\n",
    "                        xytext = (n, data[n] + 5),\n",
    "                        arrowprops = dict(facecolor='green', edgecolor='blue', headwidth=8, width=3, headlength=8),\n",
    "                        fontsize=14, color='blue')"
   ]
  },
  {
   "cell_type": "code",
   "execution_count": null,
   "id": "varying-novelty",
   "metadata": {},
   "outputs": [],
   "source": [
    "#Can make shapes:\n",
    "################\n",
    "\n",
    "fig = plt.figure(figsize = (10,8), dpi=90)\n",
    "\n",
    "ax1 = fig.add_subplot(1,1,1)\n",
    "\n",
    "rect = plt.Rectangle((0.1, .2), .5, .15, color='blue', alpha=.5)\n",
    "circ = plt.Circle((.5, .5), .2, color=(.9, .0, .0), alpha=.6)\n",
    "pgon = plt.Polygon([[.15, .15], [.35, .4], [.2, .6]], color='green', alpha=.5)\n",
    "\n",
    "ax1.add_patch(rect)\n",
    "ax1.add_patch(circ)\n",
    "ax1.add_patch(pgon)"
   ]
  },
  {
   "cell_type": "markdown",
   "id": "6072f365",
   "metadata": {},
   "source": [
    "### Custom Legends\n",
    "\n",
    "Here's one way to make a custom legend:"
   ]
  },
  {
   "cell_type": "code",
   "execution_count": null,
   "id": "0fb7035d",
   "metadata": {},
   "outputs": [],
   "source": [
    "from matplotlib.patches import Patch\n",
    "from matplotlib.lines import Line2D\n",
    "\n",
    "fig1, ax1 = plt.subplots(1, 1, figsize=(4,3), dpi=120)\n",
    "\n",
    "legend_elements = [Patch(facecolor='blue', edgecolor='black', alpha=1, label='Ocean'),\n",
    "                   Patch(facecolor='green', edgecolor='black', alpha=1, label='Land'),\n",
    "                   \n",
    "                   Line2D([0], [0], alpha=.75, marker='o', color='w', label='City',\n",
    "                          markeredgecolor='black', markerfacecolor='darkblue', markersize=16),\n",
    "                   Line2D([0], [0], alpha=.75, marker='o', color='w', label='Village',\n",
    "                          markerfacecolor='red', markersize=10),\n",
    "                   \n",
    "                   Line2D([0], [0], alpha=1, color='grey', label='Road', linewidth=4)]\n",
    "\n",
    "\n",
    "#Like so:\n",
    "#ax1.legend(handles=legend_elements, fontsize=11, loc='lower left')\n",
    "\n",
    "#Or so:\n",
    "ax1.legend(handles=legend_elements, fontsize=11, bbox_to_anchor=(0.6, .85))\n"
   ]
  },
  {
   "cell_type": "markdown",
   "id": "9c403114",
   "metadata": {},
   "source": [
    "### Custom Colormaps\n",
    "\n",
    "Some convienent ways to get a custom colormap:"
   ]
  },
  {
   "cell_type": "code",
   "execution_count": null,
   "id": "dfa1bb28",
   "metadata": {},
   "outputs": [],
   "source": [
    "from matplotlib import cm\n",
    "from matplotlib.colors import ListedColormap\n",
    "\n",
    "my_cmap = cm.get_cmap('jet', 4)\n",
    "\n",
    "my_cmap"
   ]
  },
  {
   "cell_type": "code",
   "execution_count": null,
   "id": "429675fc",
   "metadata": {},
   "outputs": [],
   "source": [
    "my_cmap = cm.get_cmap('plasma_r', 15)\n",
    "\n",
    "my_cmap"
   ]
  },
  {
   "cell_type": "code",
   "execution_count": null,
   "id": "55916c09",
   "metadata": {},
   "outputs": [],
   "source": [
    "#Listed:\n",
    "####\n",
    "\n",
    "vals = [[46/255, 169/255, 222/255],\n",
    "        [255/255, 199/255, 2/255],\n",
    "        [88/255, 143/255, 48/255]]\n",
    "\n",
    "my_cmap = ListedColormap(vals)\n",
    "\n",
    "my_cmap"
   ]
  },
  {
   "cell_type": "code",
   "execution_count": null,
   "id": "64f0aa24",
   "metadata": {},
   "outputs": [],
   "source": [
    "#Note this hack to add alpha:\n",
    "####\n",
    "\n",
    "my_cmap = cm.get_cmap('viridis', 8)\n",
    "my_cmap\n"
   ]
  },
  {
   "cell_type": "code",
   "execution_count": null,
   "id": "89f230f4",
   "metadata": {},
   "outputs": [],
   "source": [
    "new_map = [list(my_cmap(i))[:3] + [.5] for i in range(8)]\n",
    "\n",
    "my_cmap = ListedColormap(new_map)\n",
    "my_cmap"
   ]
  },
  {
   "cell_type": "markdown",
   "id": "7ac5ac92",
   "metadata": {},
   "source": [
    "## Saving plots: Important!\n",
    "\n",
    "Use something like:\n",
    "\n",
    "```\n",
    "plt.savefig('My_Fig.png', dpi=300, facecolor=\"white\", bbox_inches='tight', pad_inches=0.05)\n",
    "```"
   ]
  },
  {
   "cell_type": "markdown",
   "id": "affecting-reputation",
   "metadata": {},
   "source": [
    "### NumPy\n",
    "\n",
    "The following cells go over some fundamentals of NumPy. We will probably not cover most of this in class, but this is provided as reference.\n",
    "\n",
    "- numpy was developed for fast computation with large arrays\n",
    "- Fast vectorized operations without need for loops\n",
    "- C API for connecting NumPy with libraries written in C, C++, FORTRAN\n",
    "\n",
    "- NumPy stores data internally in large contiguous blocks of memory\n",
    "- NumPy libraries written in C and act on memory without Python interpreter overhead\n",
    "- Much faster than other Python data types"
   ]
  },
  {
   "cell_type": "markdown",
   "id": "isolated-dating",
   "metadata": {},
   "source": [
    "N-Dimensional array object, `ndarray`, is primary data container in NumPy "
   ]
  },
  {
   "cell_type": "code",
   "execution_count": null,
   "id": "burning-server",
   "metadata": {
    "scrolled": false
   },
   "outputs": [],
   "source": [
    "#Let's make a numpy array, and plot\n",
    "#Already saw some of this\n",
    "import numpy as np\n",
    "\n",
    "#One way to make an ndarray (nd = n-dimensional array, very similar to MATLAB arrays/matrices)\n",
    "x = np.array([1,2,3,4,5,6,7,8,9,10])\n",
    "\n",
    "#A better way:\n",
    "y = np.array(np.arange(1,10))\n",
    "\n",
    "#Or just:\n",
    "z = np.arange(1,10)\n",
    "\n",
    "#And can do simple plot, as above:\n",
    "plt.plot(x,x**2)"
   ]
  },
  {
   "cell_type": "code",
   "execution_count": null,
   "id": "virtual-arizona",
   "metadata": {},
   "outputs": [],
   "source": [
    "#Another good way to make numpy arrays\n",
    "####\n",
    "x = np.linspace(0,10,100)\n",
    "\n",
    "y = np.cos(x)**3\n",
    "\n",
    "plt.plot(x,y)"
   ]
  },
  {
   "cell_type": "markdown",
   "id": "eight-airline",
   "metadata": {},
   "source": [
    "`ndarray`s have `ndim`, `shape`, and `dtype`:"
   ]
  },
  {
   "cell_type": "code",
   "execution_count": null,
   "id": "sudden-monitoring",
   "metadata": {},
   "outputs": [],
   "source": [
    "data = np.random.randn(2,3).round(2)\n",
    "\n",
    "display(data)\n",
    "\n",
    "print(data.ndim)\n",
    "print(data.shape)\n",
    "print(data.dtype)"
   ]
  },
  {
   "cell_type": "code",
   "execution_count": null,
   "id": "center-horse",
   "metadata": {},
   "outputs": [],
   "source": [
    "%%time\n",
    "\n",
    "#numpy is *way* faster than lists\n",
    "#Can see with the following...\n",
    "#Do element-wise multiplication a bunch of times...\n",
    "\n",
    "#Will import time package\n",
    "import time\n",
    "\n",
    "\n",
    "arr_list = list(range(0,int(1e6)))\n",
    "arr_np = np.arange(0,1e6)\n",
    "\n",
    "#Do list way\n",
    "####\n",
    "start = time.time()\n",
    "for k in range(10):\n",
    "    arr_list = [i*2 for i in arr_list]\n",
    "\n",
    "end = time.time()\n",
    "\n",
    "print('Elapsed: ' + str(end-start))\n",
    "\n",
    "\n",
    "#Do numpy way\n",
    "####\n",
    "start = time.time()\n",
    "for k in range(10):\n",
    "    arr_np = arr_np*2\n",
    "\n",
    "end = time.time()\n",
    "\n",
    "print('Elapsed: ' + str(end-start))\n"
   ]
  },
  {
   "cell_type": "code",
   "execution_count": null,
   "id": "increased-relay",
   "metadata": {},
   "outputs": [],
   "source": [
    "%%time\n",
    "#Can also do a quick version using magic %time:\n",
    "#Above is a magic command applied to whole cell: MUST come on first line of cell (including comments)\n",
    "#A magic command prefixed with a single % applies to the following line\n",
    "\n",
    "%time for k in range(100): arr_np = arr_np*2   "
   ]
  },
  {
   "cell_type": "code",
   "execution_count": null,
   "id": "anticipated-titanium",
   "metadata": {},
   "outputs": [],
   "source": [
    "#Note int vs. float, multiplication vs. division\n",
    "####\n",
    "#Try ushort, cdouble,...\n",
    "arr_np = np.arange(0,1e6, dtype= np.float32)\n",
    "\n",
    "%time for k in range(100): arr_np = arr_np*2"
   ]
  },
  {
   "cell_type": "code",
   "execution_count": null,
   "id": "concerned-diving",
   "metadata": {},
   "outputs": [],
   "source": [
    "#Some casting\n",
    "arr_np = np.arange(0,1e1, dtype=np.int32)\n",
    "\n",
    "arr_np = arr_np.astype(np.int64)\n",
    "\n",
    "type(arr_np[0])\n",
    "#######\n",
    "#See: https://numpy.org/doc/stable/user/basics.types.html for type lists\n",
    "#######"
   ]
  },
  {
   "cell_type": "code",
   "execution_count": null,
   "id": "golden-disposal",
   "metadata": {},
   "outputs": [],
   "source": [
    "#Note scalars of different types:\n",
    "f16 = np.float16(.1)\n",
    "f32 = np.float32(.1)\n",
    "f64 = np.float64(.1)\n",
    "\n",
    "f16 == f32 == f64\n",
    "\n",
    "#type(f16)"
   ]
  },
  {
   "cell_type": "code",
   "execution_count": null,
   "id": "neural-priority",
   "metadata": {},
   "outputs": [],
   "source": [
    "#Note overflow: This can be source of cryptic error\n",
    "u32 = np.int32(2)\n",
    "u32 = u32**31\n",
    "u32\n",
    "#type(u32)"
   ]
  },
  {
   "cell_type": "markdown",
   "id": "environmental-pound",
   "metadata": {},
   "source": [
    "#### Multi-dimensional arrays\n",
    "\n",
    "More on creating arrays...There are many built-in functions for making arrays, in addition to `array`:"
   ]
  },
  {
   "cell_type": "code",
   "execution_count": null,
   "id": "secondary-copper",
   "metadata": {},
   "outputs": [],
   "source": [
    "#A random array\n",
    "###\n",
    "rand_arr = np.random.rand(4,3).round(2)\n",
    "\n",
    "rand_arr"
   ]
  },
  {
   "cell_type": "code",
   "execution_count": null,
   "id": "tamil-generator",
   "metadata": {},
   "outputs": [],
   "source": [
    "B = np.empty([5,3])\n",
    "B"
   ]
  },
  {
   "cell_type": "code",
   "execution_count": null,
   "id": "graphic-hours",
   "metadata": {},
   "outputs": [],
   "source": [
    "#Some other arrays\n",
    "#Note slightly different formats\n",
    "A = np.eye(5,5) #Or identity\n",
    "A\n",
    "#B = np.ones([2,3])\n",
    "#C = np.zeros([3,5])\n",
    "#D = np.empty((2, 3, 2))"
   ]
  },
  {
   "cell_type": "code",
   "execution_count": null,
   "id": "amateur-advice",
   "metadata": {},
   "outputs": [],
   "source": [
    "#And this way:\n",
    "A = np.array([[1,2,3],[4,5,6]])\n",
    "A"
   ]
  },
  {
   "cell_type": "code",
   "execution_count": null,
   "id": "external-share",
   "metadata": {},
   "outputs": [],
   "source": [
    "#Also have ones_like, zeros_like, empty_like:\n",
    "B = np.empty_like(A)\n",
    "B\n",
    "#C = np.zeros_like(A)\n",
    "#D = np.empty_like(A)"
   ]
  },
  {
   "cell_type": "code",
   "execution_count": null,
   "id": "nearby-fifth",
   "metadata": {},
   "outputs": [],
   "source": [
    "#Can do matrix multiplication\n",
    "A = np.array([[1,2],[3,4]])\n",
    "B = np.array([[1, 2], [1,1]])\n",
    "print(A)\n",
    "print(\"\")\n",
    "print(B)\n",
    "\n",
    "print(\"\")\n",
    "\n",
    "#Element-wise:\n",
    "print(A*B)\n",
    "\n",
    "#Matrix multiplication:\n",
    "np.dot(A,B)"
   ]
  },
  {
   "cell_type": "markdown",
   "id": "decreased-radiation",
   "metadata": {},
   "source": [
    "Arithmetic on NumPy arrays:"
   ]
  },
  {
   "cell_type": "code",
   "execution_count": null,
   "id": "scheduled-blake",
   "metadata": {},
   "outputs": [],
   "source": [
    "#Addition, subtraction, scalar multiplication...\n",
    "A = np.ones([2,3])\n",
    "\n",
    "\n",
    "A*2 - A*3"
   ]
  },
  {
   "cell_type": "code",
   "execution_count": null,
   "id": "greater-camcorder",
   "metadata": {},
   "outputs": [],
   "source": [
    "A * .3"
   ]
  },
  {
   "cell_type": "code",
   "execution_count": null,
   "id": "square-qualification",
   "metadata": {},
   "outputs": [],
   "source": [
    "#Can do inner (dot) and outer products:\n",
    "a = np.arange(4)\n",
    "b = np.array([-2,1,0,3])\n",
    "\n",
    "np.dot(a,b)"
   ]
  },
  {
   "cell_type": "code",
   "execution_count": null,
   "id": "innovative-surface",
   "metadata": {},
   "outputs": [],
   "source": [
    "np.outer(a,b)"
   ]
  },
  {
   "cell_type": "markdown",
   "id": "ongoing-corner",
   "metadata": {},
   "source": [
    "Concatenating:"
   ]
  },
  {
   "cell_type": "code",
   "execution_count": null,
   "id": "determined-rugby",
   "metadata": {},
   "outputs": [],
   "source": [
    "#Concatenate\n",
    "A = np.ones([2,2])\n",
    "B = np.ones([2,2])\n",
    "\n",
    "A\n",
    "np.concatenate((A,B), axis=0)"
   ]
  },
  {
   "cell_type": "markdown",
   "id": "isolated-adolescent",
   "metadata": {},
   "source": [
    "#### Basic Indexing and Slicing"
   ]
  },
  {
   "cell_type": "code",
   "execution_count": null,
   "id": "disciplinary-channels",
   "metadata": {},
   "outputs": [],
   "source": [
    "#In 1-D, similar to Python lists:\n",
    "#######\n",
    "\n",
    "a = np.arange(10)\n",
    "\n",
    "a[2:5]\n",
    "\n",
    "a[:-5]\n",
    "a[-5:-2]\n",
    "\n",
    "a[::-2]\n",
    "a[::2]\n",
    "a[-3:-5]\n",
    "\n",
    "#Can use a list in numpy!:\n",
    "a[[1,2,3]]\n",
    "\n",
    "a[-5:-2]"
   ]
  },
  {
   "cell_type": "code",
   "execution_count": null,
   "id": "faced-logan",
   "metadata": {},
   "outputs": [],
   "source": [
    "a = [1,2,3,4,5]\n",
    "b = a[:]\n",
    "\n",
    "b[0] = 99\n",
    "a"
   ]
  },
  {
   "cell_type": "code",
   "execution_count": null,
   "id": "moving-soccer",
   "metadata": {},
   "outputs": [],
   "source": [
    "#Note slicing yields references in numpy:\n",
    "a = np.arange(10)\n",
    "\n",
    "a_slice = a[5:8]\n",
    "#a_slice\n",
    "\n",
    "a_slice[0:2] = 99\n",
    "\n",
    "a"
   ]
  },
  {
   "cell_type": "code",
   "execution_count": null,
   "id": "reliable-stevens",
   "metadata": {},
   "outputs": [],
   "source": [
    "#Need to use copy()\n",
    "a = np.arange(10)\n",
    "\n",
    "a_slice = a[5:8].copy()\n",
    "a_slice[0:2] = 99\n",
    "a"
   ]
  },
  {
   "cell_type": "markdown",
   "id": "legislative-portal",
   "metadata": {},
   "source": [
    "#### Slicing in 2-D..."
   ]
  },
  {
   "cell_type": "code",
   "execution_count": null,
   "id": "aggressive-germany",
   "metadata": {},
   "outputs": [],
   "source": [
    "#In 2-D\n",
    "#########\n",
    "A = np.array([[1, 2, 3], [4, 5, 6], [7, 8, 9]])\n",
    "A"
   ]
  },
  {
   "cell_type": "code",
   "execution_count": null,
   "id": "legitimate-toner",
   "metadata": {},
   "outputs": [],
   "source": [
    "#Same:\n",
    "A[:][0]\n",
    "#A[1, 2]"
   ]
  },
  {
   "cell_type": "code",
   "execution_count": null,
   "id": "strange-short",
   "metadata": {},
   "outputs": [],
   "source": [
    "A[0:3, 1]"
   ]
  },
  {
   "cell_type": "code",
   "execution_count": null,
   "id": "natural-afternoon",
   "metadata": {},
   "outputs": [],
   "source": [
    "A[:,0]\n",
    "\n",
    "#Note this doesn't work (as intended):\n",
    "#A[:][0]"
   ]
  },
  {
   "cell_type": "code",
   "execution_count": null,
   "id": "overhead-background",
   "metadata": {},
   "outputs": [],
   "source": [
    "A[:,1]\n",
    "A[:,1:2]\n",
    "A[:,1:3]\n",
    "\n",
    "A[:2, 1:]\n",
    "\n",
    "A[0:2,-1]\n",
    "A[0:2,::-1]"
   ]
  },
  {
   "cell_type": "code",
   "execution_count": null,
   "id": "incomplete-union",
   "metadata": {},
   "outputs": [],
   "source": [
    "#We can assign single values to slices:\n",
    "A[1] = 99\n",
    "A"
   ]
  },
  {
   "cell_type": "code",
   "execution_count": null,
   "id": "congressional-airplane",
   "metadata": {},
   "outputs": [],
   "source": [
    "A[:] = 42\n",
    "A"
   ]
  },
  {
   "cell_type": "code",
   "execution_count": null,
   "id": "alien-suffering",
   "metadata": {},
   "outputs": [],
   "source": [
    "A[0:2,0:2] = 1\n",
    "\n",
    "A"
   ]
  },
  {
   "cell_type": "code",
   "execution_count": null,
   "id": "checked-application",
   "metadata": {
    "scrolled": true
   },
   "outputs": [],
   "source": [
    "#We can cast, but this *sometimes* creates a copy:\n",
    "######\n",
    "\n",
    "#Try with np.float64:\n",
    "B = A[0:2,0:2].astype(np.float64)\n",
    "B[:,:] = 2\n",
    "\n",
    "display(B)\n",
    "A"
   ]
  },
  {
   "cell_type": "markdown",
   "id": "confidential-threshold",
   "metadata": {},
   "source": [
    "#### 3-D arrays"
   ]
  },
  {
   "cell_type": "code",
   "execution_count": null,
   "id": "engaging-henry",
   "metadata": {},
   "outputs": [],
   "source": [
    "a = np.zeros([2,3,4])\n",
    "a"
   ]
  },
  {
   "cell_type": "code",
   "execution_count": null,
   "id": "popular-arnold",
   "metadata": {},
   "outputs": [],
   "source": [
    "arr3d = np.array([[[1, 2, 3], [4, 5, 6]], [[7, 8, 9], [10, 11, 12]]])\n",
    "arr3d"
   ]
  },
  {
   "cell_type": "code",
   "execution_count": null,
   "id": "harmful-neighbor",
   "metadata": {},
   "outputs": [],
   "source": [
    "arr3d.ndim"
   ]
  },
  {
   "cell_type": "code",
   "execution_count": null,
   "id": "peripheral-plenty",
   "metadata": {},
   "outputs": [],
   "source": [
    "arr3d[0, :, 0:2]"
   ]
  },
  {
   "cell_type": "code",
   "execution_count": null,
   "id": "given-layer",
   "metadata": {},
   "outputs": [],
   "source": [
    "arr3d[0:2, 0]"
   ]
  },
  {
   "cell_type": "markdown",
   "id": "ready-basketball",
   "metadata": {},
   "source": [
    "#### Boolean Indexing"
   ]
  },
  {
   "cell_type": "code",
   "execution_count": null,
   "id": "horizontal-license",
   "metadata": {},
   "outputs": [],
   "source": [
    "A = np.array([[1, 2, 3], [4, 5, 6]])\n",
    "B = np.array([[0, 1, 4], [6, -2, 7]])\n",
    "\n",
    "print(A, \"\\n\")\n",
    "print(B, \"\\n\")\n",
    "\n",
    "#Can do boolean masking similar to R:\n",
    "print(A > B, \"\\n\")\n",
    "\n",
    "A[A > B]\n"
   ]
  },
  {
   "cell_type": "code",
   "execution_count": null,
   "id": "literary-luxembourg",
   "metadata": {},
   "outputs": [],
   "source": [
    "#Consider also:\n",
    "data = np.array(np.arange(1,29)) #np.random.randn(7,4).round(2)\n",
    "\n",
    "data = data.reshape((7,4))\n",
    "\n",
    "data"
   ]
  },
  {
   "cell_type": "code",
   "execution_count": null,
   "id": "foster-pacific",
   "metadata": {},
   "outputs": [],
   "source": [
    "#Now do boolean indexing:\n",
    "\n",
    "codes = np.array(['A', 'B', 'C', 'D', 'A', 'E', 'F'])\n",
    "\n",
    "#codes == 'A'\n",
    "\n",
    "data[codes == 'A']"
   ]
  },
  {
   "cell_type": "code",
   "execution_count": null,
   "id": "excess-bulgaria",
   "metadata": {},
   "outputs": [],
   "source": [
    "data[~(codes == 'A')]\n",
    "#Or:\n",
    "data[codes != 'A']"
   ]
  },
  {
   "cell_type": "code",
   "execution_count": null,
   "id": "guilty-hayes",
   "metadata": {},
   "outputs": [],
   "source": [
    "#Can use &, | (Not and, or)\n",
    "mask = (codes == 'A') | (codes == 'B')\n",
    "\n",
    "data[mask]"
   ]
  },
  {
   "cell_type": "code",
   "execution_count": null,
   "id": "vertical-award",
   "metadata": {},
   "outputs": [],
   "source": [
    "#More masking\n",
    "####\n",
    "data[data > 20] = 0\n",
    "data\n",
    "\n",
    "data[mask] = -1\n",
    "\n",
    "data"
   ]
  },
  {
   "cell_type": "markdown",
   "id": "stupid-anxiety",
   "metadata": {},
   "source": [
    "#### Re-shaping and transposing"
   ]
  },
  {
   "cell_type": "code",
   "execution_count": null,
   "id": "pleasant-lucas",
   "metadata": {},
   "outputs": [],
   "source": [
    "arr = np.arange(15).reshape((3, 5))\n",
    "print(arr)\n",
    "arr.T"
   ]
  },
  {
   "cell_type": "code",
   "execution_count": null,
   "id": "hazardous-replica",
   "metadata": {},
   "outputs": [],
   "source": [
    "#In higher dimensions:\n",
    "arr = np.arange(16).reshape(2,2,4)\n",
    "print(arr)\n",
    "\n",
    "#Re-order with axis 1 as second, axis 2 as first, axis three stays third\n",
    "arr.transpose(1,0,2)"
   ]
  },
  {
   "cell_type": "markdown",
   "id": "dental-tampa",
   "metadata": {},
   "source": [
    "#### Universal Functions\n",
    "\n",
    "Universal functions perform element-wise operations on ndarrays, often simple *unary* ufuncs:"
   ]
  },
  {
   "cell_type": "code",
   "execution_count": null,
   "id": "attempted-therapist",
   "metadata": {},
   "outputs": [],
   "source": [
    "A = np.arange(10)\n",
    "A"
   ]
  },
  {
   "cell_type": "code",
   "execution_count": null,
   "id": "partial-insider",
   "metadata": {
    "scrolled": true
   },
   "outputs": [],
   "source": [
    "A = np.arange(10)\n",
    "\n",
    "print(np.sqrt(A), '\\n')\n",
    "\n",
    "print(np.exp(A))"
   ]
  },
  {
   "cell_type": "markdown",
   "id": "considerable-lease",
   "metadata": {},
   "source": [
    "Act on two arrays, return a single array:"
   ]
  },
  {
   "cell_type": "code",
   "execution_count": null,
   "id": "funded-disability",
   "metadata": {},
   "outputs": [],
   "source": [
    "x = np.array([1, 2, 3, 4, 9, 10])\n",
    "y = np.array([8, 5, 4, 1, 9, 10])\n",
    "\n",
    "np.maximum(x, y)"
   ]
  },
  {
   "cell_type": "markdown",
   "id": "hourly-wings",
   "metadata": {},
   "source": [
    "Act on a single array, return two arrays:"
   ]
  },
  {
   "cell_type": "code",
   "execution_count": null,
   "id": "removed-edinburgh",
   "metadata": {},
   "outputs": [],
   "source": [
    "x = (np.random.randn(7) * 5).round(2)\n",
    "\n",
    "print(x, '\\n')\n",
    "\n",
    "remainder, whole_part = np.modf(x)\n",
    "\n",
    "print(remainder)\n",
    "print(whole_part)"
   ]
  },
  {
   "cell_type": "markdown",
   "id": "bound-senegal",
   "metadata": {},
   "source": [
    "### Some Aggregation Functions in numpy"
   ]
  },
  {
   "cell_type": "code",
   "execution_count": null,
   "id": "green-sucking",
   "metadata": {},
   "outputs": [],
   "source": [
    "x = np.arange(20).reshape(5,4)\n",
    "x"
   ]
  },
  {
   "cell_type": "code",
   "execution_count": null,
   "id": "given-brand",
   "metadata": {},
   "outputs": [],
   "source": [
    "x.mean()"
   ]
  },
  {
   "cell_type": "code",
   "execution_count": null,
   "id": "neutral-effectiveness",
   "metadata": {},
   "outputs": [],
   "source": [
    "x.sum()\n",
    "x.min()\n",
    "x.max()\n",
    "x.std() #or x.var()"
   ]
  },
  {
   "cell_type": "code",
   "execution_count": null,
   "id": "arbitrary-driving",
   "metadata": {},
   "outputs": [],
   "source": [
    "x.mean(axis=1)"
   ]
  },
  {
   "cell_type": "code",
   "execution_count": null,
   "id": "arabic-hygiene",
   "metadata": {},
   "outputs": [],
   "source": [
    "x.sum(axis=0)"
   ]
  },
  {
   "cell_type": "code",
   "execution_count": null,
   "id": "knowing-trade",
   "metadata": {},
   "outputs": [],
   "source": [
    "x.cumsum(axis=0)"
   ]
  },
  {
   "cell_type": "code",
   "execution_count": null,
   "id": "federal-registration",
   "metadata": {
    "scrolled": true
   },
   "outputs": [],
   "source": [
    "x.cumprod(axis=1)"
   ]
  },
  {
   "cell_type": "markdown",
   "id": "satisfied-frederick",
   "metadata": {},
   "source": [
    "Note for booleans:"
   ]
  },
  {
   "cell_type": "code",
   "execution_count": null,
   "id": "stainless-rehabilitation",
   "metadata": {
    "scrolled": true
   },
   "outputs": [],
   "source": [
    "x = np.random.randn(50)\n",
    "\n",
    "(x > 0).sum()\n",
    "\n",
    "#(x > 0).any()\n",
    "#(x > 0).all()"
   ]
  },
  {
   "cell_type": "markdown",
   "id": "corporate-expert",
   "metadata": {},
   "source": [
    "Get unique elements, sort:"
   ]
  },
  {
   "cell_type": "code",
   "execution_count": null,
   "id": "uniform-river",
   "metadata": {},
   "outputs": [],
   "source": [
    "x = np.array([7, 2, 1, 2, 1, 2, 3, 4, 2])\n",
    "\n",
    "x.sort()\n",
    "x\n",
    "\n",
    "#To reverse sort:\n",
    "#x[::-1].sort()\n",
    "\n",
    "#Or\n",
    "x.sort()\n",
    "x = x[::-1]\n",
    "x"
   ]
  },
  {
   "cell_type": "code",
   "execution_count": null,
   "id": "micro-fleece",
   "metadata": {},
   "outputs": [],
   "source": [
    "#Note that this sorts:\n",
    "np.unique(x)\n",
    "\n",
    "#Equivalent to\n",
    "sorted(set(x))"
   ]
  },
  {
   "cell_type": "markdown",
   "id": "intense-scanner",
   "metadata": {},
   "source": [
    "To sort along an axis..."
   ]
  },
  {
   "cell_type": "code",
   "execution_count": null,
   "id": "outside-identity",
   "metadata": {},
   "outputs": [],
   "source": [
    "x = np.random.randint(1, 50, 12).reshape(3,4)\n",
    "\n",
    "print(x)\n",
    "\n",
    "x.sort(0)\n",
    "x"
   ]
  },
  {
   "cell_type": "markdown",
   "id": "associate-lancaster",
   "metadata": {},
   "source": [
    "#### Linear Algebra\n",
    "\n",
    "- From above, we had `A * B` gives us element-wise matrix multiplication. We use `np.dot(A,B)` for actual matrix multiplication.\n",
    "\n",
    "- `numpy.linalg` has a standard set of matrix decomposition and other matrix functions, like inverse, determinant, etc.\n",
    "\n",
    "Common functions:\n",
    "- `diag` ~ Return diagonal elements as 1D array\n",
    "- `dot` ~ Matrix multiplication\n",
    "- `trace` ~ Sum of diagonal elements\n",
    "- `det` ~ Matrix determinant\n",
    "- `eig` ~ eigenvalues/vectors of square matrix\n",
    "- `inv` ~ Inverse of square matrix\n",
    "- `pinv` ~ Moore-Penrose pseudo-inverse\n",
    "- `qr` ~ QR Decomposition\n",
    "- `svd` ~ Singular Value Decomposition\n",
    "- `solve` ~ Solve linear system Ax = b for x, where A is square matrix\n",
    "- `lstsq` ~ Compute least-squares solution to Ax=b"
   ]
  },
  {
   "cell_type": "code",
   "execution_count": null,
   "id": "sharp-graduate",
   "metadata": {},
   "outputs": [],
   "source": [
    "#Ex:\n",
    "X = ((np.arange(16) + np.random.randn(16) / 10 * 0).round(2)).reshape(4,4)\n",
    "\n",
    "print(X)\n",
    "np.linalg.pinv(X)"
   ]
  },
  {
   "cell_type": "code",
   "execution_count": null,
   "id": "5eda3645",
   "metadata": {},
   "outputs": [],
   "source": []
  }
 ],
 "metadata": {
  "kernelspec": {
   "display_name": "Python 3 (ipykernel)",
   "language": "python",
   "name": "python3"
  },
  "language_info": {
   "codemirror_mode": {
    "name": "ipython",
    "version": 3
   },
   "file_extension": ".py",
   "mimetype": "text/x-python",
   "name": "python",
   "nbconvert_exporter": "python",
   "pygments_lexer": "ipython3",
   "version": "3.9.16"
  }
 },
 "nbformat": 4,
 "nbformat_minor": 5
}
