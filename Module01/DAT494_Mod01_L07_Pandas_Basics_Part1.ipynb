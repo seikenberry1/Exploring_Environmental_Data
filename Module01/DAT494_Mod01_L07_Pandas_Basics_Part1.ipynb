{
 "cells": [
  {
   "cell_type": "markdown",
   "id": "touched-accountability",
   "metadata": {},
   "source": [
    "\n",
    "# Getting Started with Pandas\n",
    "\n",
    "- The `pandas` library is our fundamental library for working with tabular data/data frames.\n",
    "\n",
    "- pandas is often used with numerical computing tools NumPy and SciPy, analytical libraries like scikit-learn, and data visualization libraries such as matplotlib\n",
    "\n",
    "- Adopts parts of NumPy's style for array-based computing and data processing without `for` loops\n",
    "\n",
    "<br>\n",
    "\n",
    "<img src=\"panda.png\" alt=\"Panda!\" style=\"width:375px;\"/>\n",
    "\n",
    "<br>"
   ]
  },
  {
   "cell_type": "code",
   "execution_count": 61,
   "id": "satisfied-veteran",
   "metadata": {},
   "outputs": [],
   "source": [
    "#Standard way to import\n",
    "####\n",
    "\n",
    "import pandas as pd\n",
    "\n",
    "#Grab numpy and matplotlib.pyplot as well:\n",
    "import numpy as np\n",
    "import matplotlib.pyplot as plt"
   ]
  },
  {
   "cell_type": "markdown",
   "id": "dimensional-research",
   "metadata": {},
   "source": [
    "## Series\n",
    "\n",
    "The two fundamental data structures in pandas are the\n",
    "\n",
    "1. **Series**\n",
    "2. **DataFrame**\n",
    "\n",
    "A **Series** is a 1-D array-like object consisting of a sequence of values (types similar to NumPy types) + an array of data labels called its ***index***"
   ]
  },
  {
   "cell_type": "code",
   "execution_count": 62,
   "id": "united-suggestion",
   "metadata": {
    "scrolled": true
   },
   "outputs": [
    {
     "data": {
      "text/plain": [
       "0    1\n",
       "1    3\n",
       "2    5\n",
       "3    7\n",
       "4    9\n",
       "dtype: int64"
      ]
     },
     "execution_count": 62,
     "metadata": {},
     "output_type": "execute_result"
    }
   ],
   "source": [
    "#Make simple series from only an array of data\n",
    "s = pd.Series([1, 3, 5, 7, 9])\n",
    "\n",
    "s"
   ]
  },
  {
   "cell_type": "markdown",
   "id": "subject-meeting",
   "metadata": {},
   "source": [
    "Check out default index (plus values):"
   ]
  },
  {
   "cell_type": "code",
   "execution_count": 63,
   "id": "knowing-eligibility",
   "metadata": {},
   "outputs": [
    {
     "data": {
      "text/plain": [
       "array([1, 3, 5, 7, 9], dtype=int64)"
      ]
     },
     "execution_count": 63,
     "metadata": {},
     "output_type": "execute_result"
    }
   ],
   "source": [
    "s.values"
   ]
  },
  {
   "cell_type": "code",
   "execution_count": 64,
   "id": "85a42a82",
   "metadata": {},
   "outputs": [
    {
     "data": {
      "text/plain": [
       "RangeIndex(start=0, stop=5, step=1)"
      ]
     },
     "execution_count": 64,
     "metadata": {},
     "output_type": "execute_result"
    }
   ],
   "source": [
    "s.index"
   ]
  },
  {
   "cell_type": "code",
   "execution_count": 65,
   "id": "sudden-click",
   "metadata": {},
   "outputs": [
    {
     "data": {
      "text/plain": [
       "[0, 1, 2, 3, 4]"
      ]
     },
     "execution_count": 65,
     "metadata": {},
     "output_type": "execute_result"
    }
   ],
   "source": [
    "list(s.index)"
   ]
  },
  {
   "cell_type": "markdown",
   "id": "american-steering",
   "metadata": {},
   "source": [
    "Let's give everything a label using the index:"
   ]
  },
  {
   "cell_type": "code",
   "execution_count": 66,
   "id": "southwest-service",
   "metadata": {},
   "outputs": [
    {
     "data": {
      "text/plain": [
       "['a', 'b', 'c', 'd', 'e']"
      ]
     },
     "execution_count": 66,
     "metadata": {},
     "output_type": "execute_result"
    }
   ],
   "source": [
    "#We'll use:\n",
    "list('abcde')"
   ]
  },
  {
   "cell_type": "code",
   "execution_count": 67,
   "id": "spare-tomato",
   "metadata": {},
   "outputs": [
    {
     "data": {
      "text/plain": [
       "a    1\n",
       "b    3\n",
       "c    5\n",
       "d    7\n",
       "e    9\n",
       "dtype: int64"
      ]
     },
     "metadata": {},
     "output_type": "display_data"
    },
    {
     "data": {
      "text/plain": [
       "Index(['a', 'b', 'c', 'd', 'e'], dtype='object')"
      ]
     },
     "execution_count": 67,
     "metadata": {},
     "output_type": "execute_result"
    }
   ],
   "source": [
    "s = pd.Series([1, 3, 5, 7, 9], index = list('abcde')) #vs. ['a', 'b', 'c', 'd', 'e'])\n",
    "\n",
    "#Vs:\n",
    "#s = pd.Series([1, 3, 5, 7, 9], index = range(1,6))\n",
    "\n",
    "display(s)\n",
    "\n",
    "s.index"
   ]
  },
  {
   "cell_type": "markdown",
   "id": "civil-aberdeen",
   "metadata": {},
   "source": [
    "#### Can use either numeric index or labels in index to select values in Series:\n",
    "\n",
    "- But possible ambiguity when labels are numeric"
   ]
  },
  {
   "cell_type": "code",
   "execution_count": 70,
   "id": "dental-westminster",
   "metadata": {
    "scrolled": true
   },
   "outputs": [
    {
     "data": {
      "text/plain": [
       "1"
      ]
     },
     "execution_count": 70,
     "metadata": {},
     "output_type": "execute_result"
    }
   ],
   "source": [
    "#Numeric index:\n",
    "s[0]"
   ]
  },
  {
   "cell_type": "code",
   "execution_count": 71,
   "id": "spanish-thunder",
   "metadata": {},
   "outputs": [
    {
     "data": {
      "text/plain": [
       "1"
      ]
     },
     "execution_count": 71,
     "metadata": {},
     "output_type": "execute_result"
    }
   ],
   "source": [
    "#By label:\n",
    "s['a']"
   ]
  },
  {
   "cell_type": "code",
   "execution_count": 72,
   "id": "retained-stand",
   "metadata": {},
   "outputs": [
    {
     "data": {
      "text/plain": [
       "a    1\n",
       "b    3\n",
       "c    5\n",
       "d    7\n",
       "dtype: int64"
      ]
     },
     "execution_count": 72,
     "metadata": {},
     "output_type": "execute_result"
    }
   ],
   "source": [
    "#Note that this is right-inclusive, unlike most of Python:\n",
    "s['a':'d']"
   ]
  },
  {
   "cell_type": "code",
   "execution_count": 74,
   "id": "limited-administrator",
   "metadata": {},
   "outputs": [
    {
     "data": {
      "text/plain": [
       "a    1\n",
       "b    3\n",
       "d    7\n",
       "dtype: int64"
      ]
     },
     "execution_count": 74,
     "metadata": {},
     "output_type": "execute_result"
    }
   ],
   "source": [
    "#Note must use a list if getting multiple specific indices\n",
    "s[['a', 'b', 'd']]"
   ]
  },
  {
   "cell_type": "code",
   "execution_count": 76,
   "id": "enhanced-upgrade",
   "metadata": {},
   "outputs": [
    {
     "data": {
      "text/plain": [
       "3    1\n",
       "4    3\n",
       "5    5\n",
       "6    7\n",
       "7    9\n",
       "dtype: int64"
      ]
     },
     "execution_count": 76,
     "metadata": {},
     "output_type": "execute_result"
    }
   ],
   "source": [
    "## Note if we have a numeric index that does NOT align with the integer location::\n",
    "s = pd.Series([1, 3, 5, 7, 9], index = range(3,8))\n",
    "\n",
    "s"
   ]
  },
  {
   "cell_type": "markdown",
   "id": "diverse-vegetation",
   "metadata": {},
   "source": [
    "### We can also use `iloc` and `loc`:\n",
    "\n",
    "- Strongly recommended for Series\n",
    "- Must use for DataFrames\n",
    "\n",
    "#### `iloc` is the integer index:"
   ]
  },
  {
   "cell_type": "code",
   "execution_count": 84,
   "id": "93d53135",
   "metadata": {},
   "outputs": [
    {
     "data": {
      "text/plain": [
       "a    1\n",
       "b    3\n",
       "c    5\n",
       "d    7\n",
       "e    9\n",
       "dtype: int64"
      ]
     },
     "execution_count": 84,
     "metadata": {},
     "output_type": "execute_result"
    }
   ],
   "source": [
    "#Remake s real quick:\n",
    "s = pd.Series([1, 3, 5, 7, 9], index = list('abcde'))\n",
    "s"
   ]
  },
  {
   "cell_type": "code",
   "execution_count": 85,
   "id": "ordered-threshold",
   "metadata": {},
   "outputs": [
    {
     "data": {
      "text/plain": [
       "a    1\n",
       "c    5\n",
       "d    7\n",
       "dtype: int64"
      ]
     },
     "execution_count": 85,
     "metadata": {},
     "output_type": "execute_result"
    }
   ],
   "source": [
    "s.iloc[[0,2,3]]"
   ]
  },
  {
   "cell_type": "markdown",
   "id": "f5af24c5",
   "metadata": {},
   "source": [
    "#### `loc` uses the index"
   ]
  },
  {
   "cell_type": "code",
   "execution_count": 86,
   "id": "published-lesson",
   "metadata": {
    "scrolled": true
   },
   "outputs": [
    {
     "data": {
      "text/plain": [
       "a    1\n",
       "b    3\n",
       "c    5\n",
       "dtype: int64"
      ]
     },
     "execution_count": 86,
     "metadata": {},
     "output_type": "execute_result"
    }
   ],
   "source": [
    "s.loc['a':'c']"
   ]
  },
  {
   "cell_type": "code",
   "execution_count": 89,
   "id": "short-coral",
   "metadata": {},
   "outputs": [
    {
     "data": {
      "text/plain": [
       "a    1\n",
       "b    3\n",
       "dtype: int64"
      ]
     },
     "execution_count": 89,
     "metadata": {},
     "output_type": "execute_result"
    }
   ],
   "source": [
    "#But note the difference:\n",
    "s.iloc[0:2]"
   ]
  },
  {
   "cell_type": "markdown",
   "id": "overhead-header",
   "metadata": {},
   "source": [
    "### Boolean Masking\n",
    "\n",
    "Similar to NumPy...\n",
    "\n",
    "**Note that masking, filtering, scalar multiplication, and math functions all preserve index-value link**"
   ]
  },
  {
   "cell_type": "code",
   "execution_count": 90,
   "id": "342c7ca9",
   "metadata": {},
   "outputs": [
    {
     "data": {
      "text/plain": [
       "a    False\n",
       "b    False\n",
       "c     True\n",
       "d     True\n",
       "e     True\n",
       "dtype: bool"
      ]
     },
     "execution_count": 90,
     "metadata": {},
     "output_type": "execute_result"
    }
   ],
   "source": [
    "s > 3"
   ]
  },
  {
   "cell_type": "code",
   "execution_count": 91,
   "id": "devoted-gospel",
   "metadata": {
    "scrolled": true
   },
   "outputs": [
    {
     "data": {
      "text/plain": [
       "c    5\n",
       "d    7\n",
       "e    9\n",
       "dtype: int64"
      ]
     },
     "execution_count": 91,
     "metadata": {},
     "output_type": "execute_result"
    }
   ],
   "source": [
    "s[s > 3]"
   ]
  },
  {
   "cell_type": "code",
   "execution_count": 92,
   "id": "sacred-absolute",
   "metadata": {},
   "outputs": [
    {
     "data": {
      "text/plain": [
       "c    5\n",
       "d    7\n",
       "e    9\n",
       "dtype: int64"
      ]
     },
     "execution_count": 92,
     "metadata": {},
     "output_type": "execute_result"
    }
   ],
   "source": [
    "#OR (better):\n",
    "s.loc[s > 3]"
   ]
  },
  {
   "cell_type": "markdown",
   "id": "c1ee980a",
   "metadata": {},
   "source": [
    "### Arithmetic and universal functions:\n",
    "\n",
    "- Similar to NumPy\n",
    "- *Arithmetic operations between series automatically align by index label!*"
   ]
  },
  {
   "cell_type": "code",
   "execution_count": 93,
   "id": "contemporary-photograph",
   "metadata": {},
   "outputs": [
    {
     "data": {
      "text/plain": [
       "a     3\n",
       "b     9\n",
       "c    15\n",
       "d    21\n",
       "e    27\n",
       "dtype: int64"
      ]
     },
     "execution_count": 93,
     "metadata": {},
     "output_type": "execute_result"
    }
   ],
   "source": [
    "s * 3"
   ]
  },
  {
   "cell_type": "code",
   "execution_count": 94,
   "id": "looking-karma",
   "metadata": {
    "scrolled": true
   },
   "outputs": [
    {
     "data": {
      "text/plain": [
       "a       2.718282\n",
       "b      20.085537\n",
       "c     148.413159\n",
       "d    1096.633158\n",
       "e    8103.083928\n",
       "dtype: float64"
      ]
     },
     "execution_count": 94,
     "metadata": {},
     "output_type": "execute_result"
    }
   ],
   "source": [
    "np.exp(s)"
   ]
  },
  {
   "cell_type": "code",
   "execution_count": 95,
   "id": "supposed-zoning",
   "metadata": {},
   "outputs": [
    {
     "data": {
      "text/plain": [
       "e    1\n",
       "d    3\n",
       "c    5\n",
       "b    7\n",
       "a    9\n",
       "dtype: int64"
      ]
     },
     "execution_count": 95,
     "metadata": {},
     "output_type": "execute_result"
    }
   ],
   "source": [
    "#Note index alignment:\n",
    "\n",
    "#What if:\n",
    "####\n",
    "\n",
    "s2 = pd.Series([1, 3, 5, 7, 9], index = list(reversed('abcde')))\n",
    "\n",
    "s2"
   ]
  },
  {
   "cell_type": "code",
   "execution_count": 96,
   "id": "0f16ccb7",
   "metadata": {},
   "outputs": [
    {
     "data": {
      "text/plain": [
       "a    1\n",
       "b    3\n",
       "c    5\n",
       "d    7\n",
       "e    9\n",
       "dtype: int64"
      ]
     },
     "execution_count": 96,
     "metadata": {},
     "output_type": "execute_result"
    }
   ],
   "source": [
    "s"
   ]
  },
  {
   "cell_type": "code",
   "execution_count": 97,
   "id": "eea3ea6f",
   "metadata": {},
   "outputs": [
    {
     "data": {
      "text/plain": [
       "a    10\n",
       "b    10\n",
       "c    10\n",
       "d    10\n",
       "e    10\n",
       "dtype: int64"
      ]
     },
     "execution_count": 97,
     "metadata": {},
     "output_type": "execute_result"
    }
   ],
   "source": [
    "s + s2"
   ]
  },
  {
   "cell_type": "code",
   "execution_count": 98,
   "id": "4bf58e3e",
   "metadata": {},
   "outputs": [
    {
     "data": {
      "text/plain": [
       "a     9\n",
       "b    21\n",
       "c    25\n",
       "d    21\n",
       "e     9\n",
       "dtype: int64"
      ]
     },
     "execution_count": 98,
     "metadata": {},
     "output_type": "execute_result"
    }
   ],
   "source": [
    "s * s2"
   ]
  },
  {
   "cell_type": "markdown",
   "id": "verbal-nightmare",
   "metadata": {},
   "source": [
    "#### Note: Series can also be thought of as an ordered dictionary: It is a mapping of index values to data values.\n",
    "\n",
    "- Series can be used in many contexts where a dict might be used"
   ]
  },
  {
   "cell_type": "code",
   "execution_count": 99,
   "id": "occasional-intelligence",
   "metadata": {},
   "outputs": [
    {
     "data": {
      "text/plain": [
       "True"
      ]
     },
     "execution_count": 99,
     "metadata": {},
     "output_type": "execute_result"
    }
   ],
   "source": [
    "#See if index/key in s?\n",
    "'a' in s"
   ]
  },
  {
   "cell_type": "code",
   "execution_count": 101,
   "id": "proof-documentary",
   "metadata": {},
   "outputs": [
    {
     "data": {
      "text/plain": [
       "False"
      ]
     },
     "execution_count": 101,
     "metadata": {},
     "output_type": "execute_result"
    }
   ],
   "source": [
    "'f' in s"
   ]
  },
  {
   "cell_type": "code",
   "execution_count": 102,
   "id": "infrared-transport",
   "metadata": {},
   "outputs": [
    {
     "data": {
      "text/plain": [
       "True"
      ]
     },
     "execution_count": 102,
     "metadata": {},
     "output_type": "execute_result"
    }
   ],
   "source": [
    "#Values?\n",
    "5 in s.values"
   ]
  },
  {
   "cell_type": "code",
   "execution_count": 103,
   "id": "ddf6a855",
   "metadata": {},
   "outputs": [
    {
     "data": {
      "text/plain": [
       "array([1, 3, 5, 7, 9], dtype=int64)"
      ]
     },
     "execution_count": 103,
     "metadata": {},
     "output_type": "execute_result"
    }
   ],
   "source": [
    "s.values"
   ]
  },
  {
   "cell_type": "code",
   "execution_count": 104,
   "id": "bronze-grounds",
   "metadata": {},
   "outputs": [
    {
     "data": {
      "text/plain": [
       "a    False\n",
       "b    False\n",
       "c     True\n",
       "d     True\n",
       "e    False\n",
       "dtype: bool"
      ]
     },
     "execution_count": 104,
     "metadata": {},
     "output_type": "execute_result"
    }
   ],
   "source": [
    "#Note boolean masking by a list of values: Use `isin()`\n",
    "######\n",
    "\n",
    "s.isin([5,7])"
   ]
  },
  {
   "cell_type": "code",
   "execution_count": 107,
   "id": "1cfc2c60",
   "metadata": {},
   "outputs": [
    {
     "data": {
      "text/plain": [
       "c    5\n",
       "d    7\n",
       "dtype: int64"
      ]
     },
     "execution_count": 107,
     "metadata": {},
     "output_type": "execute_result"
    }
   ],
   "source": [
    "#Better to use loc:\n",
    "######\n",
    "s.loc[s.isin([5,7])]\n",
    "\n",
    "#Not in!\n",
    "#s.loc[~s.isin([5,7])]"
   ]
  },
  {
   "cell_type": "markdown",
   "id": "cardiovascular-point",
   "metadata": {},
   "source": [
    "#### Can directly create a Series from data stored in a dictionary object:"
   ]
  },
  {
   "cell_type": "code",
   "execution_count": 108,
   "id": "retired-vermont",
   "metadata": {
    "scrolled": true
   },
   "outputs": [
    {
     "data": {
      "text/plain": [
       "Arizona       29\n",
       "Ohio        3300\n",
       "Texas       1810\n",
       "Oregon        65\n",
       "Iowa       12900\n",
       "dtype: int64"
      ]
     },
     "execution_count": 108,
     "metadata": {},
     "output_type": "execute_result"
    }
   ],
   "source": [
    "#Area harvested for grain in 2020 in 1,000 acres, selected states; USDA Acreage Report\n",
    "#https://usda.library.cornell.edu/concern/publications/j098zb09z?locale=en\n",
    "####\n",
    "sdata = {'Arizona': 29, 'Ohio': 3300, 'Texas': 1810, 'Oregon': 65, 'Iowa': 12900}\n",
    "\n",
    "s = pd.Series(sdata)\n",
    "s"
   ]
  },
  {
   "cell_type": "code",
   "execution_count": null,
   "id": "martial-swedish",
   "metadata": {},
   "outputs": [],
   "source": [
    "#Note, equiv to:\n",
    "#sdata = [29, 3300, 1810, 65, 12900]\n",
    "#pd.Series(sdata, index = ['Arizona', 'Ohio', 'Texas', 'Oregon', 'Iowa'])"
   ]
  },
  {
   "cell_type": "code",
   "execution_count": 109,
   "id": "looking-hawaii",
   "metadata": {},
   "outputs": [
    {
     "data": {
      "text/plain": [
       "array([   29,  3300,  1810,    65, 12900], dtype=int64)"
      ]
     },
     "execution_count": 109,
     "metadata": {},
     "output_type": "execute_result"
    }
   ],
   "source": [
    "s.values"
   ]
  },
  {
   "cell_type": "code",
   "execution_count": 110,
   "id": "tight-mentor",
   "metadata": {},
   "outputs": [
    {
     "data": {
      "text/plain": [
       "Index(['Arizona', 'Ohio', 'Texas', 'Oregon', 'Iowa'], dtype='object')"
      ]
     },
     "execution_count": 110,
     "metadata": {},
     "output_type": "execute_result"
    }
   ],
   "source": [
    "s.index"
   ]
  },
  {
   "cell_type": "markdown",
   "id": "through-encyclopedia",
   "metadata": {},
   "source": [
    "- Can set order of index in resulting series:"
   ]
  },
  {
   "cell_type": "code",
   "execution_count": 111,
   "id": "textile-remainder",
   "metadata": {},
   "outputs": [
    {
     "data": {
      "text/plain": [
       "Arizona          29.0\n",
       "California        NaN\n",
       "Iowa          12900.0\n",
       "Ohio           3300.0\n",
       "Texas          1810.0\n",
       "dtype: float64"
      ]
     },
     "execution_count": 111,
     "metadata": {},
     "output_type": "execute_result"
    }
   ],
   "source": [
    "states = ['Arizona', 'California', 'Iowa', 'Ohio', 'Texas']\n",
    "\n",
    "s2 = pd.Series(sdata, index = states)\n",
    "s2"
   ]
  },
  {
   "cell_type": "markdown",
   "id": "center-record",
   "metadata": {},
   "source": [
    "* Note that 'Oregon' was dropped, and California got a `NaN` value\n",
    "\n",
    "Can detect missing data with `isnull` and `notnull`:"
   ]
  },
  {
   "cell_type": "code",
   "execution_count": 112,
   "id": "military-suite",
   "metadata": {},
   "outputs": [
    {
     "data": {
      "text/plain": [
       "Arizona       False\n",
       "California     True\n",
       "Iowa          False\n",
       "Ohio          False\n",
       "Texas         False\n",
       "dtype: bool"
      ]
     },
     "execution_count": 112,
     "metadata": {},
     "output_type": "execute_result"
    }
   ],
   "source": [
    "pd.isnull(s2)"
   ]
  },
  {
   "cell_type": "code",
   "execution_count": 113,
   "id": "breathing-brake",
   "metadata": {},
   "outputs": [
    {
     "data": {
      "text/plain": [
       "Arizona        True\n",
       "California    False\n",
       "Iowa           True\n",
       "Ohio           True\n",
       "Texas          True\n",
       "dtype: bool"
      ]
     },
     "execution_count": 113,
     "metadata": {},
     "output_type": "execute_result"
    }
   ],
   "source": [
    "pd.notnull(s2)"
   ]
  },
  {
   "cell_type": "code",
   "execution_count": 114,
   "id": "colonial-translator",
   "metadata": {},
   "outputs": [
    {
     "data": {
      "text/plain": [
       "Arizona        True\n",
       "California    False\n",
       "Iowa           True\n",
       "Ohio           True\n",
       "Texas          True\n",
       "dtype: bool"
      ]
     },
     "execution_count": 114,
     "metadata": {},
     "output_type": "execute_result"
    }
   ],
   "source": [
    "#Also have isnull() and notnull() methods (vs. functions)\n",
    "#Plus isna() and notna() methods\n",
    "\n",
    "s2.notnull()"
   ]
  },
  {
   "cell_type": "code",
   "execution_count": 115,
   "id": "radio-criterion",
   "metadata": {},
   "outputs": [
    {
     "data": {
      "text/plain": [
       "Arizona       False\n",
       "California     True\n",
       "Iowa          False\n",
       "Ohio          False\n",
       "Texas         False\n",
       "dtype: bool"
      ]
     },
     "execution_count": 115,
     "metadata": {},
     "output_type": "execute_result"
    }
   ],
   "source": [
    "s2.isna()"
   ]
  },
  {
   "cell_type": "code",
   "execution_count": 117,
   "id": "functioning-packet",
   "metadata": {},
   "outputs": [
    {
     "data": {
      "text/plain": [
       "True"
      ]
     },
     "execution_count": 117,
     "metadata": {},
     "output_type": "execute_result"
    }
   ],
   "source": [
    "#Throw in an any() method (can also try all()):\n",
    "s2.isna().any()"
   ]
  },
  {
   "cell_type": "code",
   "execution_count": 118,
   "id": "6e1d2609",
   "metadata": {},
   "outputs": [
    {
     "data": {
      "text/plain": [
       "False"
      ]
     },
     "execution_count": 118,
     "metadata": {},
     "output_type": "execute_result"
    }
   ],
   "source": [
    "s2.isna().all()"
   ]
  },
  {
   "cell_type": "markdown",
   "id": "final-bullet",
   "metadata": {},
   "source": [
    "#### As above, arithmetic operations automatically align by index label:"
   ]
  },
  {
   "cell_type": "code",
   "execution_count": 119,
   "id": "indoor-enemy",
   "metadata": {
    "scrolled": true
   },
   "outputs": [
    {
     "data": {
      "text/plain": [
       "Arizona       29\n",
       "Ohio        3300\n",
       "Texas       1810\n",
       "Oregon        65\n",
       "Iowa       12900\n",
       "dtype: int64"
      ]
     },
     "execution_count": 119,
     "metadata": {},
     "output_type": "execute_result"
    }
   ],
   "source": [
    "s"
   ]
  },
  {
   "cell_type": "code",
   "execution_count": 120,
   "id": "invisible-technician",
   "metadata": {},
   "outputs": [
    {
     "data": {
      "text/plain": [
       "Arizona          29.0\n",
       "California        NaN\n",
       "Iowa          12900.0\n",
       "Ohio           3300.0\n",
       "Texas          1810.0\n",
       "dtype: float64"
      ]
     },
     "execution_count": 120,
     "metadata": {},
     "output_type": "execute_result"
    }
   ],
   "source": [
    "s2"
   ]
  },
  {
   "cell_type": "code",
   "execution_count": 121,
   "id": "greenhouse-enforcement",
   "metadata": {},
   "outputs": [
    {
     "data": {
      "text/plain": [
       "Arizona          58.0\n",
       "California        NaN\n",
       "Iowa          25800.0\n",
       "Ohio           6600.0\n",
       "Oregon            NaN\n",
       "Texas          3620.0\n",
       "dtype: float64"
      ]
     },
     "execution_count": 121,
     "metadata": {},
     "output_type": "execute_result"
    }
   ],
   "source": [
    "s + s2"
   ]
  },
  {
   "cell_type": "code",
   "execution_count": 124,
   "id": "nasty-preparation",
   "metadata": {},
   "outputs": [
    {
     "data": {
      "text/plain": [
       "Arizona       58.0\n",
       "Iowa       25800.0\n",
       "Ohio        6600.0\n",
       "Texas       3620.0\n",
       "dtype: float64"
      ]
     },
     "execution_count": 124,
     "metadata": {},
     "output_type": "execute_result"
    }
   ],
   "source": [
    "#To only keep the ones that aren't NaN:\n",
    "(s + s2).dropna()\n"
   ]
  },
  {
   "cell_type": "markdown",
   "id": "exotic-alcohol",
   "metadata": {},
   "source": [
    "### Naming Stuff"
   ]
  },
  {
   "cell_type": "code",
   "execution_count": 125,
   "id": "supreme-guidance",
   "metadata": {},
   "outputs": [],
   "source": [
    "#Name the Series\n",
    "s.name = 'Grain'\n",
    "\n",
    "#Name the index:\n",
    "s.index.name = 'State'"
   ]
  },
  {
   "cell_type": "code",
   "execution_count": 126,
   "id": "bottom-participation",
   "metadata": {},
   "outputs": [
    {
     "data": {
      "text/plain": [
       "State\n",
       "Arizona       29\n",
       "Ohio        3300\n",
       "Texas       1810\n",
       "Oregon        65\n",
       "Iowa       12900\n",
       "Name: Grain, dtype: int64"
      ]
     },
     "execution_count": 126,
     "metadata": {},
     "output_type": "execute_result"
    }
   ],
   "source": [
    "s"
   ]
  },
  {
   "cell_type": "markdown",
   "id": "5137d183",
   "metadata": {},
   "source": [
    "#### Altering the index?"
   ]
  },
  {
   "cell_type": "code",
   "execution_count": 127,
   "id": "agreed-interface",
   "metadata": {},
   "outputs": [
    {
     "data": {
      "text/plain": [
       "0    1\n",
       "1    3\n",
       "2    5\n",
       "3    7\n",
       "4    9\n",
       "dtype: int64"
      ]
     },
     "execution_count": 127,
     "metadata": {},
     "output_type": "execute_result"
    }
   ],
   "source": [
    "#Can alter index by in-place assignment:\n",
    "\n",
    "#Re-make our simpler example:\n",
    "s = pd.Series([1, 3, 5, 7, 9])\n",
    "s"
   ]
  },
  {
   "cell_type": "code",
   "execution_count": 128,
   "id": "thirty-trading",
   "metadata": {},
   "outputs": [
    {
     "data": {
      "text/plain": [
       "Name!\n",
       "A    1\n",
       "B    3\n",
       "C    5\n",
       "D    7\n",
       "E    9\n",
       "dtype: int64"
      ]
     },
     "execution_count": 128,
     "metadata": {},
     "output_type": "execute_result"
    }
   ],
   "source": [
    "s.index = ['A', 'B', 'C', 'D', 'E']\n",
    "s.index.name = 'Name!'\n",
    "\n",
    "s"
   ]
  },
  {
   "cell_type": "code",
   "execution_count": 129,
   "id": "major-dutch",
   "metadata": {},
   "outputs": [
    {
     "ename": "TypeError",
     "evalue": "Index does not support mutable operations",
     "output_type": "error",
     "traceback": [
      "\u001b[1;31m---------------------------------------------------------------------------\u001b[0m",
      "\u001b[1;31mTypeError\u001b[0m                                 Traceback (most recent call last)",
      "Cell \u001b[1;32mIn[129], line 3\u001b[0m\n\u001b[0;32m      1\u001b[0m \u001b[38;5;66;03m#Try to rename the index?\u001b[39;00m\n\u001b[0;32m      2\u001b[0m \u001b[38;5;66;03m#Not allowed directly, the following gives error\u001b[39;00m\n\u001b[1;32m----> 3\u001b[0m \u001b[43ms\u001b[49m\u001b[38;5;241;43m.\u001b[39;49m\u001b[43mindex\u001b[49m\u001b[43m[\u001b[49m\u001b[38;5;241;43m1\u001b[39;49m\u001b[43m]\u001b[49m \u001b[38;5;241m=\u001b[39m \u001b[38;5;124m'\u001b[39m\u001b[38;5;124mWhoo!\u001b[39m\u001b[38;5;124m'\u001b[39m\n",
      "File \u001b[1;32m~\\AppData\\Roaming\\Python\\Python39\\site-packages\\pandas\\core\\indexes\\base.py:5021\u001b[0m, in \u001b[0;36mIndex.__setitem__\u001b[1;34m(self, key, value)\u001b[0m\n\u001b[0;32m   5019\u001b[0m \u001b[38;5;129m@final\u001b[39m\n\u001b[0;32m   5020\u001b[0m \u001b[38;5;28;01mdef\u001b[39;00m \u001b[38;5;21m__setitem__\u001b[39m(\u001b[38;5;28mself\u001b[39m, key, value):\n\u001b[1;32m-> 5021\u001b[0m     \u001b[38;5;28;01mraise\u001b[39;00m \u001b[38;5;167;01mTypeError\u001b[39;00m(\u001b[38;5;124m\"\u001b[39m\u001b[38;5;124mIndex does not support mutable operations\u001b[39m\u001b[38;5;124m\"\u001b[39m)\n",
      "\u001b[1;31mTypeError\u001b[0m: Index does not support mutable operations"
     ]
    }
   ],
   "source": [
    "#Try to rename the index?\n",
    "#Not allowed directly, the following gives error\n",
    "s.index[1] = 'Whoo!'"
   ]
  },
  {
   "cell_type": "code",
   "execution_count": 131,
   "id": "adolescent-accommodation",
   "metadata": {
    "scrolled": false
   },
   "outputs": [
    {
     "data": {
      "text/plain": [
       "Name!\n",
       "A        1\n",
       "Whoo!    3\n",
       "C        5\n",
       "D        7\n",
       "E        9\n",
       "dtype: int64"
      ]
     },
     "execution_count": 131,
     "metadata": {},
     "output_type": "execute_result"
    }
   ],
   "source": [
    "#Do this instead:\n",
    "s.index._data[1] = 'Whoo!'\n",
    "\n",
    "s"
   ]
  },
  {
   "cell_type": "markdown",
   "id": "exceptional-counter",
   "metadata": {},
   "source": [
    "### DataFrame\n",
    "\n",
    "Rectangular table of data, where each column can be a different data type.\n",
    "\n",
    "- Both row and column index\n",
    "\n",
    "- Can also think of as a dictionary of Series that all share the same index (if you really want to)"
   ]
  },
  {
   "cell_type": "code",
   "execution_count": 132,
   "id": "quarterly-context",
   "metadata": {},
   "outputs": [
    {
     "data": {
      "text/html": [
       "<div>\n",
       "<style scoped>\n",
       "    .dataframe tbody tr th:only-of-type {\n",
       "        vertical-align: middle;\n",
       "    }\n",
       "\n",
       "    .dataframe tbody tr th {\n",
       "        vertical-align: top;\n",
       "    }\n",
       "\n",
       "    .dataframe thead th {\n",
       "        text-align: right;\n",
       "    }\n",
       "</style>\n",
       "<table border=\"1\" class=\"dataframe\">\n",
       "  <thead>\n",
       "    <tr style=\"text-align: right;\">\n",
       "      <th></th>\n",
       "      <th>state</th>\n",
       "      <th>year</th>\n",
       "      <th>area planted</th>\n",
       "    </tr>\n",
       "  </thead>\n",
       "  <tbody>\n",
       "    <tr>\n",
       "      <th>0</th>\n",
       "      <td>Arizona</td>\n",
       "      <td>2019</td>\n",
       "      <td>637</td>\n",
       "    </tr>\n",
       "    <tr>\n",
       "      <th>1</th>\n",
       "      <td>Arizona</td>\n",
       "      <td>2020</td>\n",
       "      <td>573</td>\n",
       "    </tr>\n",
       "    <tr>\n",
       "      <th>2</th>\n",
       "      <td>Arizona</td>\n",
       "      <td>2021</td>\n",
       "      <td>616</td>\n",
       "    </tr>\n",
       "    <tr>\n",
       "      <th>3</th>\n",
       "      <td>Arizona</td>\n",
       "      <td>2022</td>\n",
       "      <td>630</td>\n",
       "    </tr>\n",
       "    <tr>\n",
       "      <th>4</th>\n",
       "      <td>California</td>\n",
       "      <td>2019</td>\n",
       "      <td>2983</td>\n",
       "    </tr>\n",
       "    <tr>\n",
       "      <th>5</th>\n",
       "      <td>California</td>\n",
       "      <td>2020</td>\n",
       "      <td>2621</td>\n",
       "    </tr>\n",
       "    <tr>\n",
       "      <th>6</th>\n",
       "      <td>California</td>\n",
       "      <td>2021</td>\n",
       "      <td>2550</td>\n",
       "    </tr>\n",
       "    <tr>\n",
       "      <th>7</th>\n",
       "      <td>California</td>\n",
       "      <td>2022</td>\n",
       "      <td>2274</td>\n",
       "    </tr>\n",
       "    <tr>\n",
       "      <th>8</th>\n",
       "      <td>Iowa</td>\n",
       "      <td>2019</td>\n",
       "      <td>23935</td>\n",
       "    </tr>\n",
       "    <tr>\n",
       "      <th>9</th>\n",
       "      <td>Iowa</td>\n",
       "      <td>2020</td>\n",
       "      <td>24330</td>\n",
       "    </tr>\n",
       "    <tr>\n",
       "      <th>10</th>\n",
       "      <td>Iowa</td>\n",
       "      <td>2021</td>\n",
       "      <td>24330</td>\n",
       "    </tr>\n",
       "    <tr>\n",
       "      <th>11</th>\n",
       "      <td>Iowa</td>\n",
       "      <td>2022</td>\n",
       "      <td>24150</td>\n",
       "    </tr>\n",
       "  </tbody>\n",
       "</table>\n",
       "</div>"
      ],
      "text/plain": [
       "         state  year  area planted\n",
       "0      Arizona  2019           637\n",
       "1      Arizona  2020           573\n",
       "2      Arizona  2021           616\n",
       "3      Arizona  2022           630\n",
       "4   California  2019          2983\n",
       "5   California  2020          2621\n",
       "6   California  2021          2550\n",
       "7   California  2022          2274\n",
       "8         Iowa  2019         23935\n",
       "9         Iowa  2020         24330\n",
       "10        Iowa  2021         24330\n",
       "11        Iowa  2022         24150"
      ]
     },
     "execution_count": 132,
     "metadata": {},
     "output_type": "execute_result"
    }
   ],
   "source": [
    "#Let's make a DataFrame from a dict of equal-length lists:\n",
    "#Index is assigned automatically\n",
    "\n",
    "#Principal Crops Area Planted\n",
    "#USDA Acreage Report\n",
    "#https://usda.library.cornell.edu/concern/publications/j098zb09z?locale=en\n",
    "\n",
    "data = {'state': ['Arizona', 'Arizona', 'Arizona', 'Arizona',\n",
    "                  'California', 'California', 'California', 'California', 'Iowa', 'Iowa', 'Iowa', 'Iowa'],\n",
    "        'year': [2019, 2020, 2021, 2022, 2019, 2020, 2021, 2022, 2019, 2020, 2021, 2022],\n",
    "        'area planted': [637, 573, 616, 630, 2983, 2621, 2550, 2274, 23935, 24330, 24330, 24150]}\n",
    "        \n",
    "df = pd.DataFrame(data)\n",
    "df"
   ]
  },
  {
   "cell_type": "code",
   "execution_count": 133,
   "id": "d0e99061",
   "metadata": {},
   "outputs": [
    {
     "data": {
      "text/plain": [
       "0       637\n",
       "1       573\n",
       "2       616\n",
       "3       630\n",
       "4      2983\n",
       "5      2621\n",
       "6      2550\n",
       "7      2274\n",
       "8     23935\n",
       "9     24330\n",
       "10    24330\n",
       "11    24150\n",
       "Name: area planted, dtype: int64"
      ]
     },
     "execution_count": 133,
     "metadata": {},
     "output_type": "execute_result"
    }
   ],
   "source": [
    "#Grab a column:\n",
    "df['area planted']"
   ]
  },
  {
   "cell_type": "code",
   "execution_count": 134,
   "id": "425df352",
   "metadata": {},
   "outputs": [
    {
     "data": {
      "text/plain": [
       "0        Arizona\n",
       "1        Arizona\n",
       "2        Arizona\n",
       "3        Arizona\n",
       "4     California\n",
       "5     California\n",
       "6     California\n",
       "7     California\n",
       "8           Iowa\n",
       "9           Iowa\n",
       "10          Iowa\n",
       "11          Iowa\n",
       "Name: state, dtype: object"
      ]
     },
     "execution_count": 134,
     "metadata": {},
     "output_type": "execute_result"
    }
   ],
   "source": [
    "df.state"
   ]
  },
  {
   "cell_type": "code",
   "execution_count": 139,
   "id": "waiting-texas",
   "metadata": {},
   "outputs": [
    {
     "data": {
      "text/html": [
       "<div>\n",
       "<style scoped>\n",
       "    .dataframe tbody tr th:only-of-type {\n",
       "        vertical-align: middle;\n",
       "    }\n",
       "\n",
       "    .dataframe tbody tr th {\n",
       "        vertical-align: top;\n",
       "    }\n",
       "\n",
       "    .dataframe thead th {\n",
       "        text-align: right;\n",
       "    }\n",
       "</style>\n",
       "<table border=\"1\" class=\"dataframe\">\n",
       "  <thead>\n",
       "    <tr style=\"text-align: right;\">\n",
       "      <th></th>\n",
       "      <th>state</th>\n",
       "      <th>year</th>\n",
       "      <th>area planted</th>\n",
       "    </tr>\n",
       "  </thead>\n",
       "  <tbody>\n",
       "    <tr>\n",
       "      <th>0</th>\n",
       "      <td>Arizona</td>\n",
       "      <td>2019</td>\n",
       "      <td>637</td>\n",
       "    </tr>\n",
       "    <tr>\n",
       "      <th>1</th>\n",
       "      <td>Arizona</td>\n",
       "      <td>2020</td>\n",
       "      <td>573</td>\n",
       "    </tr>\n",
       "    <tr>\n",
       "      <th>2</th>\n",
       "      <td>Arizona</td>\n",
       "      <td>2021</td>\n",
       "      <td>616</td>\n",
       "    </tr>\n",
       "  </tbody>\n",
       "</table>\n",
       "</div>"
      ],
      "text/plain": [
       "     state  year  area planted\n",
       "0  Arizona  2019           637\n",
       "1  Arizona  2020           573\n",
       "2  Arizona  2021           616"
      ]
     },
     "execution_count": 139,
     "metadata": {},
     "output_type": "execute_result"
    }
   ],
   "source": [
    "#We have head() and tail() methods:\n",
    "###\n",
    "\n",
    "df.head(3)"
   ]
  },
  {
   "cell_type": "code",
   "execution_count": 142,
   "id": "related-activity",
   "metadata": {},
   "outputs": [
    {
     "data": {
      "text/html": [
       "<div>\n",
       "<style scoped>\n",
       "    .dataframe tbody tr th:only-of-type {\n",
       "        vertical-align: middle;\n",
       "    }\n",
       "\n",
       "    .dataframe tbody tr th {\n",
       "        vertical-align: top;\n",
       "    }\n",
       "\n",
       "    .dataframe thead th {\n",
       "        text-align: right;\n",
       "    }\n",
       "</style>\n",
       "<table border=\"1\" class=\"dataframe\">\n",
       "  <thead>\n",
       "    <tr style=\"text-align: right;\">\n",
       "      <th></th>\n",
       "      <th>state</th>\n",
       "      <th>year</th>\n",
       "      <th>area planted</th>\n",
       "    </tr>\n",
       "  </thead>\n",
       "  <tbody>\n",
       "    <tr>\n",
       "      <th>10</th>\n",
       "      <td>Iowa</td>\n",
       "      <td>2021</td>\n",
       "      <td>24330</td>\n",
       "    </tr>\n",
       "    <tr>\n",
       "      <th>11</th>\n",
       "      <td>Iowa</td>\n",
       "      <td>2022</td>\n",
       "      <td>24150</td>\n",
       "    </tr>\n",
       "  </tbody>\n",
       "</table>\n",
       "</div>"
      ],
      "text/plain": [
       "   state  year  area planted\n",
       "10  Iowa  2021         24330\n",
       "11  Iowa  2022         24150"
      ]
     },
     "execution_count": 142,
     "metadata": {},
     "output_type": "execute_result"
    }
   ],
   "source": [
    "df.tail(2)"
   ]
  },
  {
   "cell_type": "code",
   "execution_count": 143,
   "id": "charming-female",
   "metadata": {},
   "outputs": [
    {
     "name": "stdout",
     "output_type": "stream",
     "text": [
      "         state  year  area planted\n",
      "0      Arizona  2019           637\n",
      "1      Arizona  2020           573\n",
      "2      Arizona  2021           616\n",
      "3      Arizona  2022           630\n",
      "4   California  2019          2983\n",
      "5   California  2020          2621\n",
      "6   California  2021          2550\n",
      "7   California  2022          2274\n",
      "8         Iowa  2019         23935\n",
      "9         Iowa  2020         24330\n",
      "10        Iowa  2021         24330\n",
      "11        Iowa  2022         24150\n"
     ]
    },
    {
     "data": {
      "text/html": [
       "<div>\n",
       "<style scoped>\n",
       "    .dataframe tbody tr th:only-of-type {\n",
       "        vertical-align: middle;\n",
       "    }\n",
       "\n",
       "    .dataframe tbody tr th {\n",
       "        vertical-align: top;\n",
       "    }\n",
       "\n",
       "    .dataframe thead th {\n",
       "        text-align: right;\n",
       "    }\n",
       "</style>\n",
       "<table border=\"1\" class=\"dataframe\">\n",
       "  <thead>\n",
       "    <tr style=\"text-align: right;\">\n",
       "      <th></th>\n",
       "      <th>state</th>\n",
       "      <th>year</th>\n",
       "      <th>area planted</th>\n",
       "    </tr>\n",
       "  </thead>\n",
       "  <tbody>\n",
       "    <tr>\n",
       "      <th>0</th>\n",
       "      <td>Arizona</td>\n",
       "      <td>2019</td>\n",
       "      <td>637</td>\n",
       "    </tr>\n",
       "    <tr>\n",
       "      <th>1</th>\n",
       "      <td>Arizona</td>\n",
       "      <td>2020</td>\n",
       "      <td>573</td>\n",
       "    </tr>\n",
       "    <tr>\n",
       "      <th>2</th>\n",
       "      <td>Arizona</td>\n",
       "      <td>2021</td>\n",
       "      <td>616</td>\n",
       "    </tr>\n",
       "    <tr>\n",
       "      <th>3</th>\n",
       "      <td>Arizona</td>\n",
       "      <td>2022</td>\n",
       "      <td>630</td>\n",
       "    </tr>\n",
       "    <tr>\n",
       "      <th>4</th>\n",
       "      <td>California</td>\n",
       "      <td>2019</td>\n",
       "      <td>2983</td>\n",
       "    </tr>\n",
       "    <tr>\n",
       "      <th>5</th>\n",
       "      <td>California</td>\n",
       "      <td>2020</td>\n",
       "      <td>2621</td>\n",
       "    </tr>\n",
       "    <tr>\n",
       "      <th>6</th>\n",
       "      <td>California</td>\n",
       "      <td>2021</td>\n",
       "      <td>2550</td>\n",
       "    </tr>\n",
       "    <tr>\n",
       "      <th>7</th>\n",
       "      <td>California</td>\n",
       "      <td>2022</td>\n",
       "      <td>2274</td>\n",
       "    </tr>\n",
       "    <tr>\n",
       "      <th>8</th>\n",
       "      <td>Iowa</td>\n",
       "      <td>2019</td>\n",
       "      <td>23935</td>\n",
       "    </tr>\n",
       "    <tr>\n",
       "      <th>9</th>\n",
       "      <td>Iowa</td>\n",
       "      <td>2020</td>\n",
       "      <td>24330</td>\n",
       "    </tr>\n",
       "    <tr>\n",
       "      <th>10</th>\n",
       "      <td>Iowa</td>\n",
       "      <td>2021</td>\n",
       "      <td>24330</td>\n",
       "    </tr>\n",
       "    <tr>\n",
       "      <th>11</th>\n",
       "      <td>Iowa</td>\n",
       "      <td>2022</td>\n",
       "      <td>24150</td>\n",
       "    </tr>\n",
       "  </tbody>\n",
       "</table>\n",
       "</div>"
      ],
      "text/plain": [
       "         state  year  area planted\n",
       "0      Arizona  2019           637\n",
       "1      Arizona  2020           573\n",
       "2      Arizona  2021           616\n",
       "3      Arizona  2022           630\n",
       "4   California  2019          2983\n",
       "5   California  2020          2621\n",
       "6   California  2021          2550\n",
       "7   California  2022          2274\n",
       "8         Iowa  2019         23935\n",
       "9         Iowa  2020         24330\n",
       "10        Iowa  2021         24330\n",
       "11        Iowa  2022         24150"
      ]
     },
     "metadata": {},
     "output_type": "display_data"
    }
   ],
   "source": [
    "#Note print vs. display:\n",
    "\n",
    "print(df)\n",
    "display(df)"
   ]
  },
  {
   "cell_type": "markdown",
   "id": "french-kernel",
   "metadata": {},
   "source": [
    "- **Note some basic attributes**"
   ]
  },
  {
   "cell_type": "code",
   "execution_count": 144,
   "id": "permanent-spanking",
   "metadata": {},
   "outputs": [
    {
     "data": {
      "text/plain": [
       "pandas.core.frame.DataFrame"
      ]
     },
     "execution_count": 144,
     "metadata": {},
     "output_type": "execute_result"
    }
   ],
   "source": [
    "type(df)"
   ]
  },
  {
   "cell_type": "code",
   "execution_count": 145,
   "id": "blocked-vegetarian",
   "metadata": {},
   "outputs": [
    {
     "data": {
      "text/plain": [
       "12"
      ]
     },
     "execution_count": 145,
     "metadata": {},
     "output_type": "execute_result"
    }
   ],
   "source": [
    "len(df)"
   ]
  },
  {
   "cell_type": "code",
   "execution_count": 146,
   "id": "automated-negotiation",
   "metadata": {},
   "outputs": [
    {
     "data": {
      "text/plain": [
       "36"
      ]
     },
     "execution_count": 146,
     "metadata": {},
     "output_type": "execute_result"
    }
   ],
   "source": [
    "df.size"
   ]
  },
  {
   "cell_type": "code",
   "execution_count": 147,
   "id": "visible-garage",
   "metadata": {},
   "outputs": [
    {
     "data": {
      "text/plain": [
       "(12, 3)"
      ]
     },
     "execution_count": 147,
     "metadata": {},
     "output_type": "execute_result"
    }
   ],
   "source": [
    "df.shape"
   ]
  },
  {
   "cell_type": "code",
   "execution_count": 148,
   "id": "comic-presence",
   "metadata": {},
   "outputs": [
    {
     "data": {
      "text/plain": [
       "2"
      ]
     },
     "execution_count": 148,
     "metadata": {},
     "output_type": "execute_result"
    }
   ],
   "source": [
    "df.ndim"
   ]
  },
  {
   "cell_type": "markdown",
   "id": "saving-motor",
   "metadata": {},
   "source": [
    "#### Can add our own index:"
   ]
  },
  {
   "cell_type": "code",
   "execution_count": 149,
   "id": "convertible-memory",
   "metadata": {
    "scrolled": false
   },
   "outputs": [
    {
     "data": {
      "text/html": [
       "<div>\n",
       "<style scoped>\n",
       "    .dataframe tbody tr th:only-of-type {\n",
       "        vertical-align: middle;\n",
       "    }\n",
       "\n",
       "    .dataframe tbody tr th {\n",
       "        vertical-align: top;\n",
       "    }\n",
       "\n",
       "    .dataframe thead th {\n",
       "        text-align: right;\n",
       "    }\n",
       "</style>\n",
       "<table border=\"1\" class=\"dataframe\">\n",
       "  <thead>\n",
       "    <tr style=\"text-align: right;\">\n",
       "      <th></th>\n",
       "      <th>state</th>\n",
       "      <th>year</th>\n",
       "      <th>area planted</th>\n",
       "    </tr>\n",
       "  </thead>\n",
       "  <tbody>\n",
       "    <tr>\n",
       "      <th>one</th>\n",
       "      <td>Arizona</td>\n",
       "      <td>2019</td>\n",
       "      <td>637</td>\n",
       "    </tr>\n",
       "    <tr>\n",
       "      <th>two</th>\n",
       "      <td>Arizona</td>\n",
       "      <td>2020</td>\n",
       "      <td>573</td>\n",
       "    </tr>\n",
       "    <tr>\n",
       "      <th>three</th>\n",
       "      <td>Arizona</td>\n",
       "      <td>2021</td>\n",
       "      <td>616</td>\n",
       "    </tr>\n",
       "    <tr>\n",
       "      <th>four</th>\n",
       "      <td>Arizona</td>\n",
       "      <td>2022</td>\n",
       "      <td>630</td>\n",
       "    </tr>\n",
       "    <tr>\n",
       "      <th>five</th>\n",
       "      <td>California</td>\n",
       "      <td>2019</td>\n",
       "      <td>2983</td>\n",
       "    </tr>\n",
       "    <tr>\n",
       "      <th>six</th>\n",
       "      <td>California</td>\n",
       "      <td>2020</td>\n",
       "      <td>2621</td>\n",
       "    </tr>\n",
       "    <tr>\n",
       "      <th>seven</th>\n",
       "      <td>California</td>\n",
       "      <td>2021</td>\n",
       "      <td>2550</td>\n",
       "    </tr>\n",
       "    <tr>\n",
       "      <th>eight</th>\n",
       "      <td>California</td>\n",
       "      <td>2022</td>\n",
       "      <td>2274</td>\n",
       "    </tr>\n",
       "    <tr>\n",
       "      <th>nine</th>\n",
       "      <td>Iowa</td>\n",
       "      <td>2019</td>\n",
       "      <td>23935</td>\n",
       "    </tr>\n",
       "    <tr>\n",
       "      <th>ten</th>\n",
       "      <td>Iowa</td>\n",
       "      <td>2020</td>\n",
       "      <td>24330</td>\n",
       "    </tr>\n",
       "    <tr>\n",
       "      <th>eleven</th>\n",
       "      <td>Iowa</td>\n",
       "      <td>2021</td>\n",
       "      <td>24330</td>\n",
       "    </tr>\n",
       "    <tr>\n",
       "      <th>twelve</th>\n",
       "      <td>Iowa</td>\n",
       "      <td>2022</td>\n",
       "      <td>24150</td>\n",
       "    </tr>\n",
       "  </tbody>\n",
       "</table>\n",
       "</div>"
      ],
      "text/plain": [
       "             state  year  area planted\n",
       "one        Arizona  2019           637\n",
       "two        Arizona  2020           573\n",
       "three      Arizona  2021           616\n",
       "four       Arizona  2022           630\n",
       "five    California  2019          2983\n",
       "six     California  2020          2621\n",
       "seven   California  2021          2550\n",
       "eight   California  2022          2274\n",
       "nine          Iowa  2019         23935\n",
       "ten           Iowa  2020         24330\n",
       "eleven        Iowa  2021         24330\n",
       "twelve        Iowa  2022         24150"
      ]
     },
     "execution_count": 149,
     "metadata": {},
     "output_type": "execute_result"
    }
   ],
   "source": [
    "df = pd.DataFrame(data, columns = ['state', 'year', 'area planted'],\n",
    "            index = ['one', 'two', 'three', 'four', 'five', 'six', 'seven', 'eight', 'nine', 'ten', 'eleven', 'twelve'])\n",
    "\n",
    "df"
   ]
  },
  {
   "cell_type": "markdown",
   "id": "714b22cd",
   "metadata": {},
   "source": [
    "#### Setting and reseting index:"
   ]
  },
  {
   "cell_type": "code",
   "execution_count": 166,
   "id": "28a068de",
   "metadata": {},
   "outputs": [
    {
     "data": {
      "text/html": [
       "<div>\n",
       "<style scoped>\n",
       "    .dataframe tbody tr th:only-of-type {\n",
       "        vertical-align: middle;\n",
       "    }\n",
       "\n",
       "    .dataframe tbody tr th {\n",
       "        vertical-align: top;\n",
       "    }\n",
       "\n",
       "    .dataframe thead th {\n",
       "        text-align: right;\n",
       "    }\n",
       "</style>\n",
       "<table border=\"1\" class=\"dataframe\">\n",
       "  <thead>\n",
       "    <tr style=\"text-align: right;\">\n",
       "      <th></th>\n",
       "      <th>year</th>\n",
       "      <th>area planted</th>\n",
       "    </tr>\n",
       "    <tr>\n",
       "      <th>state</th>\n",
       "      <th></th>\n",
       "      <th></th>\n",
       "    </tr>\n",
       "  </thead>\n",
       "  <tbody>\n",
       "    <tr>\n",
       "      <th>Arizona</th>\n",
       "      <td>2019</td>\n",
       "      <td>637</td>\n",
       "    </tr>\n",
       "    <tr>\n",
       "      <th>Arizona</th>\n",
       "      <td>2020</td>\n",
       "      <td>573</td>\n",
       "    </tr>\n",
       "    <tr>\n",
       "      <th>Arizona</th>\n",
       "      <td>2021</td>\n",
       "      <td>616</td>\n",
       "    </tr>\n",
       "    <tr>\n",
       "      <th>Arizona</th>\n",
       "      <td>2022</td>\n",
       "      <td>630</td>\n",
       "    </tr>\n",
       "    <tr>\n",
       "      <th>California</th>\n",
       "      <td>2019</td>\n",
       "      <td>2983</td>\n",
       "    </tr>\n",
       "    <tr>\n",
       "      <th>California</th>\n",
       "      <td>2020</td>\n",
       "      <td>2621</td>\n",
       "    </tr>\n",
       "    <tr>\n",
       "      <th>California</th>\n",
       "      <td>2021</td>\n",
       "      <td>2550</td>\n",
       "    </tr>\n",
       "    <tr>\n",
       "      <th>California</th>\n",
       "      <td>2022</td>\n",
       "      <td>2274</td>\n",
       "    </tr>\n",
       "    <tr>\n",
       "      <th>Iowa</th>\n",
       "      <td>2019</td>\n",
       "      <td>23935</td>\n",
       "    </tr>\n",
       "    <tr>\n",
       "      <th>Iowa</th>\n",
       "      <td>2020</td>\n",
       "      <td>24330</td>\n",
       "    </tr>\n",
       "    <tr>\n",
       "      <th>Iowa</th>\n",
       "      <td>2021</td>\n",
       "      <td>24330</td>\n",
       "    </tr>\n",
       "    <tr>\n",
       "      <th>Iowa</th>\n",
       "      <td>2022</td>\n",
       "      <td>24150</td>\n",
       "    </tr>\n",
       "  </tbody>\n",
       "</table>\n",
       "</div>"
      ],
      "text/plain": [
       "            year  area planted\n",
       "state                         \n",
       "Arizona     2019           637\n",
       "Arizona     2020           573\n",
       "Arizona     2021           616\n",
       "Arizona     2022           630\n",
       "California  2019          2983\n",
       "California  2020          2621\n",
       "California  2021          2550\n",
       "California  2022          2274\n",
       "Iowa        2019         23935\n",
       "Iowa        2020         24330\n",
       "Iowa        2021         24330\n",
       "Iowa        2022         24150"
      ]
     },
     "execution_count": 166,
     "metadata": {},
     "output_type": "execute_result"
    }
   ],
   "source": [
    "df2 = df.set_index('state')\n",
    "\n",
    "df2"
   ]
  },
  {
   "cell_type": "code",
   "execution_count": 167,
   "id": "903c2ec2",
   "metadata": {},
   "outputs": [
    {
     "data": {
      "text/html": [
       "<div>\n",
       "<style scoped>\n",
       "    .dataframe tbody tr th:only-of-type {\n",
       "        vertical-align: middle;\n",
       "    }\n",
       "\n",
       "    .dataframe tbody tr th {\n",
       "        vertical-align: top;\n",
       "    }\n",
       "\n",
       "    .dataframe thead th {\n",
       "        text-align: right;\n",
       "    }\n",
       "</style>\n",
       "<table border=\"1\" class=\"dataframe\">\n",
       "  <thead>\n",
       "    <tr style=\"text-align: right;\">\n",
       "      <th></th>\n",
       "      <th>state</th>\n",
       "      <th>year</th>\n",
       "      <th>area planted</th>\n",
       "    </tr>\n",
       "  </thead>\n",
       "  <tbody>\n",
       "    <tr>\n",
       "      <th>0</th>\n",
       "      <td>Arizona</td>\n",
       "      <td>2019</td>\n",
       "      <td>637</td>\n",
       "    </tr>\n",
       "    <tr>\n",
       "      <th>1</th>\n",
       "      <td>Arizona</td>\n",
       "      <td>2020</td>\n",
       "      <td>573</td>\n",
       "    </tr>\n",
       "    <tr>\n",
       "      <th>2</th>\n",
       "      <td>Arizona</td>\n",
       "      <td>2021</td>\n",
       "      <td>616</td>\n",
       "    </tr>\n",
       "    <tr>\n",
       "      <th>3</th>\n",
       "      <td>Arizona</td>\n",
       "      <td>2022</td>\n",
       "      <td>630</td>\n",
       "    </tr>\n",
       "    <tr>\n",
       "      <th>4</th>\n",
       "      <td>California</td>\n",
       "      <td>2019</td>\n",
       "      <td>2983</td>\n",
       "    </tr>\n",
       "    <tr>\n",
       "      <th>5</th>\n",
       "      <td>California</td>\n",
       "      <td>2020</td>\n",
       "      <td>2621</td>\n",
       "    </tr>\n",
       "    <tr>\n",
       "      <th>6</th>\n",
       "      <td>California</td>\n",
       "      <td>2021</td>\n",
       "      <td>2550</td>\n",
       "    </tr>\n",
       "    <tr>\n",
       "      <th>7</th>\n",
       "      <td>California</td>\n",
       "      <td>2022</td>\n",
       "      <td>2274</td>\n",
       "    </tr>\n",
       "    <tr>\n",
       "      <th>8</th>\n",
       "      <td>Iowa</td>\n",
       "      <td>2019</td>\n",
       "      <td>23935</td>\n",
       "    </tr>\n",
       "    <tr>\n",
       "      <th>9</th>\n",
       "      <td>Iowa</td>\n",
       "      <td>2020</td>\n",
       "      <td>24330</td>\n",
       "    </tr>\n",
       "    <tr>\n",
       "      <th>10</th>\n",
       "      <td>Iowa</td>\n",
       "      <td>2021</td>\n",
       "      <td>24330</td>\n",
       "    </tr>\n",
       "    <tr>\n",
       "      <th>11</th>\n",
       "      <td>Iowa</td>\n",
       "      <td>2022</td>\n",
       "      <td>24150</td>\n",
       "    </tr>\n",
       "  </tbody>\n",
       "</table>\n",
       "</div>"
      ],
      "text/plain": [
       "         state  year  area planted\n",
       "0      Arizona  2019           637\n",
       "1      Arizona  2020           573\n",
       "2      Arizona  2021           616\n",
       "3      Arizona  2022           630\n",
       "4   California  2019          2983\n",
       "5   California  2020          2621\n",
       "6   California  2021          2550\n",
       "7   California  2022          2274\n",
       "8         Iowa  2019         23935\n",
       "9         Iowa  2020         24330\n",
       "10        Iowa  2021         24330\n",
       "11        Iowa  2022         24150"
      ]
     },
     "execution_count": 167,
     "metadata": {},
     "output_type": "execute_result"
    }
   ],
   "source": [
    "df2 = df2.reset_index(drop=False)\n",
    "\n",
    "df2"
   ]
  },
  {
   "cell_type": "markdown",
   "id": "smaller-suite",
   "metadata": {},
   "source": [
    "#### Getting columns:"
   ]
  },
  {
   "cell_type": "code",
   "execution_count": 171,
   "id": "useful-strip",
   "metadata": {},
   "outputs": [
    {
     "data": {
      "text/plain": [
       "one         637\n",
       "two         573\n",
       "three       616\n",
       "four        630\n",
       "five       2983\n",
       "six        2621\n",
       "seven      2550\n",
       "eight      2274\n",
       "nine      23935\n",
       "ten       24330\n",
       "eleven    24330\n",
       "twelve    24150\n",
       "Name: area planted, dtype: int64"
      ]
     },
     "execution_count": 171,
     "metadata": {},
     "output_type": "execute_result"
    }
   ],
   "source": [
    "#Get columns:\n",
    "my_var = 'area planted'\n",
    "\n",
    "#This gives me a Series:\n",
    "df[my_var]\n",
    "\n",
    "#This gives me a DataFrame:\n",
    "#df[[my_var]]\n",
    "\n",
    "#Or this:\n",
    "#pd.DataFrame(df[my_var])"
   ]
  },
  {
   "cell_type": "code",
   "execution_count": 174,
   "id": "7c5cd992",
   "metadata": {},
   "outputs": [
    {
     "data": {
      "text/html": [
       "<div>\n",
       "<style scoped>\n",
       "    .dataframe tbody tr th:only-of-type {\n",
       "        vertical-align: middle;\n",
       "    }\n",
       "\n",
       "    .dataframe tbody tr th {\n",
       "        vertical-align: top;\n",
       "    }\n",
       "\n",
       "    .dataframe thead th {\n",
       "        text-align: right;\n",
       "    }\n",
       "</style>\n",
       "<table border=\"1\" class=\"dataframe\">\n",
       "  <thead>\n",
       "    <tr style=\"text-align: right;\">\n",
       "      <th></th>\n",
       "      <th>state</th>\n",
       "      <th>year</th>\n",
       "    </tr>\n",
       "  </thead>\n",
       "  <tbody>\n",
       "    <tr>\n",
       "      <th>one</th>\n",
       "      <td>Arizona</td>\n",
       "      <td>2019</td>\n",
       "    </tr>\n",
       "    <tr>\n",
       "      <th>two</th>\n",
       "      <td>Arizona</td>\n",
       "      <td>2020</td>\n",
       "    </tr>\n",
       "    <tr>\n",
       "      <th>three</th>\n",
       "      <td>Arizona</td>\n",
       "      <td>2021</td>\n",
       "    </tr>\n",
       "    <tr>\n",
       "      <th>four</th>\n",
       "      <td>Arizona</td>\n",
       "      <td>2022</td>\n",
       "    </tr>\n",
       "    <tr>\n",
       "      <th>five</th>\n",
       "      <td>California</td>\n",
       "      <td>2019</td>\n",
       "    </tr>\n",
       "    <tr>\n",
       "      <th>six</th>\n",
       "      <td>California</td>\n",
       "      <td>2020</td>\n",
       "    </tr>\n",
       "    <tr>\n",
       "      <th>seven</th>\n",
       "      <td>California</td>\n",
       "      <td>2021</td>\n",
       "    </tr>\n",
       "    <tr>\n",
       "      <th>eight</th>\n",
       "      <td>California</td>\n",
       "      <td>2022</td>\n",
       "    </tr>\n",
       "    <tr>\n",
       "      <th>nine</th>\n",
       "      <td>Iowa</td>\n",
       "      <td>2019</td>\n",
       "    </tr>\n",
       "    <tr>\n",
       "      <th>ten</th>\n",
       "      <td>Iowa</td>\n",
       "      <td>2020</td>\n",
       "    </tr>\n",
       "    <tr>\n",
       "      <th>eleven</th>\n",
       "      <td>Iowa</td>\n",
       "      <td>2021</td>\n",
       "    </tr>\n",
       "    <tr>\n",
       "      <th>twelve</th>\n",
       "      <td>Iowa</td>\n",
       "      <td>2022</td>\n",
       "    </tr>\n",
       "  </tbody>\n",
       "</table>\n",
       "</div>"
      ],
      "text/plain": [
       "             state  year\n",
       "one        Arizona  2019\n",
       "two        Arizona  2020\n",
       "three      Arizona  2021\n",
       "four       Arizona  2022\n",
       "five    California  2019\n",
       "six     California  2020\n",
       "seven   California  2021\n",
       "eight   California  2022\n",
       "nine          Iowa  2019\n",
       "ten           Iowa  2020\n",
       "eleven        Iowa  2021\n",
       "twelve        Iowa  2022"
      ]
     },
     "execution_count": 174,
     "metadata": {},
     "output_type": "execute_result"
    }
   ],
   "source": [
    "#Pass a list of columns:\n",
    "df[['state', 'year']]"
   ]
  },
  {
   "cell_type": "markdown",
   "id": "6cbd8466",
   "metadata": {},
   "source": [
    "#### Getting rows:"
   ]
  },
  {
   "cell_type": "code",
   "execution_count": 175,
   "id": "billion-cyprus",
   "metadata": {},
   "outputs": [
    {
     "data": {
      "text/html": [
       "<div>\n",
       "<style scoped>\n",
       "    .dataframe tbody tr th:only-of-type {\n",
       "        vertical-align: middle;\n",
       "    }\n",
       "\n",
       "    .dataframe tbody tr th {\n",
       "        vertical-align: top;\n",
       "    }\n",
       "\n",
       "    .dataframe thead th {\n",
       "        text-align: right;\n",
       "    }\n",
       "</style>\n",
       "<table border=\"1\" class=\"dataframe\">\n",
       "  <thead>\n",
       "    <tr style=\"text-align: right;\">\n",
       "      <th></th>\n",
       "      <th>state</th>\n",
       "      <th>year</th>\n",
       "      <th>area planted</th>\n",
       "    </tr>\n",
       "  </thead>\n",
       "  <tbody>\n",
       "    <tr>\n",
       "      <th>one</th>\n",
       "      <td>Arizona</td>\n",
       "      <td>2019</td>\n",
       "      <td>637</td>\n",
       "    </tr>\n",
       "    <tr>\n",
       "      <th>two</th>\n",
       "      <td>Arizona</td>\n",
       "      <td>2020</td>\n",
       "      <td>573</td>\n",
       "    </tr>\n",
       "    <tr>\n",
       "      <th>three</th>\n",
       "      <td>Arizona</td>\n",
       "      <td>2021</td>\n",
       "      <td>616</td>\n",
       "    </tr>\n",
       "  </tbody>\n",
       "</table>\n",
       "</div>"
      ],
      "text/plain": [
       "         state  year  area planted\n",
       "one    Arizona  2019           637\n",
       "two    Arizona  2020           573\n",
       "three  Arizona  2021           616"
      ]
     },
     "execution_count": 175,
     "metadata": {},
     "output_type": "execute_result"
    }
   ],
   "source": [
    "#Can use row numbers without qualification:\n",
    "\n",
    "df[0:3]\n",
    "\n",
    "#But better to use iloc and loc..."
   ]
  },
  {
   "cell_type": "code",
   "execution_count": 178,
   "id": "44922d9f",
   "metadata": {},
   "outputs": [
    {
     "data": {
      "text/html": [
       "<div>\n",
       "<style scoped>\n",
       "    .dataframe tbody tr th:only-of-type {\n",
       "        vertical-align: middle;\n",
       "    }\n",
       "\n",
       "    .dataframe tbody tr th {\n",
       "        vertical-align: top;\n",
       "    }\n",
       "\n",
       "    .dataframe thead th {\n",
       "        text-align: right;\n",
       "    }\n",
       "</style>\n",
       "<table border=\"1\" class=\"dataframe\">\n",
       "  <thead>\n",
       "    <tr style=\"text-align: right;\">\n",
       "      <th></th>\n",
       "      <th>state</th>\n",
       "      <th>year</th>\n",
       "      <th>area planted</th>\n",
       "    </tr>\n",
       "  </thead>\n",
       "  <tbody>\n",
       "    <tr>\n",
       "      <th>one</th>\n",
       "      <td>Arizona</td>\n",
       "      <td>2019</td>\n",
       "      <td>637</td>\n",
       "    </tr>\n",
       "    <tr>\n",
       "      <th>two</th>\n",
       "      <td>Arizona</td>\n",
       "      <td>2020</td>\n",
       "      <td>573</td>\n",
       "    </tr>\n",
       "    <tr>\n",
       "      <th>three</th>\n",
       "      <td>Arizona</td>\n",
       "      <td>2021</td>\n",
       "      <td>616</td>\n",
       "    </tr>\n",
       "  </tbody>\n",
       "</table>\n",
       "</div>"
      ],
      "text/plain": [
       "         state  year  area planted\n",
       "one    Arizona  2019           637\n",
       "two    Arizona  2020           573\n",
       "three  Arizona  2021           616"
      ]
     },
     "execution_count": 178,
     "metadata": {},
     "output_type": "execute_result"
    }
   ],
   "source": [
    "#Note:\n",
    "df.iloc[0:3]\n",
    "\n",
    "#vs:\n",
    "#df.iloc[0:1]"
   ]
  }
 ],
 "metadata": {
  "kernelspec": {
   "display_name": "Python 3 (ipykernel)",
   "language": "python",
   "name": "python3"
  },
  "language_info": {
   "codemirror_mode": {
    "name": "ipython",
    "version": 3
   },
   "file_extension": ".py",
   "mimetype": "text/x-python",
   "name": "python",
   "nbconvert_exporter": "python",
   "pygments_lexer": "ipython3",
   "version": "3.9.16"
  }
 },
 "nbformat": 4,
 "nbformat_minor": 5
}
