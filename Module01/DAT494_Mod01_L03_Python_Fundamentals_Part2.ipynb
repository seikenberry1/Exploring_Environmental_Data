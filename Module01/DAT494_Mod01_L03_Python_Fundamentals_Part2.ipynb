{
 "cells": [
  {
   "cell_type": "markdown",
   "id": "2a3a0f61",
   "metadata": {},
   "source": [
    "# More Python Fundamentals\n",
    "\n",
    "- Finish advanced variable types\n",
    "- Sequence functions\n",
    "- Control structures and user-defined functions\n",
    "- List Comprehensions Recap\n",
    "- Generators\n",
    "- The Importance of Being Pythonic, and the Zen of Python\n",
    "\n",
    "<img src=\"monty2.jpg\" alt=\"Monty Python!\" style=\"width:250px;\"/>"
   ]
  },
  {
   "cell_type": "markdown",
   "id": "c114f25e",
   "metadata": {},
   "source": [
    "## Advanced variable types\n",
    "\n",
    "- Lists\n",
    "- Dictionaries\n",
    "- Tuples\n",
    "- Sets"
   ]
  },
  {
   "cell_type": "markdown",
   "id": "c67fe139",
   "metadata": {},
   "source": [
    "### Lists\n",
    "\n",
    "- Lists are an ordered array-like structure that is *mutable*. List elements can be of any type, including other lists, dictionary, and tuples\n",
    "\n",
    "- Introduced in previous lecture/notebook"
   ]
  },
  {
   "cell_type": "markdown",
   "id": "43329c66",
   "metadata": {},
   "source": [
    "### Dictionaries\n",
    "\n",
    "Dictionaries are mutable list-like objects, declared using curly {}, define a set of key/value pairs"
   ]
  },
  {
   "cell_type": "code",
   "execution_count": 14,
   "id": "7edccdc1",
   "metadata": {},
   "outputs": [
    {
     "data": {
      "text/plain": [
       "{'thing1': 12.3, 'thing2': 14, 'cat': 'hat', 'yurtle': 'turtle', 5: 42}"
      ]
     },
     "execution_count": 14,
     "metadata": {},
     "output_type": "execute_result"
    }
   ],
   "source": [
    "#Make a dictionary\n",
    "my_dict = {'thing1':12.3, 'thing2':14, 'cat':'hat', 'yurtle':'turtle', 5:42}\n",
    "my_dict"
   ]
  },
  {
   "cell_type": "code",
   "execution_count": 2,
   "id": "227ead61",
   "metadata": {},
   "outputs": [
    {
     "data": {
      "text/plain": [
       "12.3"
      ]
     },
     "execution_count": 2,
     "metadata": {},
     "output_type": "execute_result"
    }
   ],
   "source": [
    "#Get by key\n",
    "my_dict['thing1']"
   ]
  },
  {
   "cell_type": "code",
   "execution_count": 5,
   "id": "2b0dd750",
   "metadata": {},
   "outputs": [
    {
     "ename": "KeyError",
     "evalue": "0",
     "output_type": "error",
     "traceback": [
      "\u001b[1;31m---------------------------------------------------------------------------\u001b[0m",
      "\u001b[1;31mKeyError\u001b[0m                                  Traceback (most recent call last)",
      "Cell \u001b[1;32mIn[5], line 3\u001b[0m\n\u001b[0;32m      1\u001b[0m \u001b[38;5;66;03m#Note that dictionaries are unordered, can't use use indexing!\u001b[39;00m\n\u001b[0;32m      2\u001b[0m \u001b[38;5;66;03m#This will give error:\u001b[39;00m\n\u001b[1;32m----> 3\u001b[0m \u001b[43mmy_dict\u001b[49m\u001b[43m[\u001b[49m\u001b[38;5;241;43m0\u001b[39;49m\u001b[43m]\u001b[49m\n",
      "\u001b[1;31mKeyError\u001b[0m: 0"
     ]
    }
   ],
   "source": [
    "#Note that dictionaries are unordered, can't use use indexing!\n",
    "#This will give error:\n",
    "my_dict[0]\n"
   ]
  },
  {
   "cell_type": "code",
   "execution_count": 6,
   "id": "16c07957",
   "metadata": {},
   "outputs": [
    {
     "data": {
      "text/plain": [
       "{'thing1': 12.3,\n",
       " 'thing2': 14,\n",
       " 'cat': 'hat',\n",
       " 'yurtle': 'turtle',\n",
       " 5: 42,\n",
       " 'lorax': 'trees'}"
      ]
     },
     "execution_count": 6,
     "metadata": {},
     "output_type": "execute_result"
    }
   ],
   "source": [
    "#Can add to dictionary\n",
    "#my_dict.update({'lorax': 'trees'})\n",
    "#my_dict\n",
    "\n",
    "#Can also just use:\n",
    "my_dict['lorax'] = 'trees'\n",
    "my_dict"
   ]
  },
  {
   "cell_type": "code",
   "execution_count": 7,
   "id": "9442fa78",
   "metadata": {},
   "outputs": [
    {
     "name": "stdout",
     "output_type": "stream",
     "text": [
      "hat\n"
     ]
    },
    {
     "data": {
      "text/plain": [
       "{'thing1': 12.3, 'thing2': 14, 'yurtle': 'turtle', 5: 42, 'lorax': 'trees'}"
      ]
     },
     "execution_count": 7,
     "metadata": {},
     "output_type": "execute_result"
    }
   ],
   "source": [
    "#Can pop an entry by key: Remove key and return the item\n",
    "a = my_dict.pop('cat')\n",
    "print(a)\n",
    "my_dict\n",
    "\n",
    "#Using del also an option:\n",
    "#del my_dict['cat']\n",
    "#my_dict"
   ]
  },
  {
   "cell_type": "code",
   "execution_count": 15,
   "id": "3bda210b",
   "metadata": {},
   "outputs": [
    {
     "name": "stdout",
     "output_type": "stream",
     "text": [
      "(5, 42)\n"
     ]
    },
    {
     "data": {
      "text/plain": [
       "{'thing1': 12.3, 'thing2': 14, 'cat': 'hat', 'yurtle': 'turtle'}"
      ]
     },
     "execution_count": 15,
     "metadata": {},
     "output_type": "execute_result"
    }
   ],
   "source": [
    "#Can also pop last key:item pair\n",
    "a = my_dict.popitem()\n",
    "print(a)\n",
    "my_dict"
   ]
  },
  {
   "cell_type": "code",
   "execution_count": 17,
   "id": "1ea6441e",
   "metadata": {},
   "outputs": [
    {
     "data": {
      "text/plain": [
       "False"
      ]
     },
     "execution_count": 17,
     "metadata": {},
     "output_type": "execute_result"
    }
   ],
   "source": [
    "'turtle' in my_dict"
   ]
  },
  {
   "cell_type": "code",
   "execution_count": 18,
   "id": "fe77a805",
   "metadata": {},
   "outputs": [
    {
     "data": {
      "text/plain": [
       "True"
      ]
     },
     "execution_count": 18,
     "metadata": {},
     "output_type": "execute_result"
    }
   ],
   "source": [
    "#See if a key or value in the dictionary\n",
    "'thing1' in my_dict\n",
    "'turtle' in my_dict.values()"
   ]
  },
  {
   "cell_type": "markdown",
   "id": "705e6489",
   "metadata": {},
   "source": [
    "Note that any Python object can be a value, but keys must be *hashable* objects = immutable objects like scalar types and tuples (below). To check, use `hash()` function:"
   ]
  },
  {
   "cell_type": "code",
   "execution_count": 23,
   "id": "4699a01d",
   "metadata": {},
   "outputs": [
    {
     "data": {
      "text/plain": [
       "-6920807648701993663"
      ]
     },
     "execution_count": 23,
     "metadata": {},
     "output_type": "execute_result"
    }
   ],
   "source": [
    "hash(\"sdf\")\n",
    "#hash([1,2,3])"
   ]
  },
  {
   "cell_type": "markdown",
   "id": "herbal-christianity",
   "metadata": {},
   "source": [
    "### Tuples\n",
    "\n",
    "Tuples are ordered, *immutable* array-like objects."
   ]
  },
  {
   "cell_type": "code",
   "execution_count": 26,
   "id": "challenging-geometry",
   "metadata": {},
   "outputs": [
    {
     "data": {
      "text/plain": [
       "(1, 3, 'test', 9, [1, 2, 3])"
      ]
     },
     "execution_count": 26,
     "metadata": {},
     "output_type": "execute_result"
    }
   ],
   "source": [
    "#Let's make us a tuple\n",
    "t = (1, 3, 'test', 9, [1,2,3])\n",
    "t"
   ]
  },
  {
   "cell_type": "code",
   "execution_count": 28,
   "id": "attended-chapel",
   "metadata": {},
   "outputs": [
    {
     "data": {
      "text/plain": [
       "1"
      ]
     },
     "execution_count": 28,
     "metadata": {},
     "output_type": "execute_result"
    }
   ],
   "source": [
    "#Index and access similar to lists\n",
    "#But tuples are immutable\n",
    "t[4][0]"
   ]
  },
  {
   "cell_type": "code",
   "execution_count": 30,
   "id": "rubber-newfoundland",
   "metadata": {},
   "outputs": [
    {
     "data": {
      "text/plain": [
       "2"
      ]
     },
     "execution_count": 30,
     "metadata": {},
     "output_type": "execute_result"
    }
   ],
   "source": [
    "#We can have lists, dictionaries, other tuples, etc. as elements\n",
    "t2 = ([1,2], (5,6,7), {'huey':'dewey', 10.1:20})\n",
    "\n",
    "t2[0][1]"
   ]
  },
  {
   "cell_type": "code",
   "execution_count": 31,
   "id": "adolescent-tongue",
   "metadata": {},
   "outputs": [
    {
     "data": {
      "text/plain": [
       "([1, 2, 3], 15, 'string!', True, False)"
      ]
     },
     "execution_count": 31,
     "metadata": {},
     "output_type": "execute_result"
    }
   ],
   "source": [
    "#Don't actually need parentheses...\n",
    "t3 = [1,2,3], 15, 'string!', True, False\n",
    "\n",
    "t3"
   ]
  },
  {
   "cell_type": "code",
   "execution_count": 32,
   "id": "orange-savings",
   "metadata": {},
   "outputs": [
    {
     "data": {
      "text/plain": [
       "((4, 5, 6), (7, 8))"
      ]
     },
     "execution_count": 32,
     "metadata": {},
     "output_type": "execute_result"
    }
   ],
   "source": [
    "#Unless necessary for more complex expressions, e.g. nested tuples (a tuple of tuples):\n",
    "nested_tuple = (4, 5, 6), (7, 8)\n",
    "nested_tuple"
   ]
  },
  {
   "cell_type": "code",
   "execution_count": 33,
   "id": "alert-terminal",
   "metadata": {},
   "outputs": [
    {
     "data": {
      "text/plain": [
       "(1, 2, 3)"
      ]
     },
     "execution_count": 33,
     "metadata": {},
     "output_type": "execute_result"
    }
   ],
   "source": [
    "#Can convert any sequence or iterator to a tuple with tuple():\n",
    "\n",
    "tuple([1,2,3])\n",
    "\n",
    "#tuple(range(5,15))"
   ]
  },
  {
   "cell_type": "code",
   "execution_count": 34,
   "id": "smooth-memory",
   "metadata": {
    "scrolled": true
   },
   "outputs": [
    {
     "data": {
      "text/plain": [
       "('s', 't', 'r', 'i', 'n', 'g')"
      ]
     },
     "execution_count": 34,
     "metadata": {},
     "output_type": "execute_result"
    }
   ],
   "source": [
    "tuple(\"string\")"
   ]
  },
  {
   "cell_type": "markdown",
   "id": "minus-scene",
   "metadata": {},
   "source": [
    "Tuples are ***immutable***. The following gives an error"
   ]
  },
  {
   "cell_type": "code",
   "execution_count": 35,
   "id": "static-alignment",
   "metadata": {},
   "outputs": [
    {
     "ename": "TypeError",
     "evalue": "'tuple' object does not support item assignment",
     "output_type": "error",
     "traceback": [
      "\u001b[1;31m---------------------------------------------------------------------------\u001b[0m",
      "\u001b[1;31mTypeError\u001b[0m                                 Traceback (most recent call last)",
      "Cell \u001b[1;32mIn[35], line 3\u001b[0m\n\u001b[0;32m      1\u001b[0m t \u001b[38;5;241m=\u001b[39m \u001b[38;5;28mtuple\u001b[39m([\u001b[38;5;241m1\u001b[39m,\u001b[38;5;241m2\u001b[39m,\u001b[38;5;241m3\u001b[39m,\u001b[38;5;28;01mFalse\u001b[39;00m])\n\u001b[1;32m----> 3\u001b[0m \u001b[43mt\u001b[49m\u001b[43m[\u001b[49m\u001b[38;5;241;43m0\u001b[39;49m\u001b[43m]\u001b[49m \u001b[38;5;241m=\u001b[39m \u001b[38;5;241m10\u001b[39m\n",
      "\u001b[1;31mTypeError\u001b[0m: 'tuple' object does not support item assignment"
     ]
    }
   ],
   "source": [
    "t = tuple([1,2,3,False])\n",
    "\n",
    "t[0] = 10"
   ]
  },
  {
   "cell_type": "markdown",
   "id": "divine-forwarding",
   "metadata": {},
   "source": [
    "However, we *can* modify mutable objects within a tuple:"
   ]
  },
  {
   "cell_type": "code",
   "execution_count": 41,
   "id": "capable-distance",
   "metadata": {
    "scrolled": true
   },
   "outputs": [
    {
     "data": {
      "text/plain": [
       "(1, 5, [2, 99, 5, 6], True, 'string')"
      ]
     },
     "execution_count": 41,
     "metadata": {},
     "output_type": "execute_result"
    }
   ],
   "source": [
    "t = 1, 5, [1, 2], True, \"string\"\n",
    "\n",
    "t[2].extend([1,5,6])\n",
    "t[2].remove(1)\n",
    "t[2][1] = 99\n",
    "\n",
    "t"
   ]
  },
  {
   "cell_type": "markdown",
   "id": "pediatric-hormone",
   "metadata": {},
   "source": [
    "**Unpacking tuples**"
   ]
  },
  {
   "cell_type": "code",
   "execution_count": 44,
   "id": "substantial-universal",
   "metadata": {},
   "outputs": [
    {
     "name": "stdout",
     "output_type": "stream",
     "text": [
      "4 5 6\n"
     ]
    }
   ],
   "source": [
    "#Can upack like so:\n",
    "###\n",
    "\n",
    "t = (4, 5, 6)\n",
    "\n",
    "a, b, c = t\n",
    "print(a,b,c)\n"
   ]
  },
  {
   "cell_type": "code",
   "execution_count": 45,
   "id": "dietary-activation",
   "metadata": {},
   "outputs": [
    {
     "name": "stdout",
     "output_type": "stream",
     "text": [
      "4 5 (6, 7)\n"
     ]
    }
   ],
   "source": [
    "#For a nested tuple:\n",
    "###\n",
    "\n",
    "t = 4, 5, (6, 7)\n",
    "\n",
    "a, b, c = t\n",
    "\n",
    "print(a, b, c)"
   ]
  },
  {
   "cell_type": "code",
   "execution_count": 46,
   "id": "20a846b1",
   "metadata": {},
   "outputs": [
    {
     "name": "stdout",
     "output_type": "stream",
     "text": [
      "4 5 6 7\n"
     ]
    }
   ],
   "source": [
    "#OR\n",
    "\n",
    "a, b, (c, d) = t\n",
    "print(a, b, c, d)"
   ]
  },
  {
   "cell_type": "markdown",
   "id": "unlikely-harmony",
   "metadata": {},
   "source": [
    "### Sets\n",
    "Sets are unordered, unindexed, and do not allow duplicate values. Can add or remove items, but cannot change existing items."
   ]
  },
  {
   "cell_type": "code",
   "execution_count": 47,
   "id": "british-authorization",
   "metadata": {},
   "outputs": [
    {
     "name": "stdout",
     "output_type": "stream",
     "text": [
      "{1, 2, 3, 4, 5}\n"
     ]
    }
   ],
   "source": [
    "#A quick example\n",
    "A = {1, 2, 2, 3, 4, 5, 5}\n",
    "print(A)"
   ]
  },
  {
   "cell_type": "code",
   "execution_count": 48,
   "id": "2e10a213",
   "metadata": {},
   "outputs": [
    {
     "data": {
      "text/plain": [
       "{1, 3, 4, 5, 6}"
      ]
     },
     "execution_count": 48,
     "metadata": {},
     "output_type": "execute_result"
    }
   ],
   "source": [
    "A.add(6)\n",
    "A.discard(2)\n",
    "\n",
    "A"
   ]
  },
  {
   "cell_type": "markdown",
   "id": "4d8e5953",
   "metadata": {},
   "source": [
    "#### Can be a useful shortcut to getting unique elements:"
   ]
  },
  {
   "cell_type": "code",
   "execution_count": 49,
   "id": "84df1099",
   "metadata": {},
   "outputs": [
    {
     "name": "stdout",
     "output_type": "stream",
     "text": [
      "{1, 2, 3, 5}\n",
      "4\n"
     ]
    }
   ],
   "source": [
    "a = [1, 2, 3, 1, 1, 5]\n",
    "\n",
    "print(set(a))\n",
    "\n",
    "print(len(set(a)))"
   ]
  },
  {
   "cell_type": "code",
   "execution_count": 50,
   "id": "daee67ad",
   "metadata": {},
   "outputs": [
    {
     "name": "stdout",
     "output_type": "stream",
     "text": [
      "[1 2 3 5]\n"
     ]
    },
    {
     "data": {
      "text/plain": [
       "4"
      ]
     },
     "execution_count": 50,
     "metadata": {},
     "output_type": "execute_result"
    }
   ],
   "source": [
    "#But numpy serves as well:\n",
    "import numpy as np\n",
    "\n",
    "print(np.unique(a))\n",
    "\n",
    "len(np.unique(a))"
   ]
  },
  {
   "cell_type": "markdown",
   "id": "completed-fighter",
   "metadata": {},
   "source": [
    "## Built-In Sequence Functions"
   ]
  },
  {
   "cell_type": "markdown",
   "id": "qualified-honor",
   "metadata": {},
   "source": [
    "### enumerate"
   ]
  },
  {
   "cell_type": "code",
   "execution_count": 51,
   "id": "posted-placement",
   "metadata": {},
   "outputs": [
    {
     "name": "stdout",
     "output_type": "stream",
     "text": [
      "Index 0 has value: 1\n",
      "Index 1 has value: 5\n",
      "Index 2 has value: 6\n",
      "Index 3 has value: sdf\n",
      "Index 4 has value: 11\n"
     ]
    }
   ],
   "source": [
    "#When we use a for loop, we loop over an iterable object\n",
    "#Often want to track index. Can do:\n",
    "\n",
    "index = 0\n",
    "L = [1,5,6,\"sdf\",11]\n",
    "\n",
    "for k in L:\n",
    "    print(\"Index \" + str(index) + \" has value: \" + str(k))\n",
    "    \n",
    "    index += 1"
   ]
  },
  {
   "cell_type": "code",
   "execution_count": 52,
   "id": "spiritual-uruguay",
   "metadata": {
    "scrolled": true
   },
   "outputs": [
    {
     "name": "stdout",
     "output_type": "stream",
     "text": [
      "Index 0 has value: 1\n",
      "Index 1 has value: 5\n",
      "Index 2 has value: 6\n",
      "Index 3 has value: sdf\n",
      "Index 4 has value: 11\n"
     ]
    }
   ],
   "source": [
    "#Alternative is to use enumerate(): Returns sequence of (i, value) tuples:\n",
    "\n",
    "for index, value in enumerate(L):\n",
    "    print(\"Index \" + str(index) + \" has value: \" + str(value))"
   ]
  },
  {
   "cell_type": "code",
   "execution_count": 53,
   "id": "acknowledged-fancy",
   "metadata": {
    "scrolled": true
   },
   "outputs": [
    {
     "name": "stdout",
     "output_type": "stream",
     "text": [
      "{'archer': 0, 'mage': 1, 'fighter': 2}\n"
     ]
    }
   ],
   "source": [
    "#We can also map the (unique) values in a list to their location in the list, using a dictionary plus enumerate:\n",
    "\n",
    "my_list = ['archer', 'mage', 'fighter']\n",
    "\n",
    "mapping = {}\n",
    "\n",
    "for index, value in enumerate(my_list):\n",
    "    mapping[value] = index\n",
    "    \n",
    "print(mapping)"
   ]
  },
  {
   "cell_type": "code",
   "execution_count": 54,
   "id": "4083dfe0",
   "metadata": {},
   "outputs": [
    {
     "data": {
      "text/plain": [
       "['archer', 'mage', 'barbarian']"
      ]
     },
     "execution_count": 54,
     "metadata": {},
     "output_type": "execute_result"
    }
   ],
   "source": [
    "#Now can do:\n",
    "my_list[mapping['fighter']] = 'barbarian'\n",
    "my_list"
   ]
  },
  {
   "cell_type": "markdown",
   "id": "about-innocent",
   "metadata": {},
   "source": [
    "### zip\n",
    "`zip` pairs elements of other sequences to create a list of tuples:"
   ]
  },
  {
   "cell_type": "code",
   "execution_count": 60,
   "id": "hired-admission",
   "metadata": {},
   "outputs": [
    {
     "name": "stdout",
     "output_type": "stream",
     "text": [
      "<zip object at 0x00000205D2E865C0>\n"
     ]
    }
   ],
   "source": [
    "seq1 = [1, 2, 3]\n",
    "seq2 = [\"one\", \"two\", \"three\"]\n",
    "\n",
    "zipped = zip(seq1, seq2)\n",
    "print(zipped)\n",
    "\n",
    "#print(list(zipped))\n"
   ]
  },
  {
   "cell_type": "code",
   "execution_count": 59,
   "id": "aed8e1db",
   "metadata": {},
   "outputs": [
    {
     "data": {
      "text/plain": [
       "[]"
      ]
     },
     "execution_count": 59,
     "metadata": {},
     "output_type": "execute_result"
    }
   ],
   "source": [
    "list(zipped)"
   ]
  },
  {
   "cell_type": "code",
   "execution_count": 61,
   "id": "ec03e479",
   "metadata": {},
   "outputs": [
    {
     "name": "stdout",
     "output_type": "stream",
     "text": [
      "(1, 2, 3) ('one', 'two', 'three')\n"
     ]
    }
   ],
   "source": [
    "#Can also \"unzip\":\n",
    "########\n",
    "\n",
    "L = list(zipped)\n",
    "\n",
    "a, b = zip(*L)\n",
    "\n",
    "print(a, b)"
   ]
  },
  {
   "cell_type": "code",
   "execution_count": 63,
   "id": "coastal-coalition",
   "metadata": {},
   "outputs": [
    {
     "data": {
      "text/plain": [
       "[(1, 'one', 'A'), (2, 'two', 'B')]"
      ]
     },
     "execution_count": 63,
     "metadata": {},
     "output_type": "execute_result"
    }
   ],
   "source": [
    "#Note if you zip sequences of unequal length:\n",
    "#########\n",
    "\n",
    "seq1 = [1, 2, 3]\n",
    "seq2 = [\"one\", \"two\", \"three\"]\n",
    "seq3 = [\"A\", \"B\"]\n",
    "\n",
    "zipped = zip(seq1, seq2, seq3)\n",
    "l = list(zipped)\n",
    "l"
   ]
  },
  {
   "cell_type": "markdown",
   "id": "spiritual-container",
   "metadata": {},
   "source": [
    "## Control Structures\n",
    "\n",
    "- Conditional statements\n",
    "- `for`, `while`\n",
    "- `range`\n",
    "- `try`-`except`"
   ]
  },
  {
   "cell_type": "code",
   "execution_count": 64,
   "id": "honey-kennedy",
   "metadata": {},
   "outputs": [
    {
     "name": "stdout",
     "output_type": "stream",
     "text": [
      "It is!\n"
     ]
    }
   ],
   "source": [
    "#Basic if-elif-else\n",
    "#####\n",
    "mylist = [1,2,3,4,5]\n",
    "\n",
    "if (2 in mylist):\n",
    "    print('It is!')\n",
    "elif (4 in mylist):\n",
    "    print('Ooh, found this!')\n",
    "elif (7 in mylist):\n",
    "    print('A boring 7.')\n",
    "else:\n",
    "    print('None, oh no!')\n",
    "\n",
    "#More standard comparisons\n",
    "# ==, !=, and, or, <=, >=, <, >"
   ]
  },
  {
   "cell_type": "code",
   "execution_count": null,
   "id": "transsexual-shanghai",
   "metadata": {},
   "outputs": [],
   "source": [
    "#Special option is pass:\n",
    "if (2 == 2):\n",
    "    #I'll implement something brilliant later\n",
    "    pass\n",
    "else:\n",
    "    pass\n"
   ]
  },
  {
   "cell_type": "code",
   "execution_count": 70,
   "id": "c252f0ce",
   "metadata": {},
   "outputs": [
    {
     "name": "stdout",
     "output_type": "stream",
     "text": [
      "Success! But remember, the paths of glory lead but to the grave.\n",
      "Darn.\n"
     ]
    }
   ],
   "source": [
    "#Note try-except\n",
    "####\n",
    "\n",
    "try:\n",
    "    x = (1,2,3)\n",
    "    #x[0] = 99\n",
    "except:\n",
    "    print('Failure!')\n",
    "else:\n",
    "    print('Success! But remember, the paths of glory lead but to the grave.')\n",
    "finally:\n",
    "    print('Darn.')\n",
    "    "
   ]
  },
  {
   "cell_type": "code",
   "execution_count": 71,
   "id": "paperback-train",
   "metadata": {},
   "outputs": [
    {
     "name": "stdout",
     "output_type": "stream",
     "text": [
      "0\n",
      "2\n",
      "4\n",
      "6\n",
      "8\n"
     ]
    }
   ],
   "source": [
    "#For loops\n",
    "#########\n",
    "\n",
    "#Note, we always use \"in\" structure, often with the range function\n",
    "for k in range(0,10,2):\n",
    "    print(k)"
   ]
  },
  {
   "cell_type": "code",
   "execution_count": 73,
   "id": "amateur-coral",
   "metadata": {},
   "outputs": [
    {
     "data": {
      "text/plain": [
       "[0, 1, 2, 3, 4, 5, 6, 7, 8, 9]"
      ]
     },
     "execution_count": 73,
     "metadata": {},
     "output_type": "execute_result"
    }
   ],
   "source": [
    "#Range stuff\n",
    "#######\n",
    "\n",
    "a = range(0,10)\n",
    "a\n",
    "\n",
    "list(a)\n"
   ]
  },
  {
   "cell_type": "code",
   "execution_count": 74,
   "id": "curious-strengthening",
   "metadata": {},
   "outputs": [
    {
     "name": "stdout",
     "output_type": "stream",
     "text": [
      "0\n",
      "3\n",
      "6\n",
      "9\n"
     ]
    }
   ],
   "source": [
    "b = range(0, 10, 3)\n",
    "for k in b:\n",
    "    print(k)"
   ]
  },
  {
   "cell_type": "code",
   "execution_count": 75,
   "id": "settled-owner",
   "metadata": {},
   "outputs": [
    {
     "data": {
      "text/plain": [
       "[0, 2, 4, 6, 8, 10, 12, 14, 16, 18]"
      ]
     },
     "execution_count": 75,
     "metadata": {},
     "output_type": "execute_result"
    }
   ],
   "source": [
    "#Construct list using for and range\n",
    "mylist = [i for i in range(0,20,2)]\n",
    "\n",
    "mylist"
   ]
  },
  {
   "cell_type": "code",
   "execution_count": 76,
   "id": "handled-tourist",
   "metadata": {},
   "outputs": [
    {
     "name": "stdout",
     "output_type": "stream",
     "text": [
      "A\n",
      "B\n",
      "C\n",
      "D\n",
      "\n",
      "('thing1', 12.3)\n",
      "('thing2', 14)\n",
      "('cat', 'hat')\n",
      "('yurtle', 'turtle')\n",
      "(5, 42)\n",
      "\n",
      "thing1 12.3\n",
      "thing2 14\n",
      "cat hat\n",
      "yurtle turtle\n",
      "5 42\n"
     ]
    }
   ],
   "source": [
    "#Can iterate over lots of things:\n",
    "name_list = ['A', 'B', 'C', 'D']\n",
    "my_dict ={'thing1':12.3, 'thing2':14, 'cat':'hat', 'yurtle':'turtle', 5:42}\n",
    "\n",
    "for n in name_list:\n",
    "    print(n)\n",
    "    \n",
    "print('')\n",
    "    \n",
    "for d in my_dict.items():\n",
    "    print(d)\n",
    "    \n",
    "print('')\n",
    "\n",
    "for k in my_dict:\n",
    "    print(k, my_dict[k])"
   ]
  },
  {
   "cell_type": "code",
   "execution_count": 77,
   "id": "absolute-supplier",
   "metadata": {},
   "outputs": [
    {
     "name": "stdout",
     "output_type": "stream",
     "text": [
      "count is now 5\n"
     ]
    }
   ],
   "source": [
    "#The venerable while loop\n",
    "\n",
    "count = 0\n",
    "while (count < 5):\n",
    "    count += 1\n",
    "    \n",
    "print('count is now ' + str(count))"
   ]
  },
  {
   "cell_type": "code",
   "execution_count": 79,
   "id": "dated-charge",
   "metadata": {},
   "outputs": [
    {
     "name": "stdout",
     "output_type": "stream",
     "text": [
      "0\n",
      "1\n",
      "2\n",
      "\n",
      "2\n"
     ]
    }
   ],
   "source": [
    "#We have some special commands for looping:\n",
    "#break, continue\n",
    "my_list = [i for i in range(3,10)]\n",
    "\n",
    "#Let's try to find the first index corresponding to 5 in my_list\n",
    "i = -1\n",
    "for k in range(len(my_list)):\n",
    "    \n",
    "    print(k)\n",
    "    \n",
    "    if (my_list[k] == 5):\n",
    "        i = k\n",
    "        break\n",
    "        \n",
    "    #Let's avoid printing 'Hey!'\n",
    "    continue\n",
    "    \n",
    "    print('Hey!')\n",
    "    \n",
    "print('\\n' + str(i))"
   ]
  },
  {
   "cell_type": "code",
   "execution_count": 80,
   "id": "representative-coordinator",
   "metadata": {},
   "outputs": [
    {
     "data": {
      "text/plain": [
       "2"
      ]
     },
     "execution_count": 80,
     "metadata": {},
     "output_type": "execute_result"
    }
   ],
   "source": [
    "#Compare to:\n",
    "my_list.index(5)\n"
   ]
  },
  {
   "cell_type": "code",
   "execution_count": 81,
   "id": "72a38ffc",
   "metadata": {},
   "outputs": [
    {
     "data": {
      "text/plain": [
       "[3, 4, 5, 6, 7, 8, 9, 1, 5, 5, 2, 5]"
      ]
     },
     "execution_count": 81,
     "metadata": {},
     "output_type": "execute_result"
    }
   ],
   "source": [
    "my_list = [i for i in range(3,10)] + [1,5,5,2,5]\n",
    "my_list"
   ]
  },
  {
   "cell_type": "code",
   "execution_count": 82,
   "id": "1eb95b66",
   "metadata": {},
   "outputs": [
    {
     "data": {
      "text/plain": [
       "[2, 8, 9, 11]"
      ]
     },
     "execution_count": 82,
     "metadata": {},
     "output_type": "execute_result"
    }
   ],
   "source": [
    "#What if we want to find all indices?\n",
    "#Can do with a for loop:\n",
    "my_list = [i for i in range(3,10)] + [1,5,5,2,5]\n",
    "\n",
    "index_list = []\n",
    "\n",
    "for k in range(len(my_list)):\n",
    "    \n",
    "    if (my_list[k] == 5):\n",
    "        index_list.append(k)\n",
    "\n",
    "index_list\n"
   ]
  },
  {
   "cell_type": "code",
   "execution_count": 83,
   "id": "a5f674b0",
   "metadata": {},
   "outputs": [
    {
     "data": {
      "text/plain": [
       "[2, 8, 9, 11]"
      ]
     },
     "execution_count": 83,
     "metadata": {},
     "output_type": "execute_result"
    }
   ],
   "source": [
    "#Or Maximum Python \"List Comprehension\"\n",
    "######\n",
    "\n",
    "index_list = [i for i, x in enumerate(my_list) if x == 5]\n",
    "index_list"
   ]
  },
  {
   "cell_type": "markdown",
   "id": "17f586aa",
   "metadata": {},
   "source": [
    "### List, Set, and Dict Comprehension and being \"Pythonic\"\n",
    "\n",
    "Have already seen basic form of a **list comprehension** is:\n",
    "\n",
    "```\n",
    "[expr for val in collection if condition]\n",
    "```\n",
    "\n",
    "Which is equivalent to:\n",
    "\n",
    "```\n",
    "result = []\n",
    "for val in collection:\n",
    "    if condition:\n",
    "        result.append(expr)\n",
    "```\n",
    "\n",
    "Don't necessarily need the condition, in which case we just append vals all together."
   ]
  },
  {
   "cell_type": "code",
   "execution_count": 84,
   "id": "3fbd9417",
   "metadata": {},
   "outputs": [
    {
     "data": {
      "text/plain": [
       "[1, 2, 3, 4, 5, 6, 7, 8, 9]"
      ]
     },
     "execution_count": 84,
     "metadata": {},
     "output_type": "execute_result"
    }
   ],
   "source": [
    "x = list(range(1,10))\n",
    "x"
   ]
  },
  {
   "cell_type": "code",
   "execution_count": 85,
   "id": "d86fdbdd",
   "metadata": {},
   "outputs": [
    {
     "data": {
      "text/plain": [
       "[1, 4, 27, 16, 5, 216]"
      ]
     },
     "execution_count": 85,
     "metadata": {},
     "output_type": "execute_result"
    }
   ],
   "source": [
    "#Get ridiculous...\n",
    "\n",
    "#Square if divisible by 2 and not 3\n",
    "#Cube if just divisble by 3\n",
    "#Otherwise keep the same\n",
    "#Do for first 6 indices\n",
    "\n",
    "x = list(range(1,10))\n",
    "\n",
    "x = [el**2 if (el % 2 == 0 and el % 3 != 0) else el**3 if el % 3 == 0 else el for i, el in enumerate(x) if i < 6]\n",
    "x\n"
   ]
  },
  {
   "cell_type": "markdown",
   "id": "a7752a3e",
   "metadata": {},
   "source": [
    "#### Set Comprehensions\n",
    "\n",
    "For set comprehensions, we just use `{}` instead of `[]`:\n",
    "\n",
    "```\n",
    "{expr for val in collection if condition}\n",
    "```"
   ]
  },
  {
   "cell_type": "markdown",
   "id": "258b6f0a",
   "metadata": {},
   "source": [
    "#### Dict Comprehensions\n",
    "\n",
    "Use format:\n",
    "\n",
    "```\n",
    "{key-expr : value-expr for value in collection if condition}\n",
    "```\n"
   ]
  },
  {
   "cell_type": "code",
   "execution_count": 86,
   "id": "2cc701a7",
   "metadata": {},
   "outputs": [
    {
     "data": {
      "text/plain": [
       "{1: 3, 2: 4}"
      ]
     },
     "execution_count": 86,
     "metadata": {},
     "output_type": "execute_result"
    }
   ],
   "source": [
    "#Simple example:\n",
    "\n",
    "{a:b for a,b in zip((1,2),(3,4))}"
   ]
  },
  {
   "cell_type": "markdown",
   "id": "colored-stroke",
   "metadata": {},
   "source": [
    "### Functions"
   ]
  },
  {
   "cell_type": "code",
   "execution_count": null,
   "id": "parental-cross",
   "metadata": {},
   "outputs": [],
   "source": [
    "#Let's define our own functions!\n",
    "\n",
    "#Can set default values\n",
    "def add(a = 3, b = 4):\n",
    "    x = a + b\n",
    "    \n",
    "    return(x)"
   ]
  },
  {
   "cell_type": "code",
   "execution_count": null,
   "id": "periodic-sample",
   "metadata": {},
   "outputs": [],
   "source": [
    "#Can return multiple values\n",
    "#Really a tuple\n",
    "\n",
    "def get_123():\n",
    "    return 1,2,3"
   ]
  },
  {
   "cell_type": "code",
   "execution_count": null,
   "id": "6290dc5f",
   "metadata": {},
   "outputs": [],
   "source": [
    "#Try calling...\n",
    "####"
   ]
  },
  {
   "cell_type": "code",
   "execution_count": null,
   "id": "express-mississippi",
   "metadata": {},
   "outputs": [],
   "source": [
    "#Let's consider variable numbers of positional arguments\n",
    "#####\n",
    "def add_n(*args):\n",
    "    \n",
    "    print(args)\n",
    "    \n",
    "    total_sum = 0\n",
    "    \n",
    "    for k in args:\n",
    "        total_sum += k\n",
    "        \n",
    "    return (total_sum)"
   ]
  },
  {
   "cell_type": "code",
   "execution_count": null,
   "id": "29459a0b",
   "metadata": {},
   "outputs": [],
   "source": [
    "add_n(1,2,3)"
   ]
  },
  {
   "cell_type": "code",
   "execution_count": null,
   "id": "parallel-spread",
   "metadata": {},
   "outputs": [],
   "source": [
    "#Let's consider variable numbers of keyword arguments\n",
    "#####\n",
    "def test_var(**kwargs):\n",
    "    \n",
    "    print(kwargs, '\\n')\n",
    "    \n",
    "    for (k,v) in kwargs.items():\n",
    "        print(k,v)\n",
    "        "
   ]
  },
  {
   "cell_type": "code",
   "execution_count": null,
   "id": "8d28ce87",
   "metadata": {},
   "outputs": [],
   "source": [
    "test_var(x=4, fat='rat')"
   ]
  },
  {
   "cell_type": "markdown",
   "id": "resident-carol",
   "metadata": {},
   "source": [
    "### Anonymous Functions"
   ]
  },
  {
   "cell_type": "code",
   "execution_count": null,
   "id": "reserved-technique",
   "metadata": {},
   "outputs": [],
   "source": [
    "#Can define simple functions using lambda:\n",
    "cube = lambda x: x**3\n",
    "mult = lambda x,y: x*y\n",
    "\n",
    "cube(3)"
   ]
  },
  {
   "cell_type": "code",
   "execution_count": null,
   "id": "agreed-clinton",
   "metadata": {},
   "outputs": [],
   "source": [
    "#Can use a lambda expression without naming the function, hence, \"anonymous function\"\n",
    "\n",
    "(lambda x: x**3)(5)\n"
   ]
  },
  {
   "cell_type": "markdown",
   "id": "filled-dispatch",
   "metadata": {},
   "source": [
    "### Generators\n",
    "\n",
    "Iterators are objects that yield, in turn, objects to the Python interpreter when used in a context like a `for` loop:\n",
    "\n",
    "Consider iterating over a range:"
   ]
  },
  {
   "cell_type": "code",
   "execution_count": null,
   "id": "detailed-romantic",
   "metadata": {},
   "outputs": [],
   "source": [
    "for k in range(5):\n",
    "    print(k)\n",
    "    "
   ]
  },
  {
   "cell_type": "code",
   "execution_count": null,
   "id": "induced-nepal",
   "metadata": {},
   "outputs": [],
   "source": [
    "#Python creates an iterator to do this:\n",
    "range_iterator = iter(range(5))\n",
    "\n",
    "range_iterator"
   ]
  },
  {
   "cell_type": "code",
   "execution_count": null,
   "id": "hispanic-investigation",
   "metadata": {},
   "outputs": [],
   "source": [
    "list(range_iterator)\n",
    "\n",
    "#Do twice:\n",
    "#list(range_iterator)"
   ]
  },
  {
   "cell_type": "markdown",
   "id": "thermal-accent",
   "metadata": {},
   "source": [
    "We can make a *generator* to contruct an iterable object.\n",
    "\n",
    "- Generators return a sequence of results *lazily*\n",
    "- Use `yield` instead of `return` in a function\n",
    "\n",
    "Ex:"
   ]
  },
  {
   "cell_type": "code",
   "execution_count": null,
   "id": "damaged-syndrome",
   "metadata": {},
   "outputs": [],
   "source": [
    "#Generate cubes from 1 to n:\n",
    "def gen_cubes(n = 10):\n",
    "    for i in range(1, n+1):\n",
    "        yield i**3"
   ]
  },
  {
   "cell_type": "code",
   "execution_count": null,
   "id": "preliminary-atlas",
   "metadata": {},
   "outputs": [],
   "source": [
    "gen = gen_cubes(int(1e3))\n",
    "gen"
   ]
  },
  {
   "cell_type": "code",
   "execution_count": null,
   "id": "trained-behavior",
   "metadata": {},
   "outputs": [],
   "source": [
    "#for x in gen:\n",
    "#    print(x)\n",
    "    \n",
    "list(gen)"
   ]
  },
  {
   "cell_type": "code",
   "execution_count": null,
   "id": "2f61e9d3",
   "metadata": {},
   "outputs": [],
   "source": [
    "list(gen)"
   ]
  },
  {
   "cell_type": "markdown",
   "id": "taken-milwaukee",
   "metadata": {},
   "source": [
    "#### Can also use a *generator expression*, analogous to list comprehension. Use ():\n",
    "\n",
    "Note that generators are \"forgetful:\" You can only go through the values once:"
   ]
  },
  {
   "cell_type": "code",
   "execution_count": null,
   "id": "dominant-musician",
   "metadata": {},
   "outputs": [],
   "source": [
    "gen = (x ** 2 for x in range(11))\n",
    "\n",
    "#max(gen)\n",
    "\n",
    "for x in gen:\n",
    "    print(x)\n",
    "    \n",
    "list(gen)"
   ]
  },
  {
   "cell_type": "markdown",
   "id": "6e53e465",
   "metadata": {},
   "source": [
    "### A final note on being \"Pythonic\""
   ]
  },
  {
   "cell_type": "code",
   "execution_count": null,
   "id": "eb430d93",
   "metadata": {},
   "outputs": [],
   "source": [
    "import this"
   ]
  },
  {
   "cell_type": "markdown",
   "id": "6c0bb2dd",
   "metadata": {},
   "source": [
    "See **PEP 8**: https://peps.python.org/pep-0008/#introduction\n",
    "\n",
    "\"A Foolish Consistency is the Hobgoblin of Little Minds\"\n",
    "\n",
    "Paragraph from Emerson:\n",
    "\n",
    "\"A foolish consistency is the hobgoblin of little minds, adored by little statesmen and philosophers and divines. With consistency a great soul has simply nothing to do. He may as well concern himself with his shadow on the wall. Speak what you think now in hard words, and to-morrow speak what to-morrow thinks in hard words again, though it contradict every thing you said to-day. -- Ah, so you shall be sure to be misunderstood. -- Is it so bad, then, to be misunderstood? Pythagoras was misunderstood, and Socrates, and Jesus, and Luther, and Copernicus, and Galileo, and Newton, and every pure and wise spirit that ever took flesh. To be great is to be misunderstood.\""
   ]
  },
  {
   "cell_type": "code",
   "execution_count": null,
   "id": "6e0146ad",
   "metadata": {},
   "outputs": [],
   "source": [
    "#Example 1:\n",
    "#Get sum from number a=5 to b=50, inclusive\n",
    "#C-style:\n",
    "a = 5\n",
    "b = 50\n",
    "total_sum = 0\n",
    "\n",
    "while a <= b:\n",
    "    total_sum += a\n",
    "    a += 1\n",
    "total_sum"
   ]
  },
  {
   "cell_type": "code",
   "execution_count": null,
   "id": "778700e8",
   "metadata": {},
   "outputs": [],
   "source": [
    "#Python style\n",
    "total_sum = sum(range(5,51))\n",
    "total_sum"
   ]
  },
  {
   "cell_type": "code",
   "execution_count": null,
   "id": "857c4f2a",
   "metadata": {},
   "outputs": [],
   "source": [
    "#Square every even value in an array\n",
    "#C-style:\n",
    "x = [1, 2, 3, 4, 5, 6, 7, 8]\n",
    "\n",
    "for k in range(len(x)):\n",
    "    if (x[k] % 2 == 0):\n",
    "        x[k] = x[k]**2\n",
    "\n",
    "x"
   ]
  },
  {
   "cell_type": "code",
   "execution_count": null,
   "id": "aa94fe62",
   "metadata": {},
   "outputs": [],
   "source": [
    "#Python style\n",
    "x = [1, 2, 3, 4, 5, 6, 7, 8]\n",
    "\n",
    "x = [el**2 if el % 2 == 0 else el for el in x]\n",
    "x"
   ]
  },
  {
   "cell_type": "markdown",
   "id": "e0cbd2fb",
   "metadata": {},
   "source": [
    "### snake_case is generally considered appropriate for *Python*\n",
    "\n",
    "**snake_case_is_the_best_case**\n",
    "\n",
    "**CamelCase** for classes (aka **StudlyCaps**)"
   ]
  },
  {
   "cell_type": "markdown",
   "id": "6dde8991",
   "metadata": {},
   "source": [
    "<img src=\"https://i.redd.it/24p3e2gvotg31.jpg\" alt=\"Hello World!\" style=\"width:350px;\"/>"
   ]
  }
 ],
 "metadata": {
  "kernelspec": {
   "display_name": "Python 3 (ipykernel)",
   "language": "python",
   "name": "python3"
  },
  "language_info": {
   "codemirror_mode": {
    "name": "ipython",
    "version": 3
   },
   "file_extension": ".py",
   "mimetype": "text/x-python",
   "name": "python",
   "nbconvert_exporter": "python",
   "pygments_lexer": "ipython3",
   "version": "3.9.16"
  }
 },
 "nbformat": 4,
 "nbformat_minor": 5
}
